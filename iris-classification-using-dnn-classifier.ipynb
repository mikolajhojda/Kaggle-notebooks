{
 "cells": [
  {
   "cell_type": "markdown",
   "id": "e272eb26",
   "metadata": {
    "papermill": {
     "duration": 0.00836,
     "end_time": "2022-10-29T13:53:55.351492",
     "exception": false,
     "start_time": "2022-10-29T13:53:55.343132",
     "status": "completed"
    },
    "tags": []
   },
   "source": [
    "# Introduction\n",
    "This is my first notebook with TensorFlow model. I decided to learn this library, so the Iris Classification was a perfect 'hello world'. I used a Deep Neural Network Classifier which is a type of machine learning that mimics the way the brain learns.\n",
    "\n",
    "Here is the documentation: https://www.tensorflow.org/api_docs/python/tf/estimator/DNNClassifier"
   ]
  },
  {
   "cell_type": "markdown",
   "id": "7cce7998",
   "metadata": {
    "papermill": {
     "duration": 0.006416,
     "end_time": "2022-10-29T13:53:55.364649",
     "exception": false,
     "start_time": "2022-10-29T13:53:55.358233",
     "status": "completed"
    },
    "tags": []
   },
   "source": [
    "# Setup"
   ]
  },
  {
   "cell_type": "code",
   "execution_count": 1,
   "id": "e3f6e748",
   "metadata": {
    "_cell_guid": "b1076dfc-b9ad-4769-8c92-a6c4dae69d19",
    "_kg_hide-output": true,
    "_uuid": "8f2839f25d086af736a60e9eeb907d3b93b6e0e5",
    "execution": {
     "iopub.execute_input": "2022-10-29T13:53:55.380247Z",
     "iopub.status.busy": "2022-10-29T13:53:55.379616Z",
     "iopub.status.idle": "2022-10-29T13:54:02.286172Z",
     "shell.execute_reply": "2022-10-29T13:54:02.284838Z"
    },
    "papermill": {
     "duration": 6.918606,
     "end_time": "2022-10-29T13:54:02.289807",
     "exception": false,
     "start_time": "2022-10-29T13:53:55.371201",
     "status": "completed"
    },
    "tags": []
   },
   "outputs": [
    {
     "name": "stdout",
     "output_type": "stream",
     "text": [
      "/kaggle/input/iris-flower-dataset/IRIS.csv\n"
     ]
    }
   ],
   "source": [
    "import numpy as np # linear algebra\n",
    "import pandas as pd # data processing, CSV file I/O (e.g. pd.read_csv)\n",
    "from sklearn.model_selection import train_test_split\n",
    "import tensorflow as tf\n",
    "import seaborn as sns\n",
    "import matplotlib.pyplot as plt\n",
    "\n",
    "import os\n",
    "for dirname, _, filenames in os.walk('/kaggle/input'):\n",
    "    for filename in filenames:\n",
    "        print(os.path.join(dirname, filename))"
   ]
  },
  {
   "cell_type": "code",
   "execution_count": 2,
   "id": "e94201e2",
   "metadata": {
    "execution": {
     "iopub.execute_input": "2022-10-29T13:54:02.306178Z",
     "iopub.status.busy": "2022-10-29T13:54:02.305542Z",
     "iopub.status.idle": "2022-10-29T13:54:02.324150Z",
     "shell.execute_reply": "2022-10-29T13:54:02.323112Z"
    },
    "papermill": {
     "duration": 0.028955,
     "end_time": "2022-10-29T13:54:02.326575",
     "exception": false,
     "start_time": "2022-10-29T13:54:02.297620",
     "status": "completed"
    },
    "tags": []
   },
   "outputs": [],
   "source": [
    "flowers = pd.read_csv('../input/iris-flower-dataset/IRIS.csv')"
   ]
  },
  {
   "cell_type": "markdown",
   "id": "ac106913",
   "metadata": {
    "papermill": {
     "duration": 0.006261,
     "end_time": "2022-10-29T13:54:02.339581",
     "exception": false,
     "start_time": "2022-10-29T13:54:02.333320",
     "status": "completed"
    },
    "tags": []
   },
   "source": [
    "# EDA"
   ]
  },
  {
   "cell_type": "code",
   "execution_count": 3,
   "id": "8825acc1",
   "metadata": {
    "execution": {
     "iopub.execute_input": "2022-10-29T13:54:02.354745Z",
     "iopub.status.busy": "2022-10-29T13:54:02.353998Z",
     "iopub.status.idle": "2022-10-29T13:54:02.376957Z",
     "shell.execute_reply": "2022-10-29T13:54:02.376022Z"
    },
    "papermill": {
     "duration": 0.03345,
     "end_time": "2022-10-29T13:54:02.379588",
     "exception": false,
     "start_time": "2022-10-29T13:54:02.346138",
     "status": "completed"
    },
    "tags": []
   },
   "outputs": [
    {
     "data": {
      "text/html": [
       "<div>\n",
       "<style scoped>\n",
       "    .dataframe tbody tr th:only-of-type {\n",
       "        vertical-align: middle;\n",
       "    }\n",
       "\n",
       "    .dataframe tbody tr th {\n",
       "        vertical-align: top;\n",
       "    }\n",
       "\n",
       "    .dataframe thead th {\n",
       "        text-align: right;\n",
       "    }\n",
       "</style>\n",
       "<table border=\"1\" class=\"dataframe\">\n",
       "  <thead>\n",
       "    <tr style=\"text-align: right;\">\n",
       "      <th></th>\n",
       "      <th>sepal_length</th>\n",
       "      <th>sepal_width</th>\n",
       "      <th>petal_length</th>\n",
       "      <th>petal_width</th>\n",
       "      <th>species</th>\n",
       "    </tr>\n",
       "  </thead>\n",
       "  <tbody>\n",
       "    <tr>\n",
       "      <th>0</th>\n",
       "      <td>5.1</td>\n",
       "      <td>3.5</td>\n",
       "      <td>1.4</td>\n",
       "      <td>0.2</td>\n",
       "      <td>Iris-setosa</td>\n",
       "    </tr>\n",
       "    <tr>\n",
       "      <th>1</th>\n",
       "      <td>4.9</td>\n",
       "      <td>3.0</td>\n",
       "      <td>1.4</td>\n",
       "      <td>0.2</td>\n",
       "      <td>Iris-setosa</td>\n",
       "    </tr>\n",
       "    <tr>\n",
       "      <th>2</th>\n",
       "      <td>4.7</td>\n",
       "      <td>3.2</td>\n",
       "      <td>1.3</td>\n",
       "      <td>0.2</td>\n",
       "      <td>Iris-setosa</td>\n",
       "    </tr>\n",
       "    <tr>\n",
       "      <th>3</th>\n",
       "      <td>4.6</td>\n",
       "      <td>3.1</td>\n",
       "      <td>1.5</td>\n",
       "      <td>0.2</td>\n",
       "      <td>Iris-setosa</td>\n",
       "    </tr>\n",
       "    <tr>\n",
       "      <th>4</th>\n",
       "      <td>5.0</td>\n",
       "      <td>3.6</td>\n",
       "      <td>1.4</td>\n",
       "      <td>0.2</td>\n",
       "      <td>Iris-setosa</td>\n",
       "    </tr>\n",
       "  </tbody>\n",
       "</table>\n",
       "</div>"
      ],
      "text/plain": [
       "   sepal_length  sepal_width  petal_length  petal_width      species\n",
       "0           5.1          3.5           1.4          0.2  Iris-setosa\n",
       "1           4.9          3.0           1.4          0.2  Iris-setosa\n",
       "2           4.7          3.2           1.3          0.2  Iris-setosa\n",
       "3           4.6          3.1           1.5          0.2  Iris-setosa\n",
       "4           5.0          3.6           1.4          0.2  Iris-setosa"
      ]
     },
     "execution_count": 3,
     "metadata": {},
     "output_type": "execute_result"
    }
   ],
   "source": [
    "flowers.head()"
   ]
  },
  {
   "cell_type": "code",
   "execution_count": 4,
   "id": "25a833b9",
   "metadata": {
    "execution": {
     "iopub.execute_input": "2022-10-29T13:54:02.395572Z",
     "iopub.status.busy": "2022-10-29T13:54:02.394823Z",
     "iopub.status.idle": "2022-10-29T13:54:02.431521Z",
     "shell.execute_reply": "2022-10-29T13:54:02.430236Z"
    },
    "papermill": {
     "duration": 0.04753,
     "end_time": "2022-10-29T13:54:02.433966",
     "exception": false,
     "start_time": "2022-10-29T13:54:02.386436",
     "status": "completed"
    },
    "tags": []
   },
   "outputs": [
    {
     "data": {
      "text/html": [
       "<div>\n",
       "<style scoped>\n",
       "    .dataframe tbody tr th:only-of-type {\n",
       "        vertical-align: middle;\n",
       "    }\n",
       "\n",
       "    .dataframe tbody tr th {\n",
       "        vertical-align: top;\n",
       "    }\n",
       "\n",
       "    .dataframe thead th {\n",
       "        text-align: right;\n",
       "    }\n",
       "</style>\n",
       "<table border=\"1\" class=\"dataframe\">\n",
       "  <thead>\n",
       "    <tr style=\"text-align: right;\">\n",
       "      <th></th>\n",
       "      <th>sepal_length</th>\n",
       "      <th>sepal_width</th>\n",
       "      <th>petal_length</th>\n",
       "      <th>petal_width</th>\n",
       "    </tr>\n",
       "  </thead>\n",
       "  <tbody>\n",
       "    <tr>\n",
       "      <th>count</th>\n",
       "      <td>150.000000</td>\n",
       "      <td>150.000000</td>\n",
       "      <td>150.000000</td>\n",
       "      <td>150.000000</td>\n",
       "    </tr>\n",
       "    <tr>\n",
       "      <th>mean</th>\n",
       "      <td>5.843333</td>\n",
       "      <td>3.054000</td>\n",
       "      <td>3.758667</td>\n",
       "      <td>1.198667</td>\n",
       "    </tr>\n",
       "    <tr>\n",
       "      <th>std</th>\n",
       "      <td>0.828066</td>\n",
       "      <td>0.433594</td>\n",
       "      <td>1.764420</td>\n",
       "      <td>0.763161</td>\n",
       "    </tr>\n",
       "    <tr>\n",
       "      <th>min</th>\n",
       "      <td>4.300000</td>\n",
       "      <td>2.000000</td>\n",
       "      <td>1.000000</td>\n",
       "      <td>0.100000</td>\n",
       "    </tr>\n",
       "    <tr>\n",
       "      <th>25%</th>\n",
       "      <td>5.100000</td>\n",
       "      <td>2.800000</td>\n",
       "      <td>1.600000</td>\n",
       "      <td>0.300000</td>\n",
       "    </tr>\n",
       "    <tr>\n",
       "      <th>50%</th>\n",
       "      <td>5.800000</td>\n",
       "      <td>3.000000</td>\n",
       "      <td>4.350000</td>\n",
       "      <td>1.300000</td>\n",
       "    </tr>\n",
       "    <tr>\n",
       "      <th>75%</th>\n",
       "      <td>6.400000</td>\n",
       "      <td>3.300000</td>\n",
       "      <td>5.100000</td>\n",
       "      <td>1.800000</td>\n",
       "    </tr>\n",
       "    <tr>\n",
       "      <th>max</th>\n",
       "      <td>7.900000</td>\n",
       "      <td>4.400000</td>\n",
       "      <td>6.900000</td>\n",
       "      <td>2.500000</td>\n",
       "    </tr>\n",
       "  </tbody>\n",
       "</table>\n",
       "</div>"
      ],
      "text/plain": [
       "       sepal_length  sepal_width  petal_length  petal_width\n",
       "count    150.000000   150.000000    150.000000   150.000000\n",
       "mean       5.843333     3.054000      3.758667     1.198667\n",
       "std        0.828066     0.433594      1.764420     0.763161\n",
       "min        4.300000     2.000000      1.000000     0.100000\n",
       "25%        5.100000     2.800000      1.600000     0.300000\n",
       "50%        5.800000     3.000000      4.350000     1.300000\n",
       "75%        6.400000     3.300000      5.100000     1.800000\n",
       "max        7.900000     4.400000      6.900000     2.500000"
      ]
     },
     "execution_count": 4,
     "metadata": {},
     "output_type": "execute_result"
    }
   ],
   "source": [
    "flowers.describe()"
   ]
  },
  {
   "cell_type": "code",
   "execution_count": 5,
   "id": "a622fb4d",
   "metadata": {
    "execution": {
     "iopub.execute_input": "2022-10-29T13:54:02.451519Z",
     "iopub.status.busy": "2022-10-29T13:54:02.451128Z",
     "iopub.status.idle": "2022-10-29T13:54:02.467773Z",
     "shell.execute_reply": "2022-10-29T13:54:02.466539Z"
    },
    "papermill": {
     "duration": 0.027763,
     "end_time": "2022-10-29T13:54:02.470496",
     "exception": false,
     "start_time": "2022-10-29T13:54:02.442733",
     "status": "completed"
    },
    "tags": []
   },
   "outputs": [
    {
     "name": "stdout",
     "output_type": "stream",
     "text": [
      "<class 'pandas.core.frame.DataFrame'>\n",
      "RangeIndex: 150 entries, 0 to 149\n",
      "Data columns (total 5 columns):\n",
      " #   Column        Non-Null Count  Dtype  \n",
      "---  ------        --------------  -----  \n",
      " 0   sepal_length  150 non-null    float64\n",
      " 1   sepal_width   150 non-null    float64\n",
      " 2   petal_length  150 non-null    float64\n",
      " 3   petal_width   150 non-null    float64\n",
      " 4   species       150 non-null    object \n",
      "dtypes: float64(4), object(1)\n",
      "memory usage: 6.0+ KB\n"
     ]
    }
   ],
   "source": [
    "flowers.info()"
   ]
  },
  {
   "cell_type": "code",
   "execution_count": 6,
   "id": "e6e86651",
   "metadata": {
    "execution": {
     "iopub.execute_input": "2022-10-29T13:54:02.487130Z",
     "iopub.status.busy": "2022-10-29T13:54:02.486078Z",
     "iopub.status.idle": "2022-10-29T13:54:02.494527Z",
     "shell.execute_reply": "2022-10-29T13:54:02.493353Z"
    },
    "papermill": {
     "duration": 0.019259,
     "end_time": "2022-10-29T13:54:02.496853",
     "exception": false,
     "start_time": "2022-10-29T13:54:02.477594",
     "status": "completed"
    },
    "tags": []
   },
   "outputs": [
    {
     "data": {
      "text/plain": [
       "array(['Iris-setosa', 'Iris-versicolor', 'Iris-virginica'], dtype=object)"
      ]
     },
     "execution_count": 6,
     "metadata": {},
     "output_type": "execute_result"
    }
   ],
   "source": [
    "flowers['species'].unique()"
   ]
  },
  {
   "cell_type": "code",
   "execution_count": 7,
   "id": "56a2bfc3",
   "metadata": {
    "execution": {
     "iopub.execute_input": "2022-10-29T13:54:02.513452Z",
     "iopub.status.busy": "2022-10-29T13:54:02.512882Z",
     "iopub.status.idle": "2022-10-29T13:54:03.406220Z",
     "shell.execute_reply": "2022-10-29T13:54:03.405122Z"
    },
    "papermill": {
     "duration": 0.904688,
     "end_time": "2022-10-29T13:54:03.408817",
     "exception": false,
     "start_time": "2022-10-29T13:54:02.504129",
     "status": "completed"
    },
    "tags": []
   },
   "outputs": [
    {
     "data": {
      "text/plain": [
       "[]"
      ]
     },
     "execution_count": 7,
     "metadata": {},
     "output_type": "execute_result"
    },
    {
     "data": {
      "image/png": "[encoded data removed]",
      "text/plain": [
       "<Figure size 463.25x360 with 1 Axes>"
      ]
     },
     "metadata": {
      "needs_background": "light"
     },
     "output_type": "display_data"
    }
   ],
   "source": [
    "sns.lmplot(data = flowers, x = 'petal_length', y = 'petal_width', hue = 'species', \n",
    "           markers = ['x', 'o', '+'], palette = ['green', 'orange', 'dodgerblue'])\n",
    "plt.plot()"
   ]
  },
  {
   "cell_type": "code",
   "execution_count": 8,
   "id": "578ad3de",
   "metadata": {
    "execution": {
     "iopub.execute_input": "2022-10-29T13:54:03.426448Z",
     "iopub.status.busy": "2022-10-29T13:54:03.425625Z",
     "iopub.status.idle": "2022-10-29T13:54:04.190834Z",
     "shell.execute_reply": "2022-10-29T13:54:04.189723Z"
    },
    "papermill": {
     "duration": 0.776905,
     "end_time": "2022-10-29T13:54:04.193498",
     "exception": false,
     "start_time": "2022-10-29T13:54:03.416593",
     "status": "completed"
    },
    "tags": []
   },
   "outputs": [
    {
     "data": {
      "text/plain": [
       "[]"
      ]
     },
     "execution_count": 8,
     "metadata": {},
     "output_type": "execute_result"
    },
    {
     "data": {
      "image/png": "[encoded data removed]",
      "text/plain": [
       "<Figure size 463.25x360 with 1 Axes>"
      ]
     },
     "metadata": {
      "needs_background": "light"
     },
     "output_type": "display_data"
    }
   ],
   "source": [
    "sns.lmplot(data = flowers, x = 'sepal_length', y = 'sepal_width', hue = 'species', \n",
    "           markers = ['x', 'o', '+'], palette = ['green', 'orange', 'dodgerblue'])\n",
    "plt.plot()"
   ]
  },
  {
   "cell_type": "markdown",
   "id": "f6a5fe95",
   "metadata": {
    "papermill": {
     "duration": 0.007959,
     "end_time": "2022-10-29T13:54:04.209840",
     "exception": false,
     "start_time": "2022-10-29T13:54:04.201881",
     "status": "completed"
    },
    "tags": []
   },
   "source": [
    "# Model"
   ]
  },
  {
   "cell_type": "markdown",
   "id": "698ac822",
   "metadata": {
    "papermill": {
     "duration": 0.007855,
     "end_time": "2022-10-29T13:54:04.225956",
     "exception": false,
     "start_time": "2022-10-29T13:54:04.218101",
     "status": "completed"
    },
    "tags": []
   },
   "source": [
    "## Cleaning"
   ]
  },
  {
   "cell_type": "code",
   "execution_count": 9,
   "id": "243f3780",
   "metadata": {
    "execution": {
     "iopub.execute_input": "2022-10-29T13:54:04.244257Z",
     "iopub.status.busy": "2022-10-29T13:54:04.243823Z",
     "iopub.status.idle": "2022-10-29T13:54:04.250590Z",
     "shell.execute_reply": "2022-10-29T13:54:04.249380Z"
    },
    "papermill": {
     "duration": 0.018763,
     "end_time": "2022-10-29T13:54:04.253093",
     "exception": false,
     "start_time": "2022-10-29T13:54:04.234330",
     "status": "completed"
    },
    "tags": []
   },
   "outputs": [],
   "source": [
    "flowers['species'] = flowers['species'].apply(lambda x: 0 if x=='Iris-setosa' else 1 if x=='Iris-versicolor' else 2)"
   ]
  },
  {
   "cell_type": "code",
   "execution_count": 10,
   "id": "a357dc26",
   "metadata": {
    "execution": {
     "iopub.execute_input": "2022-10-29T13:54:04.271559Z",
     "iopub.status.busy": "2022-10-29T13:54:04.271176Z",
     "iopub.status.idle": "2022-10-29T13:54:04.278157Z",
     "shell.execute_reply": "2022-10-29T13:54:04.276753Z"
    },
    "papermill": {
     "duration": 0.019339,
     "end_time": "2022-10-29T13:54:04.280757",
     "exception": false,
     "start_time": "2022-10-29T13:54:04.261418",
     "status": "completed"
    },
    "tags": []
   },
   "outputs": [],
   "source": [
    "X = flowers.drop(columns=['species'])\n",
    "y = flowers['species']"
   ]
  },
  {
   "cell_type": "code",
   "execution_count": 11,
   "id": "1d048b7c",
   "metadata": {
    "execution": {
     "iopub.execute_input": "2022-10-29T13:54:04.299404Z",
     "iopub.status.busy": "2022-10-29T13:54:04.299002Z",
     "iopub.status.idle": "2022-10-29T13:54:04.306480Z",
     "shell.execute_reply": "2022-10-29T13:54:04.305280Z"
    },
    "papermill": {
     "duration": 0.019726,
     "end_time": "2022-10-29T13:54:04.308980",
     "exception": false,
     "start_time": "2022-10-29T13:54:04.289254",
     "status": "completed"
    },
    "tags": []
   },
   "outputs": [],
   "source": [
    "X_train, X_test, y_train, y_test = train_test_split(X, y, test_size=0.2, random_state=42)"
   ]
  },
  {
   "cell_type": "code",
   "execution_count": 12,
   "id": "4cb4af1a",
   "metadata": {
    "execution": {
     "iopub.execute_input": "2022-10-29T13:54:04.327420Z",
     "iopub.status.busy": "2022-10-29T13:54:04.327027Z",
     "iopub.status.idle": "2022-10-29T13:54:04.334257Z",
     "shell.execute_reply": "2022-10-29T13:54:04.333004Z"
    },
    "papermill": {
     "duration": 0.01918,
     "end_time": "2022-10-29T13:54:04.336538",
     "exception": false,
     "start_time": "2022-10-29T13:54:04.317358",
     "status": "completed"
    },
    "tags": []
   },
   "outputs": [
    {
     "data": {
      "text/plain": [
       "(120, 4)"
      ]
     },
     "execution_count": 12,
     "metadata": {},
     "output_type": "execute_result"
    }
   ],
   "source": [
    "X_train.shape"
   ]
  },
  {
   "cell_type": "markdown",
   "id": "5e751d9a",
   "metadata": {
    "papermill": {
     "duration": 0.007982,
     "end_time": "2022-10-29T13:54:04.353058",
     "exception": false,
     "start_time": "2022-10-29T13:54:04.345076",
     "status": "completed"
    },
    "tags": []
   },
   "source": [
    "## Input function"
   ]
  },
  {
   "cell_type": "code",
   "execution_count": 13,
   "id": "bf917647",
   "metadata": {
    "execution": {
     "iopub.execute_input": "2022-10-29T13:54:04.371416Z",
     "iopub.status.busy": "2022-10-29T13:54:04.371024Z",
     "iopub.status.idle": "2022-10-29T13:54:04.377370Z",
     "shell.execute_reply": "2022-10-29T13:54:04.376174Z"
    },
    "papermill": {
     "duration": 0.018268,
     "end_time": "2022-10-29T13:54:04.379644",
     "exception": false,
     "start_time": "2022-10-29T13:54:04.361376",
     "status": "completed"
    },
    "tags": []
   },
   "outputs": [],
   "source": [
    "def input_fn(features, labels, training=True, batch_size=256):\n",
    "    # Convert the inputs to a Dataset.\n",
    "    dataset = tf.data.Dataset.from_tensor_slices((dict(features), labels))\n",
    "\n",
    "    # Shuffle and repeat if you are in training mode.\n",
    "    if training:\n",
    "        dataset = dataset.shuffle(1000).repeat()\n",
    "    \n",
    "    return dataset.batch(batch_size)"
   ]
  },
  {
   "cell_type": "markdown",
   "id": "4f8cb72d",
   "metadata": {
    "papermill": {
     "duration": 0.008047,
     "end_time": "2022-10-29T13:54:04.396306",
     "exception": false,
     "start_time": "2022-10-29T13:54:04.388259",
     "status": "completed"
    },
    "tags": []
   },
   "source": [
    "## Feature columns"
   ]
  },
  {
   "cell_type": "code",
   "execution_count": 14,
   "id": "3033402c",
   "metadata": {
    "execution": {
     "iopub.execute_input": "2022-10-29T13:54:04.414661Z",
     "iopub.status.busy": "2022-10-29T13:54:04.414275Z",
     "iopub.status.idle": "2022-10-29T13:54:04.420937Z",
     "shell.execute_reply": "2022-10-29T13:54:04.419678Z"
    },
    "papermill": {
     "duration": 0.018975,
     "end_time": "2022-10-29T13:54:04.423556",
     "exception": false,
     "start_time": "2022-10-29T13:54:04.404581",
     "status": "completed"
    },
    "tags": []
   },
   "outputs": [
    {
     "name": "stdout",
     "output_type": "stream",
     "text": [
      "[NumericColumn(key='sepal_length', shape=(1,), default_value=None, dtype=tf.float32, normalizer_fn=None), NumericColumn(key='sepal_width', shape=(1,), default_value=None, dtype=tf.float32, normalizer_fn=None), NumericColumn(key='petal_length', shape=(1,), default_value=None, dtype=tf.float32, normalizer_fn=None), NumericColumn(key='petal_width', shape=(1,), default_value=None, dtype=tf.float32, normalizer_fn=None)]\n"
     ]
    }
   ],
   "source": [
    "my_feature_columns = []\n",
    "for key in X_train.keys():\n",
    "    my_feature_columns.append(tf.feature_column.numeric_column(key=key))\n",
    "print(my_feature_columns)"
   ]
  },
  {
   "cell_type": "markdown",
   "id": "32a779ad",
   "metadata": {
    "papermill": {
     "duration": 0.008105,
     "end_time": "2022-10-29T13:54:04.440346",
     "exception": false,
     "start_time": "2022-10-29T13:54:04.432241",
     "status": "completed"
    },
    "tags": []
   },
   "source": [
    "## Model"
   ]
  },
  {
   "cell_type": "code",
   "execution_count": 15,
   "id": "3c19d54e",
   "metadata": {
    "execution": {
     "iopub.execute_input": "2022-10-29T13:54:04.458969Z",
     "iopub.status.busy": "2022-10-29T13:54:04.458528Z",
     "iopub.status.idle": "2022-10-29T13:54:05.879181Z",
     "shell.execute_reply": "2022-10-29T13:54:05.878006Z"
    },
    "papermill": {
     "duration": 1.433117,
     "end_time": "2022-10-29T13:54:05.881810",
     "exception": false,
     "start_time": "2022-10-29T13:54:04.448693",
     "status": "completed"
    },
    "tags": []
   },
   "outputs": [
    {
     "name": "stderr",
     "output_type": "stream",
     "text": [
      "2022-10-29 13:54:05.846657: I tensorflow/core/common_runtime/process_util.cc:146] Creating new thread pool with default inter op setting: 2. Tune using inter_op_parallelism_threads for best performance.\n"
     ]
    }
   ],
   "source": [
    "classifier = tf.estimator.DNNClassifier(\n",
    "    feature_columns=my_feature_columns,\n",
    "    # Two hidden layers of 30 and 10 nodes respectively.\n",
    "    hidden_units=[30, 10],\n",
    "    # The model must choose between 3 classes.\n",
    "    n_classes=3)"
   ]
  },
  {
   "cell_type": "markdown",
   "id": "45f5062b",
   "metadata": {
    "papermill": {
     "duration": 0.008647,
     "end_time": "2022-10-29T13:54:05.899307",
     "exception": false,
     "start_time": "2022-10-29T13:54:05.890660",
     "status": "completed"
    },
    "tags": []
   },
   "source": [
    "## Training"
   ]
  },
  {
   "cell_type": "code",
   "execution_count": 16,
   "id": "3084680e",
   "metadata": {
    "_kg_hide-output": true,
    "execution": {
     "iopub.execute_input": "2022-10-29T13:54:05.919311Z",
     "iopub.status.busy": "2022-10-29T13:54:05.918131Z",
     "iopub.status.idle": "2022-10-29T13:54:22.263177Z",
     "shell.execute_reply": "2022-10-29T13:54:22.262059Z"
    },
    "papermill": {
     "duration": 16.357753,
     "end_time": "2022-10-29T13:54:22.265724",
     "exception": false,
     "start_time": "2022-10-29T13:54:05.907971",
     "status": "completed"
    },
    "tags": []
   },
   "outputs": [
    {
     "name": "stderr",
     "output_type": "stream",
     "text": [
      "2022-10-29 13:54:06.648375: I tensorflow/core/common_runtime/process_util.cc:146] Creating new thread pool with default inter op setting: 2. Tune using inter_op_parallelism_threads for best performance.\n"
     ]
    },
    {
     "data": {
      "text/plain": [
       "<tensorflow_estimator.python.estimator.canned.dnn.DNNClassifierV2 at 0x7ff6c6526350>"
      ]
     },
     "execution_count": 16,
     "metadata": {},
     "output_type": "execute_result"
    }
   ],
   "source": [
    "classifier.train(\n",
    "    input_fn=lambda: input_fn(X_train, y_train, training=True),\n",
    "    steps=5000)"
   ]
  },
  {
   "cell_type": "markdown",
   "id": "2cb4514d",
   "metadata": {
    "papermill": {
     "duration": 0.008431,
     "end_time": "2022-10-29T13:54:22.283228",
     "exception": false,
     "start_time": "2022-10-29T13:54:22.274797",
     "status": "completed"
    },
    "tags": []
   },
   "source": [
    "## Evaluation"
   ]
  },
  {
   "cell_type": "code",
   "execution_count": 17,
   "id": "4f2d9765",
   "metadata": {
    "execution": {
     "iopub.execute_input": "2022-10-29T13:54:22.302777Z",
     "iopub.status.busy": "2022-10-29T13:54:22.302399Z",
     "iopub.status.idle": "2022-10-29T13:54:23.088454Z",
     "shell.execute_reply": "2022-10-29T13:54:23.086465Z"
    },
    "papermill": {
     "duration": 0.799489,
     "end_time": "2022-10-29T13:54:23.091477",
     "exception": false,
     "start_time": "2022-10-29T13:54:22.291988",
     "status": "completed"
    },
    "tags": []
   },
   "outputs": [
    {
     "name": "stdout",
     "output_type": "stream",
     "text": [
      "\n",
      "Test set accuracy: 0.767\n",
      "\n"
     ]
    }
   ],
   "source": [
    "eval_result = classifier.evaluate(\n",
    "    input_fn=lambda: input_fn(X_test, y_test, training=False))\n",
    "\n",
    "print('\\nTest set accuracy: {accuracy:0.3f}\\n'.format(**eval_result))"
   ]
  },
  {
   "cell_type": "markdown",
   "id": "b5790284",
   "metadata": {
    "papermill": {
     "duration": 0.008598,
     "end_time": "2022-10-29T13:54:23.109472",
     "exception": false,
     "start_time": "2022-10-29T13:54:23.100874",
     "status": "completed"
    },
    "tags": []
   },
   "source": [
    "## Predictions"
   ]
  },
  {
   "cell_type": "code",
   "execution_count": 18,
   "id": "35ffe275",
   "metadata": {
    "execution": {
     "iopub.execute_input": "2022-10-29T13:54:23.129375Z",
     "iopub.status.busy": "2022-10-29T13:54:23.128586Z",
     "iopub.status.idle": "2022-10-29T13:54:23.495598Z",
     "shell.execute_reply": "2022-10-29T13:54:23.493815Z"
    },
    "papermill": {
     "duration": 0.380382,
     "end_time": "2022-10-29T13:54:23.498759",
     "exception": false,
     "start_time": "2022-10-29T13:54:23.118377",
     "status": "completed"
    },
    "tags": []
   },
   "outputs": [
    {
     "name": "stdout",
     "output_type": "stream",
     "text": [
      "Prediction is \"Setosa\" (66.6%)\n",
      "Prediction is \"Setosa\" (34.0%)\n",
      "Prediction is \"Virginica\" (45.5%)\n"
     ]
    }
   ],
   "source": [
    "expected = [0, 1, 2]\n",
    "predict_x = {\n",
    "    'sepal_length': [5.1, 5.9, 6.9],\n",
    "    'sepal_width': [3.3, 3.0, 3.1],\n",
    "    'petal_length': [1.7, 4.2, 5.4],\n",
    "    'petal_width': [0.5, 1.5, 2.1],\n",
    "}\n",
    "species = ['Setosa', 'Versicolor', 'Virginica']\n",
    "\n",
    "features = ['sepal_length', 'sepal_width', 'petal_length', 'petal_width']\n",
    "predict = {}\n",
    "\n",
    "def input_fn(features, batch_size=256):\n",
    "    # Convert the inputs to a Dataset without labels.\n",
    "    return tf.data.Dataset.from_tensor_slices(dict(features)).batch(batch_size)\n",
    "\n",
    "predictions = classifier.predict(input_fn=lambda: input_fn(predict_x))\n",
    "for pred_dict in predictions:\n",
    "    class_id = pred_dict['class_ids'][0]\n",
    "    probability = pred_dict['probabilities'][class_id]\n",
    "    print('Prediction is \"{}\" ({:.1f}%)'.format(\n",
    "        species[class_id], 100 * probability))"
   ]
  }
 ],
 "metadata": {
  "kernelspec": {
   "display_name": "Python 3",
   "language": "python",
   "name": "python3"
  },
  "language_info": {
   "codemirror_mode": {
    "name": "ipython",
    "version": 3
   },
   "file_extension": ".py",
   "mimetype": "text/x-python",
   "name": "python",
   "nbconvert_exporter": "python",
   "pygments_lexer": "ipython3",
   "version": "3.7.12"
  },
  "papermill": {
   "default_parameters": {},
   "duration": 40.21432,
   "end_time": "2022-10-29T13:54:26.721267",
   "environment_variables": {},
   "exception": null,
   "input_path": "__notebook__.ipynb",
   "output_path": "__notebook__.ipynb",
   "parameters": {},
   "start_time": "2022-10-29T13:53:46.506947",
   "version": "2.3.4"
  }
 },
 "nbformat": 4,
 "nbformat_minor": 5
}
