{
 "cells": [
  {
   "cell_type": "markdown",
   "id": "a1616cb7",
   "metadata": {
    "papermill": {
     "duration": 0.010056,
     "end_time": "2023-12-06T10:20:18.317869",
     "exception": false,
     "start_time": "2023-12-06T10:20:18.307813",
     "status": "completed"
    },
    "tags": []
   },
   "source": [
    "# Text Vectorization\n",
    "\n",
    "Text Vectorization is the process of converting text into numerical representation.\n",
    "\n",
    "## [Count Vectorizer](#1)\n",
    "\n",
    "We'll use one of the simplest ways of doing text vectorization - count vectorizer. It creates a document term matrix, which is a set of dummy variables that indicates if a particular word appears in the document. Count vectorizer will fit and learn the word vocabulary and try to create a document term matrix in which the individual cells denote the frequency of that word in a particular document, which is also known as term frequency, and the columns are dedicated to each word in the corpus.\n",
    "\n",
    "We can visualize it by this graph:"
   ]
  },
  {
   "cell_type": "markdown",
   "id": "4de187f1",
   "metadata": {
    "papermill": {
     "duration": 0.008103,
     "end_time": "2023-12-06T10:20:18.334775",
     "exception": false,
     "start_time": "2023-12-06T10:20:18.326672",
     "status": "completed"
    },
    "tags": []
   },
   "source": [
    "![](https://miro.medium.com/v2/resize:fit:714/1*UOjWvDziH86T2MmiDpp98Q.png)"
   ]
  },
  {
   "cell_type": "markdown",
   "id": "05a9d9e6",
   "metadata": {
    "papermill": {
     "duration": 0.008174,
     "end_time": "2023-12-06T10:20:18.351510",
     "exception": false,
     "start_time": "2023-12-06T10:20:18.343336",
     "status": "completed"
    },
    "tags": []
   },
   "source": [
    "## [TF-IDF Vectorizer](#2) \n",
    "\n",
    "Term frequency-inverse document frequency is a text vectorizer that transforms the text into a usable vector. It combines 2 concepts, Term Frequency (TF) and Document Frequency (DF).\n",
    "\n",
    "The term frequency is the number of occurrences of a specific term in a document. Term frequency indicates how important a specific term in a document. Term frequency represents every text from the data as a matrix whose rows are the number of documents and columns are the number of distinct terms throughout all documents."
   ]
  },
  {
   "cell_type": "markdown",
   "id": "707da543",
   "metadata": {
    "papermill": {
     "duration": 0.008259,
     "end_time": "2023-12-06T10:20:18.368205",
     "exception": false,
     "start_time": "2023-12-06T10:20:18.359946",
     "status": "completed"
    },
    "tags": []
   },
   "source": [
    "![](https://miro.medium.com/v2/resize:fit:1400/1*V9ac4hLVyms79jl65Ym_Bw.jpeg)"
   ]
  },
  {
   "cell_type": "markdown",
   "id": "7f8323b7",
   "metadata": {
    "papermill": {
     "duration": 0.008148,
     "end_time": "2023-12-06T10:20:18.384942",
     "exception": false,
     "start_time": "2023-12-06T10:20:18.376794",
     "status": "completed"
    },
    "tags": []
   },
   "source": [
    "# Setup"
   ]
  },
  {
   "cell_type": "code",
   "execution_count": 1,
   "id": "edfc9f09",
   "metadata": {
    "_cell_guid": "b1076dfc-b9ad-4769-8c92-a6c4dae69d19",
    "_kg_hide-output": true,
    "_uuid": "8f2839f25d086af736a60e9eeb907d3b93b6e0e5",
    "execution": {
     "iopub.execute_input": "2023-12-06T10:20:18.404925Z",
     "iopub.status.busy": "2023-12-06T10:20:18.404072Z",
     "iopub.status.idle": "2023-12-06T10:20:29.735254Z",
     "shell.execute_reply": "2023-12-06T10:20:29.733123Z"
    },
    "papermill": {
     "duration": 11.344955,
     "end_time": "2023-12-06T10:20:29.738424",
     "exception": false,
     "start_time": "2023-12-06T10:20:18.393469",
     "status": "completed"
    },
    "tags": []
   },
   "outputs": [
    {
     "name": "stdout",
     "output_type": "stream",
     "text": [
      "/kaggle/input/nlp-getting-started/sample_submission.csv\n",
      "/kaggle/input/nlp-getting-started/train.csv\n",
      "/kaggle/input/nlp-getting-started/test.csv\n"
     ]
    }
   ],
   "source": [
    "import numpy as np # linear algebra\n",
    "import pandas as pd # data processing, CSV file I/O (e.g. pd.read_csv)\n",
    "from sklearn.preprocessing import StandardScaler, LabelEncoder\n",
    "import tensorflow as tf\n",
    "from tensorflow import keras\n",
    "from tensorflow.keras import layers\n",
    "\n",
    "import os\n",
    "for dirname, _, filenames in os.walk('/kaggle/input'):\n",
    "    for filename in filenames:\n",
    "        print(os.path.join(dirname, filename))"
   ]
  },
  {
   "cell_type": "code",
   "execution_count": 2,
   "id": "871823a0",
   "metadata": {
    "_kg_hide-input": true,
    "execution": {
     "iopub.execute_input": "2023-12-06T10:20:29.761406Z",
     "iopub.status.busy": "2023-12-06T10:20:29.758712Z",
     "iopub.status.idle": "2023-12-06T10:20:29.860368Z",
     "shell.execute_reply": "2023-12-06T10:20:29.858731Z"
    },
    "papermill": {
     "duration": 0.116009,
     "end_time": "2023-12-06T10:20:29.863747",
     "exception": false,
     "start_time": "2023-12-06T10:20:29.747738",
     "status": "completed"
    },
    "tags": []
   },
   "outputs": [],
   "source": [
    "train = pd.read_csv('/kaggle/input/nlp-getting-started/train.csv')\n",
    "test = pd.read_csv('/kaggle/input/nlp-getting-started/test.csv')"
   ]
  },
  {
   "cell_type": "markdown",
   "id": "b4ace9cb",
   "metadata": {
    "papermill": {
     "duration": 0.008857,
     "end_time": "2023-12-06T10:20:29.881608",
     "exception": false,
     "start_time": "2023-12-06T10:20:29.872751",
     "status": "completed"
    },
    "tags": []
   },
   "source": [
    "# Exploratory Data Analysis"
   ]
  },
  {
   "cell_type": "code",
   "execution_count": 3,
   "id": "2c725fde",
   "metadata": {
    "_kg_hide-input": true,
    "execution": {
     "iopub.execute_input": "2023-12-06T10:20:29.901884Z",
     "iopub.status.busy": "2023-12-06T10:20:29.901340Z",
     "iopub.status.idle": "2023-12-06T10:20:29.909251Z",
     "shell.execute_reply": "2023-12-06T10:20:29.907409Z"
    },
    "papermill": {
     "duration": 0.021871,
     "end_time": "2023-12-06T10:20:29.912468",
     "exception": false,
     "start_time": "2023-12-06T10:20:29.890597",
     "status": "completed"
    },
    "tags": []
   },
   "outputs": [
    {
     "name": "stdout",
     "output_type": "stream",
     "text": [
      "(7613, 5)\n",
      "(3263, 4)\n"
     ]
    }
   ],
   "source": [
    "print(train.shape)\n",
    "print(test.shape)"
   ]
  },
  {
   "cell_type": "code",
   "execution_count": 4,
   "id": "0e554920",
   "metadata": {
    "_kg_hide-input": true,
    "execution": {
     "iopub.execute_input": "2023-12-06T10:20:29.934128Z",
     "iopub.status.busy": "2023-12-06T10:20:29.933187Z",
     "iopub.status.idle": "2023-12-06T10:20:29.969282Z",
     "shell.execute_reply": "2023-12-06T10:20:29.967836Z"
    },
    "papermill": {
     "duration": 0.051014,
     "end_time": "2023-12-06T10:20:29.972435",
     "exception": false,
     "start_time": "2023-12-06T10:20:29.921421",
     "status": "completed"
    },
    "tags": []
   },
   "outputs": [
    {
     "data": {
      "text/html": [
       "<div>\n",
       "<style scoped>\n",
       "    .dataframe tbody tr th:only-of-type {\n",
       "        vertical-align: middle;\n",
       "    }\n",
       "\n",
       "    .dataframe tbody tr th {\n",
       "        vertical-align: top;\n",
       "    }\n",
       "\n",
       "    .dataframe thead th {\n",
       "        text-align: right;\n",
       "    }\n",
       "</style>\n",
       "<table border=\"1\" class=\"dataframe\">\n",
       "  <thead>\n",
       "    <tr style=\"text-align: right;\">\n",
       "      <th></th>\n",
       "      <th>id</th>\n",
       "      <th>keyword</th>\n",
       "      <th>location</th>\n",
       "      <th>text</th>\n",
       "      <th>target</th>\n",
       "    </tr>\n",
       "  </thead>\n",
       "  <tbody>\n",
       "    <tr>\n",
       "      <th>0</th>\n",
       "      <td>1</td>\n",
       "      <td>NaN</td>\n",
       "      <td>NaN</td>\n",
       "      <td>Our Deeds are the Reason of this #earthquake M...</td>\n",
       "      <td>1</td>\n",
       "    </tr>\n",
       "    <tr>\n",
       "      <th>1</th>\n",
       "      <td>4</td>\n",
       "      <td>NaN</td>\n",
       "      <td>NaN</td>\n",
       "      <td>Forest fire near La Ronge Sask. Canada</td>\n",
       "      <td>1</td>\n",
       "    </tr>\n",
       "    <tr>\n",
       "      <th>2</th>\n",
       "      <td>5</td>\n",
       "      <td>NaN</td>\n",
       "      <td>NaN</td>\n",
       "      <td>All residents asked to 'shelter in place' are ...</td>\n",
       "      <td>1</td>\n",
       "    </tr>\n",
       "    <tr>\n",
       "      <th>3</th>\n",
       "      <td>6</td>\n",
       "      <td>NaN</td>\n",
       "      <td>NaN</td>\n",
       "      <td>13,000 people receive #wildfires evacuation or...</td>\n",
       "      <td>1</td>\n",
       "    </tr>\n",
       "    <tr>\n",
       "      <th>4</th>\n",
       "      <td>7</td>\n",
       "      <td>NaN</td>\n",
       "      <td>NaN</td>\n",
       "      <td>Just got sent this photo from Ruby #Alaska as ...</td>\n",
       "      <td>1</td>\n",
       "    </tr>\n",
       "  </tbody>\n",
       "</table>\n",
       "</div>"
      ],
      "text/plain": [
       "   id keyword location                                               text  \\\n",
       "0   1     NaN      NaN  Our Deeds are the Reason of this #earthquake M...   \n",
       "1   4     NaN      NaN             Forest fire near La Ronge Sask. Canada   \n",
       "2   5     NaN      NaN  All residents asked to 'shelter in place' are ...   \n",
       "3   6     NaN      NaN  13,000 people receive #wildfires evacuation or...   \n",
       "4   7     NaN      NaN  Just got sent this photo from Ruby #Alaska as ...   \n",
       "\n",
       "   target  \n",
       "0       1  \n",
       "1       1  \n",
       "2       1  \n",
       "3       1  \n",
       "4       1  "
      ]
     },
     "execution_count": 4,
     "metadata": {},
     "output_type": "execute_result"
    }
   ],
   "source": [
    "train.head()"
   ]
  },
  {
   "cell_type": "code",
   "execution_count": 5,
   "id": "22612482",
   "metadata": {
    "_kg_hide-input": true,
    "execution": {
     "iopub.execute_input": "2023-12-06T10:20:29.995272Z",
     "iopub.status.busy": "2023-12-06T10:20:29.994401Z",
     "iopub.status.idle": "2023-12-06T10:20:30.011182Z",
     "shell.execute_reply": "2023-12-06T10:20:30.009507Z"
    },
    "papermill": {
     "duration": 0.032668,
     "end_time": "2023-12-06T10:20:30.014819",
     "exception": false,
     "start_time": "2023-12-06T10:20:29.982151",
     "status": "completed"
    },
    "tags": []
   },
   "outputs": [
    {
     "data": {
      "text/html": [
       "<div>\n",
       "<style scoped>\n",
       "    .dataframe tbody tr th:only-of-type {\n",
       "        vertical-align: middle;\n",
       "    }\n",
       "\n",
       "    .dataframe tbody tr th {\n",
       "        vertical-align: top;\n",
       "    }\n",
       "\n",
       "    .dataframe thead th {\n",
       "        text-align: right;\n",
       "    }\n",
       "</style>\n",
       "<table border=\"1\" class=\"dataframe\">\n",
       "  <thead>\n",
       "    <tr style=\"text-align: right;\">\n",
       "      <th></th>\n",
       "      <th>id</th>\n",
       "      <th>keyword</th>\n",
       "      <th>location</th>\n",
       "      <th>text</th>\n",
       "      <th>target</th>\n",
       "    </tr>\n",
       "  </thead>\n",
       "  <tbody>\n",
       "    <tr>\n",
       "      <th>7608</th>\n",
       "      <td>10869</td>\n",
       "      <td>NaN</td>\n",
       "      <td>NaN</td>\n",
       "      <td>Two giant cranes holding a bridge collapse int...</td>\n",
       "      <td>1</td>\n",
       "    </tr>\n",
       "    <tr>\n",
       "      <th>7609</th>\n",
       "      <td>10870</td>\n",
       "      <td>NaN</td>\n",
       "      <td>NaN</td>\n",
       "      <td>@aria_ahrary @TheTawniest The out of control w...</td>\n",
       "      <td>1</td>\n",
       "    </tr>\n",
       "    <tr>\n",
       "      <th>7610</th>\n",
       "      <td>10871</td>\n",
       "      <td>NaN</td>\n",
       "      <td>NaN</td>\n",
       "      <td>M1.94 [01:04 UTC]?5km S of Volcano Hawaii. htt...</td>\n",
       "      <td>1</td>\n",
       "    </tr>\n",
       "    <tr>\n",
       "      <th>7611</th>\n",
       "      <td>10872</td>\n",
       "      <td>NaN</td>\n",
       "      <td>NaN</td>\n",
       "      <td>Police investigating after an e-bike collided ...</td>\n",
       "      <td>1</td>\n",
       "    </tr>\n",
       "    <tr>\n",
       "      <th>7612</th>\n",
       "      <td>10873</td>\n",
       "      <td>NaN</td>\n",
       "      <td>NaN</td>\n",
       "      <td>The Latest: More Homes Razed by Northern Calif...</td>\n",
       "      <td>1</td>\n",
       "    </tr>\n",
       "  </tbody>\n",
       "</table>\n",
       "</div>"
      ],
      "text/plain": [
       "         id keyword location  \\\n",
       "7608  10869     NaN      NaN   \n",
       "7609  10870     NaN      NaN   \n",
       "7610  10871     NaN      NaN   \n",
       "7611  10872     NaN      NaN   \n",
       "7612  10873     NaN      NaN   \n",
       "\n",
       "                                                   text  target  \n",
       "7608  Two giant cranes holding a bridge collapse int...       1  \n",
       "7609  @aria_ahrary @TheTawniest The out of control w...       1  \n",
       "7610  M1.94 [01:04 UTC]?5km S of Volcano Hawaii. htt...       1  \n",
       "7611  Police investigating after an e-bike collided ...       1  \n",
       "7612  The Latest: More Homes Razed by Northern Calif...       1  "
      ]
     },
     "execution_count": 5,
     "metadata": {},
     "output_type": "execute_result"
    }
   ],
   "source": [
    "train.tail()"
   ]
  },
  {
   "cell_type": "code",
   "execution_count": 6,
   "id": "5b9d0a34",
   "metadata": {
    "_kg_hide-input": true,
    "execution": {
     "iopub.execute_input": "2023-12-06T10:20:30.036210Z",
     "iopub.status.busy": "2023-12-06T10:20:30.035761Z",
     "iopub.status.idle": "2023-12-06T10:20:30.070097Z",
     "shell.execute_reply": "2023-12-06T10:20:30.068965Z"
    },
    "papermill": {
     "duration": 0.049467,
     "end_time": "2023-12-06T10:20:30.073845",
     "exception": false,
     "start_time": "2023-12-06T10:20:30.024378",
     "status": "completed"
    },
    "tags": []
   },
   "outputs": [
    {
     "name": "stdout",
     "output_type": "stream",
     "text": [
      "<class 'pandas.core.frame.DataFrame'>\n",
      "RangeIndex: 7613 entries, 0 to 7612\n",
      "Data columns (total 5 columns):\n",
      " #   Column    Non-Null Count  Dtype \n",
      "---  ------    --------------  ----- \n",
      " 0   id        7613 non-null   int64 \n",
      " 1   keyword   7552 non-null   object\n",
      " 2   location  5080 non-null   object\n",
      " 3   text      7613 non-null   object\n",
      " 4   target    7613 non-null   int64 \n",
      "dtypes: int64(2), object(3)\n",
      "memory usage: 297.5+ KB\n"
     ]
    }
   ],
   "source": [
    "train.info()"
   ]
  },
  {
   "cell_type": "code",
   "execution_count": 7,
   "id": "52fdef83",
   "metadata": {
    "_kg_hide-input": true,
    "execution": {
     "iopub.execute_input": "2023-12-06T10:20:30.097145Z",
     "iopub.status.busy": "2023-12-06T10:20:30.096273Z",
     "iopub.status.idle": "2023-12-06T10:20:30.145627Z",
     "shell.execute_reply": "2023-12-06T10:20:30.144451Z"
    },
    "papermill": {
     "duration": 0.065035,
     "end_time": "2023-12-06T10:20:30.148776",
     "exception": false,
     "start_time": "2023-12-06T10:20:30.083741",
     "status": "completed"
    },
    "tags": []
   },
   "outputs": [
    {
     "data": {
      "text/html": [
       "<div>\n",
       "<style scoped>\n",
       "    .dataframe tbody tr th:only-of-type {\n",
       "        vertical-align: middle;\n",
       "    }\n",
       "\n",
       "    .dataframe tbody tr th {\n",
       "        vertical-align: top;\n",
       "    }\n",
       "\n",
       "    .dataframe thead th {\n",
       "        text-align: right;\n",
       "    }\n",
       "</style>\n",
       "<table border=\"1\" class=\"dataframe\">\n",
       "  <thead>\n",
       "    <tr style=\"text-align: right;\">\n",
       "      <th></th>\n",
       "      <th>id</th>\n",
       "      <th>keyword</th>\n",
       "      <th>location</th>\n",
       "      <th>text</th>\n",
       "      <th>target</th>\n",
       "    </tr>\n",
       "  </thead>\n",
       "  <tbody>\n",
       "    <tr>\n",
       "      <th>count</th>\n",
       "      <td>7613.000000</td>\n",
       "      <td>7552</td>\n",
       "      <td>5080</td>\n",
       "      <td>7613</td>\n",
       "      <td>7613.00000</td>\n",
       "    </tr>\n",
       "    <tr>\n",
       "      <th>unique</th>\n",
       "      <td>NaN</td>\n",
       "      <td>221</td>\n",
       "      <td>3341</td>\n",
       "      <td>7503</td>\n",
       "      <td>NaN</td>\n",
       "    </tr>\n",
       "    <tr>\n",
       "      <th>top</th>\n",
       "      <td>NaN</td>\n",
       "      <td>fatalities</td>\n",
       "      <td>USA</td>\n",
       "      <td>11-Year-Old Boy Charged With Manslaughter of T...</td>\n",
       "      <td>NaN</td>\n",
       "    </tr>\n",
       "    <tr>\n",
       "      <th>freq</th>\n",
       "      <td>NaN</td>\n",
       "      <td>45</td>\n",
       "      <td>104</td>\n",
       "      <td>10</td>\n",
       "      <td>NaN</td>\n",
       "    </tr>\n",
       "    <tr>\n",
       "      <th>mean</th>\n",
       "      <td>5441.934848</td>\n",
       "      <td>NaN</td>\n",
       "      <td>NaN</td>\n",
       "      <td>NaN</td>\n",
       "      <td>0.42966</td>\n",
       "    </tr>\n",
       "    <tr>\n",
       "      <th>std</th>\n",
       "      <td>3137.116090</td>\n",
       "      <td>NaN</td>\n",
       "      <td>NaN</td>\n",
       "      <td>NaN</td>\n",
       "      <td>0.49506</td>\n",
       "    </tr>\n",
       "    <tr>\n",
       "      <th>min</th>\n",
       "      <td>1.000000</td>\n",
       "      <td>NaN</td>\n",
       "      <td>NaN</td>\n",
       "      <td>NaN</td>\n",
       "      <td>0.00000</td>\n",
       "    </tr>\n",
       "    <tr>\n",
       "      <th>25%</th>\n",
       "      <td>2734.000000</td>\n",
       "      <td>NaN</td>\n",
       "      <td>NaN</td>\n",
       "      <td>NaN</td>\n",
       "      <td>0.00000</td>\n",
       "    </tr>\n",
       "    <tr>\n",
       "      <th>50%</th>\n",
       "      <td>5408.000000</td>\n",
       "      <td>NaN</td>\n",
       "      <td>NaN</td>\n",
       "      <td>NaN</td>\n",
       "      <td>0.00000</td>\n",
       "    </tr>\n",
       "    <tr>\n",
       "      <th>75%</th>\n",
       "      <td>8146.000000</td>\n",
       "      <td>NaN</td>\n",
       "      <td>NaN</td>\n",
       "      <td>NaN</td>\n",
       "      <td>1.00000</td>\n",
       "    </tr>\n",
       "    <tr>\n",
       "      <th>max</th>\n",
       "      <td>10873.000000</td>\n",
       "      <td>NaN</td>\n",
       "      <td>NaN</td>\n",
       "      <td>NaN</td>\n",
       "      <td>1.00000</td>\n",
       "    </tr>\n",
       "  </tbody>\n",
       "</table>\n",
       "</div>"
      ],
      "text/plain": [
       "                  id     keyword location  \\\n",
       "count    7613.000000        7552     5080   \n",
       "unique           NaN         221     3341   \n",
       "top              NaN  fatalities      USA   \n",
       "freq             NaN          45      104   \n",
       "mean     5441.934848         NaN      NaN   \n",
       "std      3137.116090         NaN      NaN   \n",
       "min         1.000000         NaN      NaN   \n",
       "25%      2734.000000         NaN      NaN   \n",
       "50%      5408.000000         NaN      NaN   \n",
       "75%      8146.000000         NaN      NaN   \n",
       "max     10873.000000         NaN      NaN   \n",
       "\n",
       "                                                     text      target  \n",
       "count                                                7613  7613.00000  \n",
       "unique                                               7503         NaN  \n",
       "top     11-Year-Old Boy Charged With Manslaughter of T...         NaN  \n",
       "freq                                                   10         NaN  \n",
       "mean                                                  NaN     0.42966  \n",
       "std                                                   NaN     0.49506  \n",
       "min                                                   NaN     0.00000  \n",
       "25%                                                   NaN     0.00000  \n",
       "50%                                                   NaN     0.00000  \n",
       "75%                                                   NaN     1.00000  \n",
       "max                                                   NaN     1.00000  "
      ]
     },
     "execution_count": 7,
     "metadata": {},
     "output_type": "execute_result"
    }
   ],
   "source": [
    "train.describe(include='all')"
   ]
  },
  {
   "cell_type": "markdown",
   "id": "24b1c547",
   "metadata": {
    "papermill": {
     "duration": 0.009545,
     "end_time": "2023-12-06T10:20:30.168164",
     "exception": false,
     "start_time": "2023-12-06T10:20:30.158619",
     "status": "completed"
    },
    "tags": []
   },
   "source": [
    "# Model (MultinomialNB)\n",
    "\n",
    "MultinomialNB is a Naive Bayes classifier for multinomial models.\n",
    "\n",
    "The multinomial Naive Bayes classifier is suitable for classification with discrete features (e.g., word counts for text classification). The multinomial distribution normally requires integer feature counts. However, in practice, fractional counts such as tf-idf may also work."
   ]
  },
  {
   "cell_type": "markdown",
   "id": "60e57746",
   "metadata": {
    "papermill": {
     "duration": 0.009742,
     "end_time": "2023-12-06T10:20:30.187683",
     "exception": false,
     "start_time": "2023-12-06T10:20:30.177941",
     "status": "completed"
    },
    "tags": []
   },
   "source": [
    "# <a id=\"1\">Count Vectorizer</a>"
   ]
  },
  {
   "cell_type": "code",
   "execution_count": 8,
   "id": "f669f747",
   "metadata": {
    "execution": {
     "iopub.execute_input": "2023-12-06T10:20:30.211276Z",
     "iopub.status.busy": "2023-12-06T10:20:30.209653Z",
     "iopub.status.idle": "2023-12-06T10:20:31.087049Z",
     "shell.execute_reply": "2023-12-06T10:20:31.084839Z"
    },
    "papermill": {
     "duration": 0.892899,
     "end_time": "2023-12-06T10:20:31.090456",
     "exception": false,
     "start_time": "2023-12-06T10:20:30.197557",
     "status": "completed"
    },
    "tags": []
   },
   "outputs": [
    {
     "name": "stdout",
     "output_type": "stream",
     "text": [
      "Total accuracy classification score: 0.7672105053720653\n",
      "Total F1 classification score: 0.7610970226202209\n"
     ]
    }
   ],
   "source": [
    "from sklearn.feature_extraction.text import CountVectorizer\n",
    "from sklearn.naive_bayes import MultinomialNB\n",
    "from sklearn import metrics\n",
    "from sklearn.model_selection import train_test_split\n",
    "\n",
    "y = train['target']\n",
    "X = train.drop('target', axis=1)\n",
    "\n",
    "X_train, X_valid, y_train, y_valid = train_test_split(X, y, test_size=0.33, random_state=42)\n",
    "\n",
    "c_vectorizer = CountVectorizer(stop_words='english', analyzer='word', ngram_range=(1, 3), max_df=1.0, min_df=1, max_features=None)\n",
    "\n",
    "c_vectors = c_vectorizer.fit_transform(X_train['text'])\n",
    "\n",
    "clf = MultinomialNB(alpha=.01)\n",
    "\n",
    "#  Train the classifier\n",
    "clf.fit(c_vectors, y_train)\n",
    "\n",
    "# Get the test vectors\n",
    "c_vectors_valid = c_vectorizer.transform(X_valid['text'])\n",
    "\n",
    "# Predict and score the vectors\n",
    "pred = clf.predict(c_vectors_valid)\n",
    "\n",
    "acc_score = metrics.accuracy_score(y_valid, pred)\n",
    "f1_score = metrics.f1_score(y_valid, pred, average='macro')\n",
    "\n",
    "print('Total accuracy classification score: {}'.format(acc_score))\n",
    "print('Total F1 classification score: {}'.format(f1_score))"
   ]
  },
  {
   "cell_type": "markdown",
   "id": "ed12a679",
   "metadata": {
    "papermill": {
     "duration": 0.01126,
     "end_time": "2023-12-06T10:20:31.113113",
     "exception": false,
     "start_time": "2023-12-06T10:20:31.101853",
     "status": "completed"
    },
    "tags": []
   },
   "source": [
    "# <a id=\"2\">TF-IDF Vectorizer</a>"
   ]
  },
  {
   "cell_type": "code",
   "execution_count": 9,
   "id": "17aea66b",
   "metadata": {
    "execution": {
     "iopub.execute_input": "2023-12-06T10:20:31.137892Z",
     "iopub.status.busy": "2023-12-06T10:20:31.137430Z",
     "iopub.status.idle": "2023-12-06T10:20:31.909010Z",
     "shell.execute_reply": "2023-12-06T10:20:31.907088Z"
    },
    "papermill": {
     "duration": 0.788493,
     "end_time": "2023-12-06T10:20:31.912605",
     "exception": false,
     "start_time": "2023-12-06T10:20:31.124112",
     "status": "completed"
    },
    "tags": []
   },
   "outputs": [
    {
     "name": "stdout",
     "output_type": "stream",
     "text": [
      "Total accuracy classification score: 0.7695980899323518\n",
      "Total F1 classification score: 0.7626487516290068\n"
     ]
    }
   ],
   "source": [
    "from sklearn.feature_extraction.text import TfidfVectorizer\n",
    "\n",
    "tf_vectorizer = TfidfVectorizer(stop_words='english', analyzer='word', ngram_range=(1, 3), max_df=1.0, min_df=1, max_features=None)\n",
    "tf_vectors = tf_vectorizer.fit_transform(X_train['text'])\n",
    "\n",
    "clf = MultinomialNB(alpha=.01)\n",
    "\n",
    "#  Train the classifier\n",
    "clf.fit(tf_vectors, y_train)\n",
    "\n",
    "# Get the test vectors\n",
    "tf_vectors_valid = tf_vectorizer.transform(X_valid['text'])\n",
    "\n",
    "# Predict and score the vectors\n",
    "pred = clf.predict(tf_vectors_valid)\n",
    "\n",
    "acc_score = metrics.accuracy_score(y_valid, pred)\n",
    "f1_score = metrics.f1_score(y_valid, pred, average='macro')\n",
    "\n",
    "print('Total accuracy classification score: {}'.format(acc_score))\n",
    "print('Total F1 classification score: {}'.format(f1_score))"
   ]
  },
  {
   "cell_type": "markdown",
   "id": "841a0bdf",
   "metadata": {
    "papermill": {
     "duration": 0.011572,
     "end_time": "2023-12-06T10:20:31.938043",
     "exception": false,
     "start_time": "2023-12-06T10:20:31.926471",
     "status": "completed"
    },
    "tags": []
   },
   "source": [
    "# Classification ANN"
   ]
  },
  {
   "cell_type": "code",
   "execution_count": 10,
   "id": "af414e58",
   "metadata": {
    "execution": {
     "iopub.execute_input": "2023-12-06T10:20:31.961029Z",
     "iopub.status.busy": "2023-12-06T10:20:31.960102Z",
     "iopub.status.idle": "2023-12-06T10:20:32.882805Z",
     "shell.execute_reply": "2023-12-06T10:20:32.881296Z"
    },
    "papermill": {
     "duration": 0.938194,
     "end_time": "2023-12-06T10:20:32.886180",
     "exception": false,
     "start_time": "2023-12-06T10:20:31.947986",
     "status": "completed"
    },
    "tags": []
   },
   "outputs": [],
   "source": [
    "vectorizer = TfidfVectorizer(stop_words='english', analyzer='word', ngram_range=(1, 3), max_df=1.0, min_df=1, max_features=None)\n",
    "vectors = vectorizer.fit_transform(X['text'])\n",
    "\n",
    "input_shape = [vectors.shape[1]]"
   ]
  },
  {
   "cell_type": "code",
   "execution_count": 11,
   "id": "6471bd7f",
   "metadata": {
    "execution": {
     "iopub.execute_input": "2023-12-06T10:20:32.910702Z",
     "iopub.status.busy": "2023-12-06T10:20:32.910276Z",
     "iopub.status.idle": "2023-12-06T10:20:33.543563Z",
     "shell.execute_reply": "2023-12-06T10:20:33.541827Z"
    },
    "papermill": {
     "duration": 0.649476,
     "end_time": "2023-12-06T10:20:33.547155",
     "exception": false,
     "start_time": "2023-12-06T10:20:32.897679",
     "status": "completed"
    },
    "tags": []
   },
   "outputs": [],
   "source": [
    "model = keras.Sequential([\n",
    "    layers.BatchNormalization(input_shape=input_shape),\n",
    "    layers.Dense(64, activation='relu'),\n",
    "    layers.BatchNormalization(),\n",
    "    layers.Dropout(0.1),\n",
    "    layers.Dense(32, activation='relu'),\n",
    "    layers.BatchNormalization(),\n",
    "    layers.Dropout(0.1),\n",
    "    layers.Dense(16, activation='relu'),\n",
    "    layers.BatchNormalization(),\n",
    "    layers.Dropout(0.1),\n",
    "    layers.Dense(1, activation='sigmoid'),\n",
    "])"
   ]
  },
  {
   "cell_type": "code",
   "execution_count": 12,
   "id": "3c046bfb",
   "metadata": {
    "execution": {
     "iopub.execute_input": "2023-12-06T10:20:33.570703Z",
     "iopub.status.busy": "2023-12-06T10:20:33.570149Z",
     "iopub.status.idle": "2023-12-06T10:43:07.720174Z",
     "shell.execute_reply": "2023-12-06T10:43:07.719030Z"
    },
    "papermill": {
     "duration": 1354.166208,
     "end_time": "2023-12-06T10:43:07.723663",
     "exception": false,
     "start_time": "2023-12-06T10:20:33.557455",
     "status": "completed"
    },
    "tags": []
   },
   "outputs": [
    {
     "name": "stdout",
     "output_type": "stream",
     "text": [
      "Epoch 1/50\n",
      "238/238 [==============================] - 29s 110ms/step - loss: 0.5912 - binary_accuracy: 0.7008\n",
      "Epoch 2/50\n",
      "238/238 [==============================] - 25s 107ms/step - loss: 0.2841 - binary_accuracy: 0.8857\n",
      "Epoch 3/50\n",
      "238/238 [==============================] - 26s 109ms/step - loss: 0.1262 - binary_accuracy: 0.9570\n",
      "Epoch 4/50\n",
      "238/238 [==============================] - 26s 109ms/step - loss: 0.0934 - binary_accuracy: 0.9669\n",
      "Epoch 5/50\n",
      "238/238 [==============================] - 25s 107ms/step - loss: 0.1066 - binary_accuracy: 0.9614\n",
      "Epoch 6/50\n",
      "238/238 [==============================] - 26s 108ms/step - loss: 0.0912 - binary_accuracy: 0.9666\n",
      "Epoch 7/50\n",
      "238/238 [==============================] - 25s 106ms/step - loss: 0.0831 - binary_accuracy: 0.9695\n",
      "Epoch 8/50\n",
      "238/238 [==============================] - 26s 110ms/step - loss: 0.0956 - binary_accuracy: 0.9647\n",
      "Epoch 9/50\n",
      "238/238 [==============================] - 26s 109ms/step - loss: 0.0794 - binary_accuracy: 0.9725\n",
      "Epoch 10/50\n",
      "238/238 [==============================] - 26s 108ms/step - loss: 0.0642 - binary_accuracy: 0.9778\n",
      "Epoch 11/50\n",
      "238/238 [==============================] - 26s 109ms/step - loss: 0.0570 - binary_accuracy: 0.9786\n",
      "Epoch 12/50\n",
      "238/238 [==============================] - 25s 107ms/step - loss: 0.0592 - binary_accuracy: 0.9803\n",
      "Epoch 13/50\n",
      "238/238 [==============================] - 26s 109ms/step - loss: 0.0567 - binary_accuracy: 0.9791\n",
      "Epoch 14/50\n",
      "238/238 [==============================] - 26s 109ms/step - loss: 0.0578 - binary_accuracy: 0.9832\n",
      "Epoch 15/50\n",
      "238/238 [==============================] - 26s 109ms/step - loss: 0.0566 - binary_accuracy: 0.9799\n",
      "Epoch 16/50\n",
      "238/238 [==============================] - 26s 109ms/step - loss: 0.0428 - binary_accuracy: 0.9850\n",
      "Epoch 17/50\n",
      "238/238 [==============================] - 26s 107ms/step - loss: 0.0437 - binary_accuracy: 0.9858\n",
      "Epoch 18/50\n",
      "238/238 [==============================] - 26s 108ms/step - loss: 0.0377 - binary_accuracy: 0.9869\n",
      "Epoch 19/50\n",
      "238/238 [==============================] - 26s 110ms/step - loss: 0.0408 - binary_accuracy: 0.9870\n",
      "Epoch 20/50\n",
      "238/238 [==============================] - 26s 109ms/step - loss: 0.0420 - binary_accuracy: 0.9846\n",
      "Epoch 21/50\n",
      "238/238 [==============================] - 26s 109ms/step - loss: 0.0451 - binary_accuracy: 0.9846\n",
      "Epoch 22/50\n",
      "238/238 [==============================] - 26s 108ms/step - loss: 0.0417 - binary_accuracy: 0.9848\n",
      "Epoch 23/50\n",
      "238/238 [==============================] - 25s 106ms/step - loss: 0.0484 - binary_accuracy: 0.9844\n",
      "Epoch 24/50\n",
      "238/238 [==============================] - 26s 107ms/step - loss: 0.0344 - binary_accuracy: 0.9870\n",
      "Epoch 25/50\n",
      "238/238 [==============================] - 26s 111ms/step - loss: 0.0375 - binary_accuracy: 0.9861\n",
      "Epoch 26/50\n",
      "238/238 [==============================] - 26s 110ms/step - loss: 0.0471 - binary_accuracy: 0.9834\n",
      "Epoch 27/50\n",
      "238/238 [==============================] - 26s 109ms/step - loss: 0.0401 - binary_accuracy: 0.9856\n",
      "Epoch 28/50\n",
      "238/238 [==============================] - 26s 108ms/step - loss: 0.0332 - binary_accuracy: 0.9886\n",
      "Epoch 29/50\n",
      "238/238 [==============================] - 26s 107ms/step - loss: 0.0429 - binary_accuracy: 0.9849\n",
      "Epoch 30/50\n",
      "238/238 [==============================] - 26s 108ms/step - loss: 0.0419 - binary_accuracy: 0.9863\n",
      "Epoch 31/50\n",
      "238/238 [==============================] - 25s 106ms/step - loss: 0.0316 - binary_accuracy: 0.9891\n",
      "Epoch 32/50\n",
      "238/238 [==============================] - 26s 108ms/step - loss: 0.0350 - binary_accuracy: 0.9875\n",
      "Epoch 33/50\n",
      "238/238 [==============================] - 25s 107ms/step - loss: 0.0330 - binary_accuracy: 0.9878\n",
      "Epoch 34/50\n",
      "238/238 [==============================] - 26s 109ms/step - loss: 0.0275 - binary_accuracy: 0.9892\n",
      "Epoch 35/50\n",
      "238/238 [==============================] - 26s 109ms/step - loss: 0.0295 - binary_accuracy: 0.9901\n",
      "Epoch 36/50\n",
      "238/238 [==============================] - 26s 108ms/step - loss: 0.0338 - binary_accuracy: 0.9874\n",
      "Epoch 37/50\n",
      "238/238 [==============================] - 26s 110ms/step - loss: 0.0337 - binary_accuracy: 0.9879\n",
      "Epoch 38/50\n",
      "238/238 [==============================] - 26s 110ms/step - loss: 0.0312 - binary_accuracy: 0.9862\n",
      "Epoch 39/50\n",
      "238/238 [==============================] - 26s 107ms/step - loss: 0.0274 - binary_accuracy: 0.9895\n",
      "Epoch 40/50\n",
      "238/238 [==============================] - 26s 108ms/step - loss: 0.0250 - binary_accuracy: 0.9908\n",
      "Epoch 41/50\n",
      "238/238 [==============================] - 26s 109ms/step - loss: 0.0219 - binary_accuracy: 0.9919\n",
      "Epoch 42/50\n",
      "238/238 [==============================] - 26s 108ms/step - loss: 0.0291 - binary_accuracy: 0.9905\n",
      "Epoch 43/50\n",
      "238/238 [==============================] - 26s 110ms/step - loss: 0.0308 - binary_accuracy: 0.9878\n",
      "Epoch 44/50\n",
      "238/238 [==============================] - 26s 108ms/step - loss: 0.0596 - binary_accuracy: 0.9799\n",
      "Epoch 45/50\n",
      "238/238 [==============================] - 26s 108ms/step - loss: 0.0576 - binary_accuracy: 0.9806\n",
      "Epoch 46/50\n",
      "238/238 [==============================] - 26s 109ms/step - loss: 0.0470 - binary_accuracy: 0.9829\n",
      "Epoch 47/50\n",
      "238/238 [==============================] - 26s 110ms/step - loss: 0.0329 - binary_accuracy: 0.9887\n",
      "Epoch 48/50\n",
      "238/238 [==============================] - 26s 110ms/step - loss: 0.0312 - binary_accuracy: 0.9888\n",
      "Epoch 49/50\n",
      "238/238 [==============================] - 26s 109ms/step - loss: 0.0321 - binary_accuracy: 0.9887\n",
      "Epoch 50/50\n",
      "238/238 [==============================] - 26s 108ms/step - loss: 0.0287 - binary_accuracy: 0.9892\n"
     ]
    }
   ],
   "source": [
    "model.compile(optimizer='adam', loss='binary_crossentropy',\n",
    "    metrics=['binary_accuracy'],)\n",
    "\n",
    "early_stopping = keras.callbacks.EarlyStopping(\n",
    "    patience=15,\n",
    "    min_delta=0.001,\n",
    "    restore_best_weights=True,\n",
    ")\n",
    "history = model.fit(\n",
    "    vectors.toarray(), y,\n",
    "    epochs=50,\n",
    "    callbacks=[early_stopping],\n",
    ")"
   ]
  },
  {
   "cell_type": "markdown",
   "id": "7d08fd30",
   "metadata": {
    "papermill": {
     "duration": 1.25421,
     "end_time": "2023-12-06T10:43:10.135595",
     "exception": false,
     "start_time": "2023-12-06T10:43:08.881385",
     "status": "completed"
    },
    "tags": []
   },
   "source": [
    "# Evaluation"
   ]
  },
  {
   "cell_type": "code",
   "execution_count": 13,
   "id": "20006993",
   "metadata": {
    "execution": {
     "iopub.execute_input": "2023-12-06T10:43:12.534499Z",
     "iopub.status.busy": "2023-12-06T10:43:12.533616Z",
     "iopub.status.idle": "2023-12-06T10:43:12.952608Z",
     "shell.execute_reply": "2023-12-06T10:43:12.951011Z"
    },
    "papermill": {
     "duration": 1.666679,
     "end_time": "2023-12-06T10:43:12.955983",
     "exception": false,
     "start_time": "2023-12-06T10:43:11.289304",
     "status": "completed"
    },
    "tags": []
   },
   "outputs": [
    {
     "data": {
      "text/plain": [
       "<AxesSubplot:title={'center':'Accuracy'}>"
      ]
     },
     "execution_count": 13,
     "metadata": {},
     "output_type": "execute_result"
    },
    {
     "data": {
      "image/png": "[encoded data removed]",
      "text/plain": [
       "<Figure size 640x480 with 1 Axes>"
      ]
     },
     "metadata": {},
     "output_type": "display_data"
    }
   ],
   "source": [
    "history_df = pd.DataFrame(history.history)\n",
    "history_df.loc[:, ['binary_accuracy']].plot(title=\"Accuracy\")"
   ]
  },
  {
   "cell_type": "markdown",
   "id": "43381a6e",
   "metadata": {
    "papermill": {
     "duration": 1.264862,
     "end_time": "2023-12-06T10:43:15.390374",
     "exception": false,
     "start_time": "2023-12-06T10:43:14.125512",
     "status": "completed"
    },
    "tags": []
   },
   "source": [
    "# Predictions"
   ]
  },
  {
   "cell_type": "code",
   "execution_count": 14,
   "id": "167a6830",
   "metadata": {
    "execution": {
     "iopub.execute_input": "2023-12-06T10:43:17.784620Z",
     "iopub.status.busy": "2023-12-06T10:43:17.784093Z",
     "iopub.status.idle": "2023-12-06T10:43:24.170375Z",
     "shell.execute_reply": "2023-12-06T10:43:24.168571Z"
    },
    "papermill": {
     "duration": 7.638704,
     "end_time": "2023-12-06T10:43:24.173721",
     "exception": false,
     "start_time": "2023-12-06T10:43:16.535017",
     "status": "completed"
    },
    "tags": []
   },
   "outputs": [
    {
     "name": "stdout",
     "output_type": "stream",
     "text": [
      "102/102 [==============================] - 2s 20ms/step\n"
     ]
    }
   ],
   "source": [
    "df = pd.DataFrame()\n",
    "df['id'] = test['id']\n",
    "vectors_test = vectorizer.transform(test['text'])\n",
    "df['target'] = model.predict(vectors_test.toarray()).round().astype(int)"
   ]
  },
  {
   "cell_type": "code",
   "execution_count": 15,
   "id": "2b32ad19",
   "metadata": {
    "execution": {
     "iopub.execute_input": "2023-12-06T10:43:26.580381Z",
     "iopub.status.busy": "2023-12-06T10:43:26.579826Z",
     "iopub.status.idle": "2023-12-06T10:43:26.601392Z",
     "shell.execute_reply": "2023-12-06T10:43:26.600140Z"
    },
    "papermill": {
     "duration": 1.25209,
     "end_time": "2023-12-06T10:43:26.604610",
     "exception": false,
     "start_time": "2023-12-06T10:43:25.352520",
     "status": "completed"
    },
    "tags": []
   },
   "outputs": [],
   "source": [
    "df.to_csv('submission.csv',index=False)"
   ]
  }
 ],
 "metadata": {
  "kaggle": {
   "accelerator": "none",
   "dataSources": [
    {
     "databundleVersionId": 869809,
     "sourceId": 17777,
     "sourceType": "competition"
    }
   ],
   "dockerImageVersionId": 30458,
   "isGpuEnabled": false,
   "isInternetEnabled": true,
   "language": "python",
   "sourceType": "notebook"
  },
  "kernelspec": {
   "display_name": "Python 3",
   "language": "python",
   "name": "python3"
  },
  "language_info": {
   "codemirror_mode": {
    "name": "ipython",
    "version": 3
   },
   "file_extension": ".py",
   "mimetype": "text/x-python",
   "name": "python",
   "nbconvert_exporter": "python",
   "pygments_lexer": "ipython3",
   "version": "3.7.12"
  },
  "papermill": {
   "default_parameters": {},
   "duration": 1408.497169,
   "end_time": "2023-12-06T10:43:31.196838",
   "environment_variables": {},
   "exception": null,
   "input_path": "__notebook__.ipynb",
   "output_path": "__notebook__.ipynb",
   "parameters": {},
   "start_time": "2023-12-06T10:20:02.699669",
   "version": "2.4.0"
  }
 },
 "nbformat": 4,
 "nbformat_minor": 5
}
