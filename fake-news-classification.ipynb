{
 "cells": [
  {
   "cell_type": "markdown",
   "id": "3bc9a85f",
   "metadata": {
    "papermill": {
     "duration": 0.006851,
     "end_time": "2023-12-23T00:14:47.202266",
     "exception": false,
     "start_time": "2023-12-23T00:14:47.195415",
     "status": "completed"
    },
    "tags": []
   },
   "source": [
    "# Introduction\n",
    "\n",
    "This notebook is an implementation of the tutorial 'Text classification from scratch' (https://keras.io/examples/nlp/text_classification_from_scratch/) into fake news classification."
   ]
  },
  {
   "cell_type": "markdown",
   "id": "3058a982",
   "metadata": {
    "papermill": {
     "duration": 0.006126,
     "end_time": "2023-12-23T00:14:47.214960",
     "exception": false,
     "start_time": "2023-12-23T00:14:47.208834",
     "status": "completed"
    },
    "tags": []
   },
   "source": [
    "# Setup"
   ]
  },
  {
   "cell_type": "code",
   "execution_count": 1,
   "id": "ec287364",
   "metadata": {
    "_cell_guid": "b1076dfc-b9ad-4769-8c92-a6c4dae69d19",
    "_uuid": "8f2839f25d086af736a60e9eeb907d3b93b6e0e5",
    "execution": {
     "iopub.execute_input": "2023-12-23T00:14:47.229765Z",
     "iopub.status.busy": "2023-12-23T00:14:47.229256Z",
     "iopub.status.idle": "2023-12-23T00:15:04.999238Z",
     "shell.execute_reply": "2023-12-23T00:15:04.998159Z"
    },
    "papermill": {
     "duration": 17.780733,
     "end_time": "2023-12-23T00:15:05.001916",
     "exception": false,
     "start_time": "2023-12-23T00:14:47.221183",
     "status": "completed"
    },
    "tags": []
   },
   "outputs": [
    {
     "name": "stdout",
     "output_type": "stream",
     "text": [
      "/kaggle/input/fake-news/news.csv\n"
     ]
    }
   ],
   "source": [
    "# This Python 3 environment comes with many helpful analytics libraries installed\n",
    "# It is defined by the kaggle/python Docker image: https://github.com/kaggle/docker-python\n",
    "# For example, here's several helpful packages to load\n",
    "\n",
    "import numpy as np # linear algebra\n",
    "import pandas as pd # data processing, CSV file I/O (e.g. pd.read_csv)\n",
    "import keras\n",
    "import tensorflow as tf\n",
    "from keras import layers\n",
    "import string\n",
    "import re\n",
    "from sklearn.model_selection import train_test_split\n",
    "\n",
    "# Input data files are available in the read-only \"../input/\" directory\n",
    "# For example, running this (by clicking run or pressing Shift+Enter) will list all files under the input directory\n",
    "\n",
    "import os\n",
    "for dirname, _, filenames in os.walk('/kaggle/input'):\n",
    "    for filename in filenames:\n",
    "        print(os.path.join(dirname, filename))\n",
    "\n",
    "# You can write up to 20GB to the current directory (/kaggle/working/) that gets preserved as output when you create a version using \"Save & Run All\" \n",
    "# You can also write temporary files to /kaggle/temp/, but they won't be saved outside of the current session"
   ]
  },
  {
   "cell_type": "code",
   "execution_count": 2,
   "id": "1a962f49",
   "metadata": {
    "execution": {
     "iopub.execute_input": "2023-12-23T00:15:05.019217Z",
     "iopub.status.busy": "2023-12-23T00:15:05.017528Z",
     "iopub.status.idle": "2023-12-23T00:15:05.950943Z",
     "shell.execute_reply": "2023-12-23T00:15:05.949211Z"
    },
    "papermill": {
     "duration": 0.944856,
     "end_time": "2023-12-23T00:15:05.954266",
     "exception": false,
     "start_time": "2023-12-23T00:15:05.009410",
     "status": "completed"
    },
    "tags": []
   },
   "outputs": [],
   "source": [
    "df = pd.read_csv('/kaggle/input/fake-news/news.csv', index_col=0)"
   ]
  },
  {
   "cell_type": "code",
   "execution_count": 3,
   "id": "ca450845",
   "metadata": {
    "execution": {
     "iopub.execute_input": "2023-12-23T00:15:05.969224Z",
     "iopub.status.busy": "2023-12-23T00:15:05.968761Z",
     "iopub.status.idle": "2023-12-23T00:15:05.985553Z",
     "shell.execute_reply": "2023-12-23T00:15:05.984209Z"
    },
    "papermill": {
     "duration": 0.02963,
     "end_time": "2023-12-23T00:15:05.990306",
     "exception": false,
     "start_time": "2023-12-23T00:15:05.960676",
     "status": "completed"
    },
    "tags": []
   },
   "outputs": [],
   "source": [
    "df['label'] = df['label'].replace('REAL', '0')\n",
    "df['label'] = df['label'].replace('FAKE', '1')\n",
    "df['label'] = df['label'].astype('int32')"
   ]
  },
  {
   "cell_type": "code",
   "execution_count": 4,
   "id": "7e25461c",
   "metadata": {
    "execution": {
     "iopub.execute_input": "2023-12-23T00:15:06.007543Z",
     "iopub.status.busy": "2023-12-23T00:15:06.006712Z",
     "iopub.status.idle": "2023-12-23T00:15:06.019795Z",
     "shell.execute_reply": "2023-12-23T00:15:06.018398Z"
    },
    "papermill": {
     "duration": 0.026573,
     "end_time": "2023-12-23T00:15:06.023416",
     "exception": false,
     "start_time": "2023-12-23T00:15:05.996843",
     "status": "completed"
    },
    "tags": []
   },
   "outputs": [],
   "source": [
    "df.drop(columns=['title'], inplace=True)"
   ]
  },
  {
   "cell_type": "code",
   "execution_count": 5,
   "id": "809946a7",
   "metadata": {
    "execution": {
     "iopub.execute_input": "2023-12-23T00:15:06.038617Z",
     "iopub.status.busy": "2023-12-23T00:15:06.038011Z",
     "iopub.status.idle": "2023-12-23T00:15:06.061330Z",
     "shell.execute_reply": "2023-12-23T00:15:06.059706Z"
    },
    "papermill": {
     "duration": 0.034556,
     "end_time": "2023-12-23T00:15:06.064480",
     "exception": false,
     "start_time": "2023-12-23T00:15:06.029924",
     "status": "completed"
    },
    "tags": []
   },
   "outputs": [
    {
     "data": {
      "text/html": [
       "<div>\n",
       "<style scoped>\n",
       "    .dataframe tbody tr th:only-of-type {\n",
       "        vertical-align: middle;\n",
       "    }\n",
       "\n",
       "    .dataframe tbody tr th {\n",
       "        vertical-align: top;\n",
       "    }\n",
       "\n",
       "    .dataframe thead th {\n",
       "        text-align: right;\n",
       "    }\n",
       "</style>\n",
       "<table border=\"1\" class=\"dataframe\">\n",
       "  <thead>\n",
       "    <tr style=\"text-align: right;\">\n",
       "      <th></th>\n",
       "      <th>text</th>\n",
       "      <th>label</th>\n",
       "    </tr>\n",
       "  </thead>\n",
       "  <tbody>\n",
       "    <tr>\n",
       "      <th>8476</th>\n",
       "      <td>Daniel Greenfield, a Shillman Journalism Fello...</td>\n",
       "      <td>1</td>\n",
       "    </tr>\n",
       "    <tr>\n",
       "      <th>10294</th>\n",
       "      <td>Google Pinterest Digg Linkedin Reddit Stumbleu...</td>\n",
       "      <td>1</td>\n",
       "    </tr>\n",
       "    <tr>\n",
       "      <th>3608</th>\n",
       "      <td>U.S. Secretary of State John F. Kerry said Mon...</td>\n",
       "      <td>0</td>\n",
       "    </tr>\n",
       "    <tr>\n",
       "      <th>10142</th>\n",
       "      <td>— Kaydee King (@KaydeeKing) November 9, 2016 T...</td>\n",
       "      <td>1</td>\n",
       "    </tr>\n",
       "    <tr>\n",
       "      <th>875</th>\n",
       "      <td>It's primary day in New York and front-runners...</td>\n",
       "      <td>0</td>\n",
       "    </tr>\n",
       "    <tr>\n",
       "      <th>...</th>\n",
       "      <td>...</td>\n",
       "      <td>...</td>\n",
       "    </tr>\n",
       "    <tr>\n",
       "      <th>4490</th>\n",
       "      <td>The State Department told the Republican Natio...</td>\n",
       "      <td>0</td>\n",
       "    </tr>\n",
       "    <tr>\n",
       "      <th>8062</th>\n",
       "      <td>The ‘P’ in PBS Should Stand for ‘Plutocratic’ ...</td>\n",
       "      <td>1</td>\n",
       "    </tr>\n",
       "    <tr>\n",
       "      <th>8622</th>\n",
       "      <td>Anti-Trump Protesters Are Tools of the Oligar...</td>\n",
       "      <td>1</td>\n",
       "    </tr>\n",
       "    <tr>\n",
       "      <th>4021</th>\n",
       "      <td>ADDIS ABABA, Ethiopia —President Obama convene...</td>\n",
       "      <td>0</td>\n",
       "    </tr>\n",
       "    <tr>\n",
       "      <th>4330</th>\n",
       "      <td>Jeb Bush Is Suddenly Attacking Trump. Here's W...</td>\n",
       "      <td>0</td>\n",
       "    </tr>\n",
       "  </tbody>\n",
       "</table>\n",
       "<p>6335 rows × 2 columns</p>\n",
       "</div>"
      ],
      "text/plain": [
       "                                                    text  label\n",
       "8476   Daniel Greenfield, a Shillman Journalism Fello...      1\n",
       "10294  Google Pinterest Digg Linkedin Reddit Stumbleu...      1\n",
       "3608   U.S. Secretary of State John F. Kerry said Mon...      0\n",
       "10142  — Kaydee King (@KaydeeKing) November 9, 2016 T...      1\n",
       "875    It's primary day in New York and front-runners...      0\n",
       "...                                                  ...    ...\n",
       "4490   The State Department told the Republican Natio...      0\n",
       "8062   The ‘P’ in PBS Should Stand for ‘Plutocratic’ ...      1\n",
       "8622    Anti-Trump Protesters Are Tools of the Oligar...      1\n",
       "4021   ADDIS ABABA, Ethiopia —President Obama convene...      0\n",
       "4330   Jeb Bush Is Suddenly Attacking Trump. Here's W...      0\n",
       "\n",
       "[6335 rows x 2 columns]"
      ]
     },
     "execution_count": 5,
     "metadata": {},
     "output_type": "execute_result"
    }
   ],
   "source": [
    "df"
   ]
  },
  {
   "cell_type": "markdown",
   "id": "dfced3e9",
   "metadata": {
    "papermill": {
     "duration": 0.006899,
     "end_time": "2023-12-23T00:15:06.078031",
     "exception": false,
     "start_time": "2023-12-23T00:15:06.071132",
     "status": "completed"
    },
    "tags": []
   },
   "source": [
    "# Data Preparation"
   ]
  },
  {
   "cell_type": "code",
   "execution_count": 6,
   "id": "05c6b29e",
   "metadata": {
    "execution": {
     "iopub.execute_input": "2023-12-23T00:15:06.093913Z",
     "iopub.status.busy": "2023-12-23T00:15:06.093278Z",
     "iopub.status.idle": "2023-12-23T00:15:06.106931Z",
     "shell.execute_reply": "2023-12-23T00:15:06.105452Z"
    },
    "papermill": {
     "duration": 0.025002,
     "end_time": "2023-12-23T00:15:06.109779",
     "exception": false,
     "start_time": "2023-12-23T00:15:06.084777",
     "status": "completed"
    },
    "tags": []
   },
   "outputs": [],
   "source": [
    "train_df, temp_df = train_test_split(df, test_size=0.3, random_state=42)\n",
    "valid_df, test_df = train_test_split(temp_df, test_size=0.5, random_state=42)"
   ]
  },
  {
   "cell_type": "code",
   "execution_count": 7,
   "id": "1c92d9ba",
   "metadata": {
    "execution": {
     "iopub.execute_input": "2023-12-23T00:15:06.126037Z",
     "iopub.status.busy": "2023-12-23T00:15:06.125557Z",
     "iopub.status.idle": "2023-12-23T00:15:06.132787Z",
     "shell.execute_reply": "2023-12-23T00:15:06.131246Z"
    },
    "papermill": {
     "duration": 0.01933,
     "end_time": "2023-12-23T00:15:06.135847",
     "exception": false,
     "start_time": "2023-12-23T00:15:06.116517",
     "status": "completed"
    },
    "tags": []
   },
   "outputs": [],
   "source": [
    "def custom_standardization(input_data):\n",
    "    lowercase = tf.strings.lower(input_data)\n",
    "    stripped_html = tf.strings.regex_replace(lowercase, \"<br />\", \" \")\n",
    "    return tf.strings.regex_replace(\n",
    "        stripped_html, f\"[{re.escape(string.punctuation)}]\", \"\"\n",
    "    )\n",
    "\n",
    "\n",
    "max_features = 20000\n",
    "embedding_dim = 128\n",
    "sequence_length = 500"
   ]
  },
  {
   "cell_type": "markdown",
   "id": "c3559b31",
   "metadata": {
    "papermill": {
     "duration": 0.007084,
     "end_time": "2023-12-23T00:15:06.149879",
     "exception": false,
     "start_time": "2023-12-23T00:15:06.142795",
     "status": "completed"
    },
    "tags": []
   },
   "source": [
    "# Text Vectorization"
   ]
  },
  {
   "cell_type": "code",
   "execution_count": 8,
   "id": "9cfb3bac",
   "metadata": {
    "execution": {
     "iopub.execute_input": "2023-12-23T00:15:06.167235Z",
     "iopub.status.busy": "2023-12-23T00:15:06.166774Z",
     "iopub.status.idle": "2023-12-23T00:15:06.599407Z",
     "shell.execute_reply": "2023-12-23T00:15:06.597838Z"
    },
    "papermill": {
     "duration": 0.446266,
     "end_time": "2023-12-23T00:15:06.603733",
     "exception": false,
     "start_time": "2023-12-23T00:15:06.157467",
     "status": "completed"
    },
    "tags": []
   },
   "outputs": [],
   "source": [
    "vectorize_layer = keras.layers.TextVectorization(\n",
    "    standardize=custom_standardization,\n",
    "    max_tokens=max_features,\n",
    "    output_mode=\"int\",\n",
    "    output_sequence_length=sequence_length,\n",
    ")"
   ]
  },
  {
   "cell_type": "code",
   "execution_count": 9,
   "id": "b8b27607",
   "metadata": {
    "execution": {
     "iopub.execute_input": "2023-12-23T00:15:06.628700Z",
     "iopub.status.busy": "2023-12-23T00:15:06.628093Z",
     "iopub.status.idle": "2023-12-23T00:15:17.194322Z",
     "shell.execute_reply": "2023-12-23T00:15:17.192120Z"
    },
    "papermill": {
     "duration": 10.580861,
     "end_time": "2023-12-23T00:15:17.198853",
     "exception": false,
     "start_time": "2023-12-23T00:15:06.617992",
     "status": "completed"
    },
    "tags": []
   },
   "outputs": [],
   "source": [
    "text_ds = tf.data.Dataset.from_tensor_slices(train_df['text'].values)\n",
    "vectorize_layer.adapt(text_ds)"
   ]
  },
  {
   "cell_type": "code",
   "execution_count": 10,
   "id": "042b2dc4",
   "metadata": {
    "execution": {
     "iopub.execute_input": "2023-12-23T00:15:17.220732Z",
     "iopub.status.busy": "2023-12-23T00:15:17.220105Z",
     "iopub.status.idle": "2023-12-23T00:15:17.530619Z",
     "shell.execute_reply": "2023-12-23T00:15:17.529338Z"
    },
    "papermill": {
     "duration": 0.325761,
     "end_time": "2023-12-23T00:15:17.534640",
     "exception": false,
     "start_time": "2023-12-23T00:15:17.208879",
     "status": "completed"
    },
    "tags": []
   },
   "outputs": [],
   "source": [
    "def vectorize_text(text, label):\n",
    "    text = tf.expand_dims(text, -1)\n",
    "    label = tf.expand_dims(label, -1)\n",
    "    return vectorize_layer(text), label\n",
    "\n",
    "train_ds = tf.data.Dataset.from_tensor_slices((train_df['text'].values, train_df['label'].values))\n",
    "train_ds = train_ds.map(vectorize_text)\n",
    "\n",
    "val_ds = tf.data.Dataset.from_tensor_slices((valid_df['text'].values, valid_df['label'].values))\n",
    "val_ds = val_ds.map(vectorize_text)\n",
    "\n",
    "test_ds = tf.data.Dataset.from_tensor_slices((test_df['text'].values, test_df['label'].values))\n",
    "test_ds = test_ds.map(vectorize_text)\n",
    "\n",
    "train_ds = train_ds.cache().prefetch(buffer_size=10)\n",
    "val_ds = val_ds.cache().prefetch(buffer_size=10)\n",
    "test_ds = test_ds.cache().prefetch(buffer_size=10)"
   ]
  },
  {
   "cell_type": "markdown",
   "id": "a3395654",
   "metadata": {
    "papermill": {
     "duration": 0.009095,
     "end_time": "2023-12-23T00:15:17.553404",
     "exception": false,
     "start_time": "2023-12-23T00:15:17.544309",
     "status": "completed"
    },
    "tags": []
   },
   "source": [
    "# Model, 1D convnet starting with an Embedding layer"
   ]
  },
  {
   "cell_type": "code",
   "execution_count": 11,
   "id": "182be803",
   "metadata": {
    "execution": {
     "iopub.execute_input": "2023-12-23T00:15:17.573679Z",
     "iopub.status.busy": "2023-12-23T00:15:17.571980Z",
     "iopub.status.idle": "2023-12-23T00:15:17.778234Z",
     "shell.execute_reply": "2023-12-23T00:15:17.776932Z"
    },
    "papermill": {
     "duration": 0.218466,
     "end_time": "2023-12-23T00:15:17.781577",
     "exception": false,
     "start_time": "2023-12-23T00:15:17.563111",
     "status": "completed"
    },
    "tags": []
   },
   "outputs": [],
   "source": [
    "inputs = keras.Input(shape=(None,), dtype=\"int64\")\n",
    "\n",
    "x = layers.Embedding(max_features, embedding_dim)(inputs)\n",
    "x = layers.Dropout(0.5)(x)\n",
    "\n",
    "x = layers.Conv1D(128, 7, padding=\"valid\", activation=\"relu\", strides=3)(x)\n",
    "x = layers.Conv1D(128, 7, padding=\"valid\", activation=\"relu\", strides=3)(x)\n",
    "x = layers.GlobalMaxPooling1D()(x)\n",
    "\n",
    "x = layers.Dense(128, activation=\"relu\")(x)\n",
    "x = layers.Dropout(0.5)(x)\n",
    "\n",
    "predictions = layers.Dense(1, activation=\"sigmoid\", name=\"predictions\")(x)\n",
    "\n",
    "model = keras.Model(inputs, predictions)\n",
    "\n",
    "model.compile(loss=\"binary_crossentropy\", optimizer=\"adam\", metrics=[\"accuracy\"])"
   ]
  },
  {
   "cell_type": "code",
   "execution_count": 12,
   "id": "3b39c873",
   "metadata": {
    "execution": {
     "iopub.execute_input": "2023-12-23T00:15:17.797286Z",
     "iopub.status.busy": "2023-12-23T00:15:17.796785Z",
     "iopub.status.idle": "2023-12-23T00:29:55.248928Z",
     "shell.execute_reply": "2023-12-23T00:29:55.246697Z"
    },
    "papermill": {
     "duration": 877.463526,
     "end_time": "2023-12-23T00:29:55.251931",
     "exception": false,
     "start_time": "2023-12-23T00:15:17.788405",
     "status": "completed"
    },
    "tags": []
   },
   "outputs": [
    {
     "name": "stdout",
     "output_type": "stream",
     "text": [
      "Epoch 1/5\n",
      "4434/4434 [==============================] - 161s 36ms/step - loss: 0.4030 - accuracy: 0.8063 - val_loss: 0.2819 - val_accuracy: 0.8905\n",
      "Epoch 2/5\n",
      "4434/4434 [==============================] - 156s 35ms/step - loss: 0.1429 - accuracy: 0.9477 - val_loss: 0.2744 - val_accuracy: 0.9042\n",
      "Epoch 3/5\n",
      "4434/4434 [==============================] - 157s 35ms/step - loss: 0.0633 - accuracy: 0.9811 - val_loss: 0.5797 - val_accuracy: 0.8926\n",
      "Epoch 4/5\n",
      "4434/4434 [==============================] - 154s 35ms/step - loss: 0.0587 - accuracy: 0.9878 - val_loss: 0.5084 - val_accuracy: 0.9179\n",
      "Epoch 5/5\n",
      "4434/4434 [==============================] - 156s 35ms/step - loss: 0.0327 - accuracy: 0.9914 - val_loss: 0.7326 - val_accuracy: 0.9211\n"
     ]
    },
    {
     "data": {
      "text/plain": [
       "<keras.src.callbacks.History at 0x7ea2cdcd3ca0>"
      ]
     },
     "execution_count": 12,
     "metadata": {},
     "output_type": "execute_result"
    }
   ],
   "source": [
    "epochs = 5\n",
    "\n",
    "model.fit(train_ds, validation_data=val_ds, epochs=epochs, batch_size=64)"
   ]
  }
 ],
 "metadata": {
  "kaggle": {
   "accelerator": "none",
   "dataSources": [
    {
     "datasetId": 3950844,
     "sourceId": 6875518,
     "sourceType": "datasetVersion"
    }
   ],
   "dockerImageVersionId": 30626,
   "isGpuEnabled": false,
   "isInternetEnabled": true,
   "language": "python",
   "sourceType": "notebook"
  },
  "kernelspec": {
   "display_name": "Python 3",
   "language": "python",
   "name": "python3"
  },
  "language_info": {
   "codemirror_mode": {
    "name": "ipython",
    "version": 3
   },
   "file_extension": ".py",
   "mimetype": "text/x-python",
   "name": "python",
   "nbconvert_exporter": "python",
   "pygments_lexer": "ipython3",
   "version": "3.10.12"
  },
  "papermill": {
   "default_parameters": {},
   "duration": 916.520085,
   "end_time": "2023-12-23T00:29:59.745014",
   "environment_variables": {},
   "exception": null,
   "input_path": "__notebook__.ipynb",
   "output_path": "__notebook__.ipynb",
   "parameters": {},
   "start_time": "2023-12-23T00:14:43.224929",
   "version": "2.4.0"
  }
 },
 "nbformat": 4,
 "nbformat_minor": 5
}
