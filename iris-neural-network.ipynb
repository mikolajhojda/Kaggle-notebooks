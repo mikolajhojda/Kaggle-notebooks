{
 "cells": [
  {
   "cell_type": "code",
   "execution_count": 1,
   "id": "167243d7",
   "metadata": {
    "_cell_guid": "b1076dfc-b9ad-4769-8c92-a6c4dae69d19",
    "_uuid": "8f2839f25d086af736a60e9eeb907d3b93b6e0e5",
    "execution": {
     "iopub.execute_input": "2023-11-21T23:21:14.486871Z",
     "iopub.status.busy": "2023-11-21T23:21:14.486430Z",
     "iopub.status.idle": "2023-11-21T23:21:32.213892Z",
     "shell.execute_reply": "2023-11-21T23:21:32.212435Z"
    },
    "papermill": {
     "duration": 17.741513,
     "end_time": "2023-11-21T23:21:32.220717",
     "exception": false,
     "start_time": "2023-11-21T23:21:14.479204",
     "status": "completed"
    },
    "tags": []
   },
   "outputs": [
    {
     "name": "stdout",
     "output_type": "stream",
     "text": [
      "/kaggle/input/iris-flower-dataset/IRIS.csv\n"
     ]
    }
   ],
   "source": [
    "# This Python 3 environment comes with many helpful analytics libraries installed\n",
    "# It is defined by the kaggle/python Docker image: https://github.com/kaggle/docker-python\n",
    "# For example, here's several helpful packages to load\n",
    "\n",
    "import numpy as np # linear algebra\n",
    "import pandas as pd # data processing, CSV file I/O (e.g. pd.read_csv)\n",
    "import matplotlib.pyplot as plt\n",
    "from sklearn.model_selection import train_test_split\n",
    "from sklearn.preprocessing import StandardScaler, OneHotEncoder, LabelEncoder\n",
    "from sklearn.impute import SimpleImputer\n",
    "from sklearn.pipeline import make_pipeline\n",
    "from sklearn.compose import make_column_transformer\n",
    "import tensorflow as tf\n",
    "\n",
    "\n",
    "# Input data files are available in the read-only \"../input/\" directory\n",
    "# For example, running this (by clicking run or pressing Shift+Enter) will list all files under the input directory\n",
    "\n",
    "import os\n",
    "for dirname, _, filenames in os.walk('/kaggle/input'):\n",
    "    for filename in filenames:\n",
    "        print(os.path.join(dirname, filename))"
   ]
  },
  {
   "cell_type": "code",
   "execution_count": 2,
   "id": "28191a70",
   "metadata": {
    "execution": {
     "iopub.execute_input": "2023-11-21T23:21:32.234052Z",
     "iopub.status.busy": "2023-11-21T23:21:32.232196Z",
     "iopub.status.idle": "2023-11-21T23:21:32.251941Z",
     "shell.execute_reply": "2023-11-21T23:21:32.250687Z"
    },
    "papermill": {
     "duration": 0.029112,
     "end_time": "2023-11-21T23:21:32.255010",
     "exception": false,
     "start_time": "2023-11-21T23:21:32.225898",
     "status": "completed"
    },
    "tags": []
   },
   "outputs": [],
   "source": [
    "df = pd.read_csv('/kaggle/input/iris-flower-dataset/IRIS.csv')"
   ]
  },
  {
   "cell_type": "code",
   "execution_count": 3,
   "id": "a1416167",
   "metadata": {
    "execution": {
     "iopub.execute_input": "2023-11-21T23:21:32.266893Z",
     "iopub.status.busy": "2023-11-21T23:21:32.266474Z",
     "iopub.status.idle": "2023-11-21T23:21:32.299601Z",
     "shell.execute_reply": "2023-11-21T23:21:32.298398Z"
    },
    "papermill": {
     "duration": 0.043936,
     "end_time": "2023-11-21T23:21:32.304053",
     "exception": false,
     "start_time": "2023-11-21T23:21:32.260117",
     "status": "completed"
    },
    "tags": []
   },
   "outputs": [
    {
     "data": {
      "text/html": [
       "<div>\n",
       "<style scoped>\n",
       "    .dataframe tbody tr th:only-of-type {\n",
       "        vertical-align: middle;\n",
       "    }\n",
       "\n",
       "    .dataframe tbody tr th {\n",
       "        vertical-align: top;\n",
       "    }\n",
       "\n",
       "    .dataframe thead th {\n",
       "        text-align: right;\n",
       "    }\n",
       "</style>\n",
       "<table border=\"1\" class=\"dataframe\">\n",
       "  <thead>\n",
       "    <tr style=\"text-align: right;\">\n",
       "      <th></th>\n",
       "      <th>sepal_length</th>\n",
       "      <th>sepal_width</th>\n",
       "      <th>petal_length</th>\n",
       "      <th>petal_width</th>\n",
       "      <th>species</th>\n",
       "    </tr>\n",
       "  </thead>\n",
       "  <tbody>\n",
       "    <tr>\n",
       "      <th>0</th>\n",
       "      <td>5.1</td>\n",
       "      <td>3.5</td>\n",
       "      <td>1.4</td>\n",
       "      <td>0.2</td>\n",
       "      <td>Iris-setosa</td>\n",
       "    </tr>\n",
       "    <tr>\n",
       "      <th>1</th>\n",
       "      <td>4.9</td>\n",
       "      <td>3.0</td>\n",
       "      <td>1.4</td>\n",
       "      <td>0.2</td>\n",
       "      <td>Iris-setosa</td>\n",
       "    </tr>\n",
       "    <tr>\n",
       "      <th>2</th>\n",
       "      <td>4.7</td>\n",
       "      <td>3.2</td>\n",
       "      <td>1.3</td>\n",
       "      <td>0.2</td>\n",
       "      <td>Iris-setosa</td>\n",
       "    </tr>\n",
       "    <tr>\n",
       "      <th>3</th>\n",
       "      <td>4.6</td>\n",
       "      <td>3.1</td>\n",
       "      <td>1.5</td>\n",
       "      <td>0.2</td>\n",
       "      <td>Iris-setosa</td>\n",
       "    </tr>\n",
       "    <tr>\n",
       "      <th>4</th>\n",
       "      <td>5.0</td>\n",
       "      <td>3.6</td>\n",
       "      <td>1.4</td>\n",
       "      <td>0.2</td>\n",
       "      <td>Iris-setosa</td>\n",
       "    </tr>\n",
       "  </tbody>\n",
       "</table>\n",
       "</div>"
      ],
      "text/plain": [
       "   sepal_length  sepal_width  petal_length  petal_width      species\n",
       "0           5.1          3.5           1.4          0.2  Iris-setosa\n",
       "1           4.9          3.0           1.4          0.2  Iris-setosa\n",
       "2           4.7          3.2           1.3          0.2  Iris-setosa\n",
       "3           4.6          3.1           1.5          0.2  Iris-setosa\n",
       "4           5.0          3.6           1.4          0.2  Iris-setosa"
      ]
     },
     "execution_count": 3,
     "metadata": {},
     "output_type": "execute_result"
    }
   ],
   "source": [
    "df.head()"
   ]
  },
  {
   "cell_type": "code",
   "execution_count": 4,
   "id": "7246e848",
   "metadata": {
    "execution": {
     "iopub.execute_input": "2023-11-21T23:21:32.316694Z",
     "iopub.status.busy": "2023-11-21T23:21:32.316283Z",
     "iopub.status.idle": "2023-11-21T23:21:32.330886Z",
     "shell.execute_reply": "2023-11-21T23:21:32.329426Z"
    },
    "papermill": {
     "duration": 0.025384,
     "end_time": "2023-11-21T23:21:32.334809",
     "exception": false,
     "start_time": "2023-11-21T23:21:32.309425",
     "status": "completed"
    },
    "tags": []
   },
   "outputs": [],
   "source": [
    "X = df[['sepal_length', 'sepal_width', 'petal_length', 'petal_width']]\n",
    "y = df['species']"
   ]
  },
  {
   "cell_type": "code",
   "execution_count": 5,
   "id": "54097f0a",
   "metadata": {
    "execution": {
     "iopub.execute_input": "2023-11-21T23:21:32.347114Z",
     "iopub.status.busy": "2023-11-21T23:21:32.346704Z",
     "iopub.status.idle": "2023-11-21T23:21:32.353188Z",
     "shell.execute_reply": "2023-11-21T23:21:32.351962Z"
    },
    "papermill": {
     "duration": 0.016056,
     "end_time": "2023-11-21T23:21:32.356069",
     "exception": false,
     "start_time": "2023-11-21T23:21:32.340013",
     "status": "completed"
    },
    "tags": []
   },
   "outputs": [],
   "source": [
    "label_encoder = LabelEncoder()\n",
    "y = label_encoder.fit_transform(y)"
   ]
  },
  {
   "cell_type": "code",
   "execution_count": 6,
   "id": "bdfe5bf6",
   "metadata": {
    "execution": {
     "iopub.execute_input": "2023-11-21T23:21:32.369074Z",
     "iopub.status.busy": "2023-11-21T23:21:32.368668Z",
     "iopub.status.idle": "2023-11-21T23:21:32.378416Z",
     "shell.execute_reply": "2023-11-21T23:21:32.376368Z"
    },
    "papermill": {
     "duration": 0.0192,
     "end_time": "2023-11-21T23:21:32.381118",
     "exception": false,
     "start_time": "2023-11-21T23:21:32.361918",
     "status": "completed"
    },
    "tags": []
   },
   "outputs": [
    {
     "data": {
      "text/plain": [
       "array([0, 0, 0, 0, 0, 0, 0, 0, 0, 0, 0, 0, 0, 0, 0, 0, 0, 0, 0, 0, 0, 0,\n",
       "       0, 0, 0, 0, 0, 0, 0, 0, 0, 0, 0, 0, 0, 0, 0, 0, 0, 0, 0, 0, 0, 0,\n",
       "       0, 0, 0, 0, 0, 0, 1, 1, 1, 1, 1, 1, 1, 1, 1, 1, 1, 1, 1, 1, 1, 1,\n",
       "       1, 1, 1, 1, 1, 1, 1, 1, 1, 1, 1, 1, 1, 1, 1, 1, 1, 1, 1, 1, 1, 1,\n",
       "       1, 1, 1, 1, 1, 1, 1, 1, 1, 1, 1, 1, 2, 2, 2, 2, 2, 2, 2, 2, 2, 2,\n",
       "       2, 2, 2, 2, 2, 2, 2, 2, 2, 2, 2, 2, 2, 2, 2, 2, 2, 2, 2, 2, 2, 2,\n",
       "       2, 2, 2, 2, 2, 2, 2, 2, 2, 2, 2, 2, 2, 2, 2, 2, 2, 2])"
      ]
     },
     "execution_count": 6,
     "metadata": {},
     "output_type": "execute_result"
    }
   ],
   "source": [
    "y"
   ]
  },
  {
   "cell_type": "code",
   "execution_count": 7,
   "id": "97947c01",
   "metadata": {
    "execution": {
     "iopub.execute_input": "2023-11-21T23:21:32.394159Z",
     "iopub.status.busy": "2023-11-21T23:21:32.393531Z",
     "iopub.status.idle": "2023-11-21T23:21:32.402798Z",
     "shell.execute_reply": "2023-11-21T23:21:32.401608Z"
    },
    "papermill": {
     "duration": 0.019866,
     "end_time": "2023-11-21T23:21:32.406554",
     "exception": false,
     "start_time": "2023-11-21T23:21:32.386688",
     "status": "completed"
    },
    "tags": []
   },
   "outputs": [],
   "source": [
    "X_train, X_valid, y_train, y_valid = train_test_split(X, y, stratify=y, train_size=0.8)\n",
    "\n",
    "input_shape = [X_train.shape[1]]"
   ]
  },
  {
   "cell_type": "code",
   "execution_count": 8,
   "id": "6b4c96cc",
   "metadata": {
    "execution": {
     "iopub.execute_input": "2023-11-21T23:21:32.419552Z",
     "iopub.status.busy": "2023-11-21T23:21:32.419142Z",
     "iopub.status.idle": "2023-11-21T23:21:32.848136Z",
     "shell.execute_reply": "2023-11-21T23:21:32.846988Z"
    },
    "papermill": {
     "duration": 0.438702,
     "end_time": "2023-11-21T23:21:32.850835",
     "exception": false,
     "start_time": "2023-11-21T23:21:32.412133",
     "status": "completed"
    },
    "tags": []
   },
   "outputs": [],
   "source": [
    "from tensorflow import keras\n",
    "from tensorflow.keras import layers\n",
    "\n",
    "# YOUR CODE HERE: define the model given in the diagram\n",
    "model = keras.Sequential([\n",
    "    layers.Dense(512, activation='relu', input_shape=input_shape),\n",
    "    layers.Dense(256, activation='relu'),\n",
    "    layers.Dense(64, activation='relu'),\n",
    "    layers.Dense(32, activation='relu'),\n",
    "    layers.Dense(16, activation='relu'),\n",
    "    layers.Dense(3, activation='softmax'),\n",
    "])\n"
   ]
  },
  {
   "cell_type": "code",
   "execution_count": 9,
   "id": "5b7226f5",
   "metadata": {
    "execution": {
     "iopub.execute_input": "2023-11-21T23:21:32.864075Z",
     "iopub.status.busy": "2023-11-21T23:21:32.863461Z",
     "iopub.status.idle": "2023-11-21T23:21:32.891778Z",
     "shell.execute_reply": "2023-11-21T23:21:32.889897Z"
    },
    "papermill": {
     "duration": 0.041526,
     "end_time": "2023-11-21T23:21:32.897911",
     "exception": false,
     "start_time": "2023-11-21T23:21:32.856385",
     "status": "completed"
    },
    "tags": []
   },
   "outputs": [
    {
     "name": "stdout",
     "output_type": "stream",
     "text": [
      "Model: \"sequential\"\n",
      "_________________________________________________________________\n",
      " Layer (type)                Output Shape              Param #   \n",
      "=================================================================\n",
      " dense (Dense)               (None, 512)               2560      \n",
      "                                                                 \n",
      " dense_1 (Dense)             (None, 256)               131328    \n",
      "                                                                 \n",
      " dense_2 (Dense)             (None, 64)                16448     \n",
      "                                                                 \n",
      " dense_3 (Dense)             (None, 32)                2080      \n",
      "                                                                 \n",
      " dense_4 (Dense)             (None, 16)                528       \n",
      "                                                                 \n",
      " dense_5 (Dense)             (None, 3)                 51        \n",
      "                                                                 \n",
      "=================================================================\n",
      "Total params: 152995 (597.64 KB)\n",
      "Trainable params: 152995 (597.64 KB)\n",
      "Non-trainable params: 0 (0.00 Byte)\n",
      "_________________________________________________________________\n"
     ]
    }
   ],
   "source": [
    "model.summary()"
   ]
  },
  {
   "cell_type": "code",
   "execution_count": 10,
   "id": "eb5d3f7f",
   "metadata": {
    "execution": {
     "iopub.execute_input": "2023-11-21T23:21:32.914386Z",
     "iopub.status.busy": "2023-11-21T23:21:32.913950Z",
     "iopub.status.idle": "2023-11-21T23:21:32.936739Z",
     "shell.execute_reply": "2023-11-21T23:21:32.935845Z"
    },
    "papermill": {
     "duration": 0.034188,
     "end_time": "2023-11-21T23:21:32.939352",
     "exception": false,
     "start_time": "2023-11-21T23:21:32.905164",
     "status": "completed"
    },
    "tags": []
   },
   "outputs": [],
   "source": [
    "model.compile(optimizer='adam', loss='sparse_categorical_crossentropy',\n",
    "    metrics=['accuracy'],)"
   ]
  },
  {
   "cell_type": "code",
   "execution_count": 11,
   "id": "503cf629",
   "metadata": {
    "execution": {
     "iopub.execute_input": "2023-11-21T23:21:32.956815Z",
     "iopub.status.busy": "2023-11-21T23:21:32.955643Z",
     "iopub.status.idle": "2023-11-21T23:21:38.187540Z",
     "shell.execute_reply": "2023-11-21T23:21:38.186024Z"
    },
    "papermill": {
     "duration": 5.243691,
     "end_time": "2023-11-21T23:21:38.190374",
     "exception": false,
     "start_time": "2023-11-21T23:21:32.946683",
     "status": "completed"
    },
    "tags": []
   },
   "outputs": [
    {
     "name": "stdout",
     "output_type": "stream",
     "text": [
      "Epoch 1/50\n",
      "1/1 [==============================] - 2s 2s/step - loss: 1.0822 - accuracy: 0.3333 - val_loss: 1.0475 - val_accuracy: 0.3333\n",
      "Epoch 2/50\n",
      "1/1 [==============================] - 0s 53ms/step - loss: 1.0476 - accuracy: 0.3333 - val_loss: 1.0107 - val_accuracy: 0.3333\n",
      "Epoch 3/50\n",
      "1/1 [==============================] - 0s 44ms/step - loss: 1.0094 - accuracy: 0.3333 - val_loss: 0.9857 - val_accuracy: 0.3333\n",
      "Epoch 4/50\n",
      "1/1 [==============================] - 0s 47ms/step - loss: 0.9811 - accuracy: 0.3333 - val_loss: 0.9558 - val_accuracy: 0.1667\n",
      "Epoch 5/50\n",
      "1/1 [==============================] - 0s 44ms/step - loss: 0.9518 - accuracy: 0.1750 - val_loss: 0.9330 - val_accuracy: 0.1000\n",
      "Epoch 6/50\n",
      "1/1 [==============================] - 0s 45ms/step - loss: 0.9282 - accuracy: 0.2083 - val_loss: 0.9129 - val_accuracy: 0.3333\n",
      "Epoch 7/50\n",
      "1/1 [==============================] - 0s 42ms/step - loss: 0.9061 - accuracy: 0.3083 - val_loss: 0.8912 - val_accuracy: 0.3333\n",
      "Epoch 8/50\n",
      "1/1 [==============================] - 0s 48ms/step - loss: 0.8851 - accuracy: 0.3333 - val_loss: 0.8700 - val_accuracy: 0.3333\n",
      "Epoch 9/50\n",
      "1/1 [==============================] - 0s 42ms/step - loss: 0.8651 - accuracy: 0.3333 - val_loss: 0.8484 - val_accuracy: 0.3333\n",
      "Epoch 10/50\n",
      "1/1 [==============================] - 0s 43ms/step - loss: 0.8436 - accuracy: 0.3333 - val_loss: 0.8215 - val_accuracy: 0.4000\n",
      "Epoch 11/50\n",
      "1/1 [==============================] - 0s 44ms/step - loss: 0.8159 - accuracy: 0.4000 - val_loss: 0.7897 - val_accuracy: 0.6333\n",
      "Epoch 12/50\n",
      "1/1 [==============================] - 0s 41ms/step - loss: 0.7825 - accuracy: 0.6500 - val_loss: 0.7533 - val_accuracy: 0.6667\n",
      "Epoch 13/50\n",
      "1/1 [==============================] - 0s 58ms/step - loss: 0.7452 - accuracy: 0.6667 - val_loss: 0.7240 - val_accuracy: 0.6667\n",
      "Epoch 14/50\n",
      "1/1 [==============================] - 0s 41ms/step - loss: 0.7164 - accuracy: 0.6667 - val_loss: 0.6942 - val_accuracy: 0.6667\n",
      "Epoch 15/50\n",
      "1/1 [==============================] - 0s 42ms/step - loss: 0.6868 - accuracy: 0.6667 - val_loss: 0.6626 - val_accuracy: 0.6667\n",
      "Epoch 16/50\n",
      "1/1 [==============================] - 0s 44ms/step - loss: 0.6548 - accuracy: 0.6667 - val_loss: 0.6311 - val_accuracy: 0.6667\n",
      "Epoch 17/50\n",
      "1/1 [==============================] - 0s 48ms/step - loss: 0.6226 - accuracy: 0.6667 - val_loss: 0.6021 - val_accuracy: 0.6667\n",
      "Epoch 18/50\n",
      "1/1 [==============================] - 0s 43ms/step - loss: 0.5947 - accuracy: 0.6667 - val_loss: 0.5700 - val_accuracy: 0.6667\n",
      "Epoch 19/50\n",
      "1/1 [==============================] - 0s 41ms/step - loss: 0.5645 - accuracy: 0.6667 - val_loss: 0.5400 - val_accuracy: 0.7667\n",
      "Epoch 20/50\n",
      "1/1 [==============================] - 0s 44ms/step - loss: 0.5350 - accuracy: 0.8000 - val_loss: 0.5173 - val_accuracy: 0.7667\n",
      "Epoch 21/50\n",
      "1/1 [==============================] - 0s 44ms/step - loss: 0.5133 - accuracy: 0.8917 - val_loss: 0.4937 - val_accuracy: 0.8000\n",
      "Epoch 22/50\n",
      "1/1 [==============================] - 0s 42ms/step - loss: 0.4915 - accuracy: 0.8750 - val_loss: 0.4712 - val_accuracy: 0.8333\n",
      "Epoch 23/50\n",
      "1/1 [==============================] - 0s 42ms/step - loss: 0.4704 - accuracy: 0.8583 - val_loss: 0.4513 - val_accuracy: 0.8667\n",
      "Epoch 24/50\n",
      "1/1 [==============================] - 0s 47ms/step - loss: 0.4521 - accuracy: 0.8667 - val_loss: 0.4326 - val_accuracy: 0.9000\n",
      "Epoch 25/50\n",
      "1/1 [==============================] - 0s 43ms/step - loss: 0.4349 - accuracy: 0.9083 - val_loss: 0.4133 - val_accuracy: 1.0000\n",
      "Epoch 26/50\n",
      "1/1 [==============================] - 0s 42ms/step - loss: 0.4180 - accuracy: 0.9583 - val_loss: 0.3943 - val_accuracy: 1.0000\n",
      "Epoch 27/50\n",
      "1/1 [==============================] - 0s 45ms/step - loss: 0.4007 - accuracy: 0.9583 - val_loss: 0.3760 - val_accuracy: 0.9000\n",
      "Epoch 28/50\n",
      "1/1 [==============================] - 0s 44ms/step - loss: 0.3845 - accuracy: 0.9167 - val_loss: 0.3580 - val_accuracy: 0.9667\n",
      "Epoch 29/50\n",
      "1/1 [==============================] - 0s 49ms/step - loss: 0.3682 - accuracy: 0.9333 - val_loss: 0.3401 - val_accuracy: 1.0000\n",
      "Epoch 30/50\n",
      "1/1 [==============================] - 0s 47ms/step - loss: 0.3524 - accuracy: 0.9583 - val_loss: 0.3216 - val_accuracy: 1.0000\n",
      "Epoch 31/50\n",
      "1/1 [==============================] - 0s 42ms/step - loss: 0.3361 - accuracy: 0.9583 - val_loss: 0.3028 - val_accuracy: 1.0000\n",
      "Epoch 32/50\n",
      "1/1 [==============================] - 0s 46ms/step - loss: 0.3196 - accuracy: 0.9583 - val_loss: 0.2842 - val_accuracy: 1.0000\n",
      "Epoch 33/50\n",
      "1/1 [==============================] - 0s 50ms/step - loss: 0.3035 - accuracy: 0.9583 - val_loss: 0.2652 - val_accuracy: 1.0000\n",
      "Epoch 34/50\n",
      "1/1 [==============================] - 0s 45ms/step - loss: 0.2874 - accuracy: 0.9667 - val_loss: 0.2458 - val_accuracy: 1.0000\n",
      "Epoch 35/50\n",
      "1/1 [==============================] - 0s 47ms/step - loss: 0.2710 - accuracy: 0.9667 - val_loss: 0.2269 - val_accuracy: 1.0000\n",
      "Epoch 36/50\n",
      "1/1 [==============================] - 0s 47ms/step - loss: 0.2551 - accuracy: 0.9583 - val_loss: 0.2075 - val_accuracy: 1.0000\n",
      "Epoch 37/50\n",
      "1/1 [==============================] - 0s 52ms/step - loss: 0.2390 - accuracy: 0.9667 - val_loss: 0.1890 - val_accuracy: 1.0000\n",
      "Epoch 38/50\n",
      "1/1 [==============================] - 0s 49ms/step - loss: 0.2235 - accuracy: 0.9667 - val_loss: 0.1711 - val_accuracy: 1.0000\n",
      "Epoch 39/50\n",
      "1/1 [==============================] - 0s 49ms/step - loss: 0.2085 - accuracy: 0.9667 - val_loss: 0.1538 - val_accuracy: 1.0000\n",
      "Epoch 40/50\n",
      "1/1 [==============================] - 0s 53ms/step - loss: 0.1939 - accuracy: 0.9667 - val_loss: 0.1378 - val_accuracy: 1.0000\n",
      "Epoch 41/50\n",
      "1/1 [==============================] - 0s 51ms/step - loss: 0.1804 - accuracy: 0.9667 - val_loss: 0.1229 - val_accuracy: 1.0000\n",
      "Epoch 42/50\n",
      "1/1 [==============================] - 0s 46ms/step - loss: 0.1678 - accuracy: 0.9667 - val_loss: 0.1092 - val_accuracy: 1.0000\n",
      "Epoch 43/50\n",
      "1/1 [==============================] - 0s 47ms/step - loss: 0.1561 - accuracy: 0.9667 - val_loss: 0.0966 - val_accuracy: 1.0000\n",
      "Epoch 44/50\n",
      "1/1 [==============================] - 0s 51ms/step - loss: 0.1456 - accuracy: 0.9667 - val_loss: 0.0853 - val_accuracy: 1.0000\n",
      "Epoch 45/50\n",
      "1/1 [==============================] - 0s 48ms/step - loss: 0.1363 - accuracy: 0.9667 - val_loss: 0.0754 - val_accuracy: 1.0000\n",
      "Epoch 46/50\n",
      "1/1 [==============================] - 0s 47ms/step - loss: 0.1281 - accuracy: 0.9833 - val_loss: 0.0663 - val_accuracy: 1.0000\n",
      "Epoch 47/50\n",
      "1/1 [==============================] - 0s 46ms/step - loss: 0.1209 - accuracy: 0.9667 - val_loss: 0.0585 - val_accuracy: 1.0000\n",
      "Epoch 48/50\n",
      "1/1 [==============================] - 0s 56ms/step - loss: 0.1145 - accuracy: 0.9750 - val_loss: 0.0514 - val_accuracy: 1.0000\n",
      "Epoch 49/50\n",
      "1/1 [==============================] - 0s 53ms/step - loss: 0.1091 - accuracy: 0.9750 - val_loss: 0.0454 - val_accuracy: 1.0000\n",
      "Epoch 50/50\n",
      "1/1 [==============================] - 0s 52ms/step - loss: 0.1044 - accuracy: 0.9750 - val_loss: 0.0402 - val_accuracy: 1.0000\n"
     ]
    },
    {
     "data": {
      "text/plain": [
       "<Axes: title={'center': 'Accuracy'}>"
      ]
     },
     "execution_count": 11,
     "metadata": {},
     "output_type": "execute_result"
    },
    {
     "data": {
      "image/png": "[encoded data removed]",
      "text/plain": [
       "<Figure size 640x480 with 1 Axes>"
      ]
     },
     "metadata": {},
     "output_type": "display_data"
    },
    {
     "data": {
      "image/png": "[encoded data removed]",
      "text/plain": [
       "<Figure size 640x480 with 1 Axes>"
      ]
     },
     "metadata": {},
     "output_type": "display_data"
    }
   ],
   "source": [
    "early_stopping = keras.callbacks.EarlyStopping(\n",
    "    patience=5,\n",
    "    min_delta=0.001,\n",
    "    restore_best_weights=True,\n",
    ")\n",
    "history = model.fit(\n",
    "    X_train, y_train,\n",
    "    validation_data=(X_valid, y_valid),\n",
    "    epochs=50,\n",
    "    batch_size=512,\n",
    "    callbacks=[early_stopping],\n",
    ")\n",
    "\n",
    "history_df = pd.DataFrame(history.history)\n",
    "history_df.loc[:, ['loss', 'val_loss']].plot(title=\"Cross-entropy\")\n",
    "history_df.loc[:, ['accuracy', 'val_accuracy']].plot(title=\"Accuracy\")"
   ]
  }
 ],
 "metadata": {
  "kaggle": {
   "accelerator": "none",
   "dataSources": [
    {
     "datasetId": 17860,
     "sourceId": 23404,
     "sourceType": "datasetVersion"
    }
   ],
   "dockerImageVersionId": 30587,
   "isGpuEnabled": false,
   "isInternetEnabled": true,
   "language": "python",
   "sourceType": "notebook"
  },
  "kernelspec": {
   "display_name": "Python 3",
   "language": "python",
   "name": "python3"
  },
  "language_info": {
   "codemirror_mode": {
    "name": "ipython",
    "version": 3
   },
   "file_extension": ".py",
   "mimetype": "text/x-python",
   "name": "python",
   "nbconvert_exporter": "python",
   "pygments_lexer": "ipython3",
   "version": "3.10.12"
  },
  "papermill": {
   "default_parameters": {},
   "duration": 29.309736,
   "end_time": "2023-11-21T23:21:40.144696",
   "environment_variables": {},
   "exception": null,
   "input_path": "__notebook__.ipynb",
   "output_path": "__notebook__.ipynb",
   "parameters": {},
   "start_time": "2023-11-21T23:21:10.834960",
   "version": "2.4.0"
  }
 },
 "nbformat": 4,
 "nbformat_minor": 5
}
