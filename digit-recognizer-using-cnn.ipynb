{
 "cells": [
  {
   "cell_type": "markdown",
   "id": "51a4b5d0",
   "metadata": {
    "papermill": {
     "duration": 0.012805,
     "end_time": "2023-11-28T11:00:05.874745",
     "exception": false,
     "start_time": "2023-11-28T11:00:05.861940",
     "status": "completed"
    },
    "tags": []
   },
   "source": [
    "# Imports"
   ]
  },
  {
   "cell_type": "code",
   "execution_count": 1,
   "id": "04bf48d8",
   "metadata": {
    "_cell_guid": "b1076dfc-b9ad-4769-8c92-a6c4dae69d19",
    "_kg_hide-output": true,
    "_uuid": "8f2839f25d086af736a60e9eeb907d3b93b6e0e5",
    "execution": {
     "iopub.execute_input": "2023-11-28T11:00:05.898436Z",
     "iopub.status.busy": "2023-11-28T11:00:05.897822Z",
     "iopub.status.idle": "2023-11-28T11:00:14.875363Z",
     "shell.execute_reply": "2023-11-28T11:00:14.873853Z"
    },
    "papermill": {
     "duration": 8.993811,
     "end_time": "2023-11-28T11:00:14.878864",
     "exception": false,
     "start_time": "2023-11-28T11:00:05.885053",
     "status": "completed"
    },
    "tags": []
   },
   "outputs": [
    {
     "name": "stdout",
     "output_type": "stream",
     "text": [
      "/kaggle/input/digit-recognizer/sample_submission.csv\n",
      "/kaggle/input/digit-recognizer/train.csv\n",
      "/kaggle/input/digit-recognizer/test.csv\n"
     ]
    }
   ],
   "source": [
    "import numpy as np # linear algebra\n",
    "import pandas as pd # data processing, CSV file I/O (e.g. pd.read_csv)\n",
    "import matplotlib.pyplot as plt\n",
    "from sklearn.model_selection import train_test_split\n",
    "import tensorflow as tf # TensorFlow and tf.keras\n",
    "from tensorflow import keras\n",
    "from tensorflow.keras import layers\n",
    "from tensorflow.keras.layers.experimental import preprocessing\n",
    "\n",
    "import os\n",
    "for dirname, _, filenames in os.walk('/kaggle/input'):\n",
    "    for filename in filenames:\n",
    "        print(os.path.join(dirname, filename))"
   ]
  },
  {
   "cell_type": "code",
   "execution_count": 2,
   "id": "a03036a3",
   "metadata": {
    "execution": {
     "iopub.execute_input": "2023-11-28T11:00:14.902510Z",
     "iopub.status.busy": "2023-11-28T11:00:14.901742Z",
     "iopub.status.idle": "2023-11-28T11:00:21.549443Z",
     "shell.execute_reply": "2023-11-28T11:00:21.548076Z"
    },
    "papermill": {
     "duration": 6.662847,
     "end_time": "2023-11-28T11:00:21.552600",
     "exception": false,
     "start_time": "2023-11-28T11:00:14.889753",
     "status": "completed"
    },
    "tags": []
   },
   "outputs": [],
   "source": [
    "train = pd.read_csv('../input/digit-recognizer/train.csv')\n",
    "test = pd.read_csv('../input/digit-recognizer/test.csv')"
   ]
  },
  {
   "cell_type": "markdown",
   "id": "8fe2cf31",
   "metadata": {
    "papermill": {
     "duration": 0.010287,
     "end_time": "2023-11-28T11:00:21.572761",
     "exception": false,
     "start_time": "2023-11-28T11:00:21.562474",
     "status": "completed"
    },
    "tags": []
   },
   "source": [
    "# Data preprocessing"
   ]
  },
  {
   "cell_type": "code",
   "execution_count": 3,
   "id": "7077c1e3",
   "metadata": {
    "execution": {
     "iopub.execute_input": "2023-11-28T11:00:21.595526Z",
     "iopub.status.busy": "2023-11-28T11:00:21.595047Z",
     "iopub.status.idle": "2023-11-28T11:00:21.606909Z",
     "shell.execute_reply": "2023-11-28T11:00:21.605383Z"
    },
    "papermill": {
     "duration": 0.026914,
     "end_time": "2023-11-28T11:00:21.609667",
     "exception": false,
     "start_time": "2023-11-28T11:00:21.582753",
     "status": "completed"
    },
    "tags": []
   },
   "outputs": [
    {
     "data": {
      "text/plain": [
       "(42000, 785)"
      ]
     },
     "execution_count": 3,
     "metadata": {},
     "output_type": "execute_result"
    }
   ],
   "source": [
    "train.shape"
   ]
  },
  {
   "cell_type": "code",
   "execution_count": 4,
   "id": "a84dda2d",
   "metadata": {
    "execution": {
     "iopub.execute_input": "2023-11-28T11:00:21.635041Z",
     "iopub.status.busy": "2023-11-28T11:00:21.633712Z",
     "iopub.status.idle": "2023-11-28T11:00:21.642543Z",
     "shell.execute_reply": "2023-11-28T11:00:21.641413Z"
    },
    "papermill": {
     "duration": 0.02558,
     "end_time": "2023-11-28T11:00:21.645363",
     "exception": false,
     "start_time": "2023-11-28T11:00:21.619783",
     "status": "completed"
    },
    "tags": []
   },
   "outputs": [
    {
     "data": {
      "text/plain": [
       "(28000, 784)"
      ]
     },
     "execution_count": 4,
     "metadata": {},
     "output_type": "execute_result"
    }
   ],
   "source": [
    "test.shape"
   ]
  },
  {
   "cell_type": "code",
   "execution_count": 5,
   "id": "8a919ba8",
   "metadata": {
    "execution": {
     "iopub.execute_input": "2023-11-28T11:00:21.668094Z",
     "iopub.status.busy": "2023-11-28T11:00:21.667661Z",
     "iopub.status.idle": "2023-11-28T11:00:21.769106Z",
     "shell.execute_reply": "2023-11-28T11:00:21.767709Z"
    },
    "papermill": {
     "duration": 0.116335,
     "end_time": "2023-11-28T11:00:21.772249",
     "exception": false,
     "start_time": "2023-11-28T11:00:21.655914",
     "status": "completed"
    },
    "tags": []
   },
   "outputs": [],
   "source": [
    "X = train.drop(columns=['label'])\n",
    "y = train['label']"
   ]
  },
  {
   "cell_type": "code",
   "execution_count": 6,
   "id": "39bb5555",
   "metadata": {
    "execution": {
     "iopub.execute_input": "2023-11-28T11:00:21.795105Z",
     "iopub.status.busy": "2023-11-28T11:00:21.794671Z",
     "iopub.status.idle": "2023-11-28T11:00:21.802563Z",
     "shell.execute_reply": "2023-11-28T11:00:21.801307Z"
    },
    "papermill": {
     "duration": 0.022526,
     "end_time": "2023-11-28T11:00:21.805195",
     "exception": false,
     "start_time": "2023-11-28T11:00:21.782669",
     "status": "completed"
    },
    "tags": []
   },
   "outputs": [
    {
     "data": {
      "text/plain": [
       "'plt.figure()\\nplt.imshow(X[1])\\nplt.colorbar()\\nplt.grid(False)\\nplt.show()'"
      ]
     },
     "execution_count": 6,
     "metadata": {},
     "output_type": "execute_result"
    }
   ],
   "source": [
    "'''plt.figure()\n",
    "plt.imshow(X[1])\n",
    "plt.colorbar()\n",
    "plt.grid(False)\n",
    "plt.show()'''"
   ]
  },
  {
   "cell_type": "code",
   "execution_count": 7,
   "id": "55e30dc3",
   "metadata": {
    "execution": {
     "iopub.execute_input": "2023-11-28T11:00:21.828470Z",
     "iopub.status.busy": "2023-11-28T11:00:21.827646Z",
     "iopub.status.idle": "2023-11-28T11:00:21.933362Z",
     "shell.execute_reply": "2023-11-28T11:00:21.932141Z"
    },
    "papermill": {
     "duration": 0.120814,
     "end_time": "2023-11-28T11:00:21.936706",
     "exception": false,
     "start_time": "2023-11-28T11:00:21.815892",
     "status": "completed"
    },
    "tags": []
   },
   "outputs": [],
   "source": [
    "X = X / 255.0\n",
    "test = test / 255.0"
   ]
  },
  {
   "cell_type": "code",
   "execution_count": 8,
   "id": "bf1ecb6f",
   "metadata": {
    "execution": {
     "iopub.execute_input": "2023-11-28T11:00:21.960202Z",
     "iopub.status.busy": "2023-11-28T11:00:21.959781Z",
     "iopub.status.idle": "2023-11-28T11:00:21.966053Z",
     "shell.execute_reply": "2023-11-28T11:00:21.964754Z"
    },
    "papermill": {
     "duration": 0.020941,
     "end_time": "2023-11-28T11:00:21.968780",
     "exception": false,
     "start_time": "2023-11-28T11:00:21.947839",
     "status": "completed"
    },
    "tags": []
   },
   "outputs": [],
   "source": [
    "X = X.values.reshape(-1, 28, 28, 1)\n",
    "test = test.values.reshape(-1, 28, 28, 1)"
   ]
  },
  {
   "cell_type": "code",
   "execution_count": 9,
   "id": "7d6a2ff8",
   "metadata": {
    "execution": {
     "iopub.execute_input": "2023-11-28T11:00:21.992599Z",
     "iopub.status.busy": "2023-11-28T11:00:21.992128Z",
     "iopub.status.idle": "2023-11-28T11:00:21.998867Z",
     "shell.execute_reply": "2023-11-28T11:00:21.997892Z"
    },
    "papermill": {
     "duration": 0.021975,
     "end_time": "2023-11-28T11:00:22.001545",
     "exception": false,
     "start_time": "2023-11-28T11:00:21.979570",
     "status": "completed"
    },
    "tags": []
   },
   "outputs": [],
   "source": [
    "y = tf.keras.utils.to_categorical(y)"
   ]
  },
  {
   "cell_type": "code",
   "execution_count": 10,
   "id": "e123eeac",
   "metadata": {
    "execution": {
     "iopub.execute_input": "2023-11-28T11:00:22.024798Z",
     "iopub.status.busy": "2023-11-28T11:00:22.023985Z",
     "iopub.status.idle": "2023-11-28T11:00:22.449684Z",
     "shell.execute_reply": "2023-11-28T11:00:22.448624Z"
    },
    "papermill": {
     "duration": 0.440675,
     "end_time": "2023-11-28T11:00:22.452706",
     "exception": false,
     "start_time": "2023-11-28T11:00:22.012031",
     "status": "completed"
    },
    "tags": []
   },
   "outputs": [],
   "source": [
    "X_train, X_test, y_train, y_test = train_test_split(X, y, test_size=0.2, random_state=42)"
   ]
  },
  {
   "cell_type": "code",
   "execution_count": 11,
   "id": "940e5214",
   "metadata": {
    "execution": {
     "iopub.execute_input": "2023-11-28T11:00:22.476819Z",
     "iopub.status.busy": "2023-11-28T11:00:22.475581Z",
     "iopub.status.idle": "2023-11-28T11:00:22.484097Z",
     "shell.execute_reply": "2023-11-28T11:00:22.482643Z"
    },
    "papermill": {
     "duration": 0.02386,
     "end_time": "2023-11-28T11:00:22.486878",
     "exception": false,
     "start_time": "2023-11-28T11:00:22.463018",
     "status": "completed"
    },
    "tags": []
   },
   "outputs": [
    {
     "data": {
      "text/plain": [
       "(33600, 28, 28, 1)"
      ]
     },
     "execution_count": 11,
     "metadata": {},
     "output_type": "execute_result"
    }
   ],
   "source": [
    "X_train.shape"
   ]
  },
  {
   "cell_type": "code",
   "execution_count": 12,
   "id": "894c5365",
   "metadata": {
    "execution": {
     "iopub.execute_input": "2023-11-28T11:00:22.511124Z",
     "iopub.status.busy": "2023-11-28T11:00:22.509767Z",
     "iopub.status.idle": "2023-11-28T11:00:22.518358Z",
     "shell.execute_reply": "2023-11-28T11:00:22.517110Z"
    },
    "papermill": {
     "duration": 0.02322,
     "end_time": "2023-11-28T11:00:22.521149",
     "exception": false,
     "start_time": "2023-11-28T11:00:22.497929",
     "status": "completed"
    },
    "tags": []
   },
   "outputs": [
    {
     "data": {
      "text/plain": [
       "(8400, 28, 28, 1)"
      ]
     },
     "execution_count": 12,
     "metadata": {},
     "output_type": "execute_result"
    }
   ],
   "source": [
    "X_test.shape"
   ]
  },
  {
   "cell_type": "markdown",
   "id": "fd652cbc",
   "metadata": {
    "papermill": {
     "duration": 0.010258,
     "end_time": "2023-11-28T11:00:22.542687",
     "exception": false,
     "start_time": "2023-11-28T11:00:22.532429",
     "status": "completed"
    },
    "tags": []
   },
   "source": [
    "# Model"
   ]
  },
  {
   "cell_type": "code",
   "execution_count": 13,
   "id": "182ca1bd",
   "metadata": {
    "execution": {
     "iopub.execute_input": "2023-11-28T11:00:22.567172Z",
     "iopub.status.busy": "2023-11-28T11:00:22.566752Z",
     "iopub.status.idle": "2023-11-28T11:00:22.970288Z",
     "shell.execute_reply": "2023-11-28T11:00:22.968925Z"
    },
    "papermill": {
     "duration": 0.419044,
     "end_time": "2023-11-28T11:00:22.973430",
     "exception": false,
     "start_time": "2023-11-28T11:00:22.554386",
     "status": "completed"
    },
    "tags": []
   },
   "outputs": [],
   "source": [
    "model = keras.Sequential([\n",
    "    layers.InputLayer(input_shape=[28, 28, 1]),\n",
    "    \n",
    "    preprocessing.RandomRotation(factor=0.10),\n",
    "    preprocessing.RandomContrast(0.5),\n",
    "    \n",
    "    layers.BatchNormalization(renorm=True),\n",
    "    layers.Conv2D(filters=32, kernel_size=(4,4), activation='relu', padding='same', input_shape=[28, 28, 1]),\n",
    "    layers.MaxPool2D(),\n",
    "\n",
    "    layers.BatchNormalization(renorm=True),\n",
    "    layers.Conv2D(filters=64, kernel_size=(3,3), activation='relu', padding='same'),\n",
    "    layers.MaxPool2D(),\n",
    "\n",
    "    layers.BatchNormalization(renorm=True),\n",
    "    layers.Conv2D(filters=128, kernel_size=(3,3), activation='relu', padding='same'),\n",
    "    layers.Conv2D(filters=128, kernel_size=(3,3), activation='relu', padding='same'),\n",
    "    layers.MaxPool2D(),\n",
    "\n",
    "    layers.Flatten(),\n",
    "    layers.BatchNormalization(),\n",
    "    layers.Dropout(0.2),\n",
    "    layers.Dense(256, activation='relu'),\n",
    "    layers.BatchNormalization(),\n",
    "    layers.Dropout(0.2),\n",
    "    layers.Dense(10, activation='softmax'),\n",
    "])"
   ]
  },
  {
   "cell_type": "code",
   "execution_count": 14,
   "id": "59a28b54",
   "metadata": {
    "execution": {
     "iopub.execute_input": "2023-11-28T11:00:22.997871Z",
     "iopub.status.busy": "2023-11-28T11:00:22.996740Z",
     "iopub.status.idle": "2023-11-28T11:00:23.015170Z",
     "shell.execute_reply": "2023-11-28T11:00:23.013971Z"
    },
    "papermill": {
     "duration": 0.033675,
     "end_time": "2023-11-28T11:00:23.018167",
     "exception": false,
     "start_time": "2023-11-28T11:00:22.984492",
     "status": "completed"
    },
    "tags": []
   },
   "outputs": [],
   "source": [
    "model.compile(optimizer='adam',\n",
    "              loss='categorical_crossentropy',\n",
    "              metrics=['accuracy'])"
   ]
  },
  {
   "cell_type": "code",
   "execution_count": 15,
   "id": "592a3856",
   "metadata": {
    "execution": {
     "iopub.execute_input": "2023-11-28T11:00:23.042247Z",
     "iopub.status.busy": "2023-11-28T11:00:23.041818Z",
     "iopub.status.idle": "2023-11-28T11:00:23.052466Z",
     "shell.execute_reply": "2023-11-28T11:00:23.050888Z"
    },
    "papermill": {
     "duration": 0.027824,
     "end_time": "2023-11-28T11:00:23.056804",
     "exception": false,
     "start_time": "2023-11-28T11:00:23.028980",
     "status": "completed"
    },
    "tags": []
   },
   "outputs": [
    {
     "name": "stdout",
     "output_type": "stream",
     "text": [
      "Model: \"sequential\"\n",
      "_________________________________________________________________\n",
      "Layer (type)                 Output Shape              Param #   \n",
      "=================================================================\n",
      "random_rotation (RandomRotat (None, 28, 28, 1)         0         \n",
      "_________________________________________________________________\n",
      "random_contrast (RandomContr (None, 28, 28, 1)         0         \n",
      "_________________________________________________________________\n",
      "batch_normalization (BatchNo (None, 28, 28, 1)         7         \n",
      "_________________________________________________________________\n",
      "conv2d (Conv2D)              (None, 28, 28, 32)        544       \n",
      "_________________________________________________________________\n",
      "max_pooling2d (MaxPooling2D) (None, 14, 14, 32)        0         \n",
      "_________________________________________________________________\n",
      "batch_normalization_1 (Batch (None, 14, 14, 32)        224       \n",
      "_________________________________________________________________\n",
      "conv2d_1 (Conv2D)            (None, 14, 14, 64)        18496     \n",
      "_________________________________________________________________\n",
      "max_pooling2d_1 (MaxPooling2 (None, 7, 7, 64)          0         \n",
      "_________________________________________________________________\n",
      "batch_normalization_2 (Batch (None, 7, 7, 64)          448       \n",
      "_________________________________________________________________\n",
      "conv2d_2 (Conv2D)            (None, 7, 7, 128)         73856     \n",
      "_________________________________________________________________\n",
      "conv2d_3 (Conv2D)            (None, 7, 7, 128)         147584    \n",
      "_________________________________________________________________\n",
      "max_pooling2d_2 (MaxPooling2 (None, 3, 3, 128)         0         \n",
      "_________________________________________________________________\n",
      "flatten (Flatten)            (None, 1152)              0         \n",
      "_________________________________________________________________\n",
      "batch_normalization_3 (Batch (None, 1152)              4608      \n",
      "_________________________________________________________________\n",
      "dropout (Dropout)            (None, 1152)              0         \n",
      "_________________________________________________________________\n",
      "dense (Dense)                (None, 256)               295168    \n",
      "_________________________________________________________________\n",
      "batch_normalization_4 (Batch (None, 256)               1024      \n",
      "_________________________________________________________________\n",
      "dropout_1 (Dropout)          (None, 256)               0         \n",
      "_________________________________________________________________\n",
      "dense_1 (Dense)              (None, 10)                2570      \n",
      "=================================================================\n",
      "Total params: 544,529\n",
      "Trainable params: 541,228\n",
      "Non-trainable params: 3,301\n",
      "_________________________________________________________________\n"
     ]
    }
   ],
   "source": [
    "model.summary()"
   ]
  },
  {
   "cell_type": "code",
   "execution_count": 16,
   "id": "335f282a",
   "metadata": {
    "execution": {
     "iopub.execute_input": "2023-11-28T11:00:23.081728Z",
     "iopub.status.busy": "2023-11-28T11:00:23.081230Z",
     "iopub.status.idle": "2023-11-28T11:32:39.243401Z",
     "shell.execute_reply": "2023-11-28T11:32:39.241755Z"
    },
    "papermill": {
     "duration": 1936.17878,
     "end_time": "2023-11-28T11:32:39.247206",
     "exception": false,
     "start_time": "2023-11-28T11:00:23.068426",
     "status": "completed"
    },
    "tags": []
   },
   "outputs": [
    {
     "name": "stdout",
     "output_type": "stream",
     "text": [
      "Epoch 1/200\n",
      "1050/1050 [==============================] - 61s 55ms/step - loss: 0.2216 - accuracy: 0.9313 - val_loss: 0.0616 - val_accuracy: 0.9800\n",
      "Epoch 2/200\n",
      "1050/1050 [==============================] - 57s 55ms/step - loss: 0.0991 - accuracy: 0.9691 - val_loss: 0.0562 - val_accuracy: 0.9824\n",
      "Epoch 3/200\n",
      "1050/1050 [==============================] - 56s 54ms/step - loss: 0.0856 - accuracy: 0.9742 - val_loss: 0.0618 - val_accuracy: 0.9785\n",
      "Epoch 4/200\n",
      "1050/1050 [==============================] - 59s 56ms/step - loss: 0.0721 - accuracy: 0.9769 - val_loss: 0.0369 - val_accuracy: 0.9875\n",
      "Epoch 5/200\n",
      "1050/1050 [==============================] - 58s 55ms/step - loss: 0.0684 - accuracy: 0.9785 - val_loss: 0.0485 - val_accuracy: 0.9851\n",
      "Epoch 6/200\n",
      "1050/1050 [==============================] - 60s 57ms/step - loss: 0.0663 - accuracy: 0.9809 - val_loss: 0.0406 - val_accuracy: 0.9883\n",
      "Epoch 7/200\n",
      "1050/1050 [==============================] - 58s 55ms/step - loss: 0.0578 - accuracy: 0.9819 - val_loss: 0.0328 - val_accuracy: 0.9902\n",
      "Epoch 8/200\n",
      "1050/1050 [==============================] - 58s 55ms/step - loss: 0.0565 - accuracy: 0.9826 - val_loss: 0.0353 - val_accuracy: 0.9889\n",
      "Epoch 9/200\n",
      "1050/1050 [==============================] - 58s 55ms/step - loss: 0.0505 - accuracy: 0.9842 - val_loss: 0.0342 - val_accuracy: 0.9889\n",
      "Epoch 10/200\n",
      "1050/1050 [==============================] - 59s 57ms/step - loss: 0.0476 - accuracy: 0.9849 - val_loss: 0.0512 - val_accuracy: 0.9836\n",
      "Epoch 11/200\n",
      "1050/1050 [==============================] - 59s 56ms/step - loss: 0.0471 - accuracy: 0.9849 - val_loss: 0.0331 - val_accuracy: 0.9890\n",
      "Epoch 12/200\n",
      "1050/1050 [==============================] - 58s 56ms/step - loss: 0.0431 - accuracy: 0.9868 - val_loss: 0.0279 - val_accuracy: 0.9914\n",
      "Epoch 13/200\n",
      "1050/1050 [==============================] - 58s 56ms/step - loss: 0.0433 - accuracy: 0.9866 - val_loss: 0.0281 - val_accuracy: 0.9915\n",
      "Epoch 14/200\n",
      "1050/1050 [==============================] - 58s 55ms/step - loss: 0.0402 - accuracy: 0.9886 - val_loss: 0.0246 - val_accuracy: 0.9921\n",
      "Epoch 15/200\n",
      "1050/1050 [==============================] - 56s 54ms/step - loss: 0.0375 - accuracy: 0.9882 - val_loss: 0.0313 - val_accuracy: 0.9893\n",
      "Epoch 16/200\n",
      "1050/1050 [==============================] - 59s 57ms/step - loss: 0.0389 - accuracy: 0.9886 - val_loss: 0.0266 - val_accuracy: 0.9911\n",
      "Epoch 17/200\n",
      "1050/1050 [==============================] - 57s 54ms/step - loss: 0.0362 - accuracy: 0.9887 - val_loss: 0.0245 - val_accuracy: 0.9923\n",
      "Epoch 18/200\n",
      "1050/1050 [==============================] - 58s 55ms/step - loss: 0.0343 - accuracy: 0.9885 - val_loss: 0.0328 - val_accuracy: 0.9918\n",
      "Epoch 19/200\n",
      "1050/1050 [==============================] - 59s 56ms/step - loss: 0.0324 - accuracy: 0.9897 - val_loss: 0.0305 - val_accuracy: 0.9912\n",
      "Epoch 20/200\n",
      "1050/1050 [==============================] - 58s 55ms/step - loss: 0.0300 - accuracy: 0.9904 - val_loss: 0.0268 - val_accuracy: 0.9915\n",
      "Epoch 21/200\n",
      "1050/1050 [==============================] - 58s 55ms/step - loss: 0.0312 - accuracy: 0.9904 - val_loss: 0.0174 - val_accuracy: 0.9945\n",
      "Epoch 22/200\n",
      "1050/1050 [==============================] - 58s 56ms/step - loss: 0.0299 - accuracy: 0.9904 - val_loss: 0.0320 - val_accuracy: 0.9917\n",
      "Epoch 23/200\n",
      "1050/1050 [==============================] - 58s 55ms/step - loss: 0.0263 - accuracy: 0.9913 - val_loss: 0.0327 - val_accuracy: 0.9911\n",
      "Epoch 24/200\n",
      "1050/1050 [==============================] - 57s 55ms/step - loss: 0.0285 - accuracy: 0.9912 - val_loss: 0.0308 - val_accuracy: 0.9911\n",
      "Epoch 25/200\n",
      "1050/1050 [==============================] - 59s 56ms/step - loss: 0.0283 - accuracy: 0.9913 - val_loss: 0.0231 - val_accuracy: 0.9925\n",
      "Epoch 26/200\n",
      "1050/1050 [==============================] - 59s 56ms/step - loss: 0.0284 - accuracy: 0.9907 - val_loss: 0.0244 - val_accuracy: 0.9927\n",
      "Epoch 27/200\n",
      "1050/1050 [==============================] - 59s 56ms/step - loss: 0.0253 - accuracy: 0.9918 - val_loss: 0.0184 - val_accuracy: 0.9944\n",
      "Epoch 28/200\n",
      "1050/1050 [==============================] - 60s 57ms/step - loss: 0.0237 - accuracy: 0.9922 - val_loss: 0.0249 - val_accuracy: 0.9918\n",
      "Epoch 29/200\n",
      "1050/1050 [==============================] - 60s 58ms/step - loss: 0.0246 - accuracy: 0.9921 - val_loss: 0.0248 - val_accuracy: 0.9925\n",
      "Epoch 30/200\n",
      "1050/1050 [==============================] - 60s 57ms/step - loss: 0.0238 - accuracy: 0.9922 - val_loss: 0.0222 - val_accuracy: 0.9931\n",
      "Epoch 31/200\n",
      "1050/1050 [==============================] - 60s 57ms/step - loss: 0.0224 - accuracy: 0.9929 - val_loss: 0.0218 - val_accuracy: 0.9929\n",
      "Epoch 32/200\n",
      "1050/1050 [==============================] - 61s 58ms/step - loss: 0.0234 - accuracy: 0.9926 - val_loss: 0.0228 - val_accuracy: 0.9933\n",
      "Epoch 33/200\n",
      "1050/1050 [==============================] - 61s 58ms/step - loss: 0.0223 - accuracy: 0.9931 - val_loss: 0.0270 - val_accuracy: 0.9924\n"
     ]
    }
   ],
   "source": [
    "early_stopping = keras.callbacks.EarlyStopping(\n",
    "    patience=12,\n",
    "    min_delta=0.001,\n",
    "    restore_best_weights=True,\n",
    ")\n",
    "\n",
    "history = model.fit(\n",
    "    X_train, y_train,\n",
    "    validation_data=(X_test, y_test),\n",
    "    epochs=200,\n",
    "    callbacks=[early_stopping],\n",
    ")"
   ]
  },
  {
   "cell_type": "code",
   "execution_count": 17,
   "id": "1eb52d26",
   "metadata": {
    "execution": {
     "iopub.execute_input": "2023-11-28T11:32:43.818109Z",
     "iopub.status.busy": "2023-11-28T11:32:43.817640Z",
     "iopub.status.idle": "2023-11-28T11:32:44.459783Z",
     "shell.execute_reply": "2023-11-28T11:32:44.458280Z"
    },
    "papermill": {
     "duration": 2.901676,
     "end_time": "2023-11-28T11:32:44.462790",
     "exception": false,
     "start_time": "2023-11-28T11:32:41.561114",
     "status": "completed"
    },
    "tags": []
   },
   "outputs": [
    {
     "data": {
      "text/plain": [
       "<AxesSubplot:>"
      ]
     },
     "execution_count": 17,
     "metadata": {},
     "output_type": "execute_result"
    },
    {
     "data": {
      "image/png": "[encoded data removed]",
      "text/plain": [
       "<Figure size 432x288 with 1 Axes>"
      ]
     },
     "metadata": {
      "needs_background": "light"
     },
     "output_type": "display_data"
    },
    {
     "data": {
      "image/png": "[encoded data removed]",
      "text/plain": [
       "<Figure size 432x288 with 1 Axes>"
      ]
     },
     "metadata": {
      "needs_background": "light"
     },
     "output_type": "display_data"
    }
   ],
   "source": [
    "history_frame = pd.DataFrame(history.history)\n",
    "history_frame.loc[:, ['loss', 'val_loss']].plot()\n",
    "history_frame.loc[:, ['accuracy', 'val_accuracy']].plot()"
   ]
  },
  {
   "cell_type": "code",
   "execution_count": 18,
   "id": "b41df013",
   "metadata": {
    "execution": {
     "iopub.execute_input": "2023-11-28T11:32:49.032643Z",
     "iopub.status.busy": "2023-11-28T11:32:49.032114Z",
     "iopub.status.idle": "2023-11-28T11:32:53.346917Z",
     "shell.execute_reply": "2023-11-28T11:32:53.345289Z"
    },
    "papermill": {
     "duration": 6.595366,
     "end_time": "2023-11-28T11:32:53.350603",
     "exception": false,
     "start_time": "2023-11-28T11:32:46.755237",
     "status": "completed"
    },
    "tags": []
   },
   "outputs": [
    {
     "name": "stdout",
     "output_type": "stream",
     "text": [
      "263/263 - 4s - loss: 0.0174 - accuracy: 0.9945\n",
      "\n",
      "Test accuracy: 0.994523823261261\n"
     ]
    }
   ],
   "source": [
    "test_loss, test_acc = model.evaluate(X_test, y_test, verbose=2)\n",
    "\n",
    "print('\\nTest accuracy:', test_acc)"
   ]
  },
  {
   "cell_type": "markdown",
   "id": "c99d9eff",
   "metadata": {
    "papermill": {
     "duration": 2.279437,
     "end_time": "2023-11-28T11:32:57.992170",
     "exception": false,
     "start_time": "2023-11-28T11:32:55.712733",
     "status": "completed"
    },
    "tags": []
   },
   "source": [
    "# Predictions"
   ]
  },
  {
   "cell_type": "code",
   "execution_count": 19,
   "id": "66ea9503",
   "metadata": {
    "execution": {
     "iopub.execute_input": "2023-11-28T11:33:02.653835Z",
     "iopub.status.busy": "2023-11-28T11:33:02.653369Z",
     "iopub.status.idle": "2023-11-28T11:33:13.666101Z",
     "shell.execute_reply": "2023-11-28T11:33:13.665015Z"
    },
    "papermill": {
     "duration": 13.291904,
     "end_time": "2023-11-28T11:33:13.669218",
     "exception": false,
     "start_time": "2023-11-28T11:33:00.377314",
     "status": "completed"
    },
    "tags": []
   },
   "outputs": [],
   "source": [
    "predictions = model.predict(test, batch_size=64)"
   ]
  },
  {
   "cell_type": "code",
   "execution_count": 20,
   "id": "ce39c542",
   "metadata": {
    "execution": {
     "iopub.execute_input": "2023-11-28T11:33:18.117129Z",
     "iopub.status.busy": "2023-11-28T11:33:18.116032Z",
     "iopub.status.idle": "2023-11-28T11:33:18.212891Z",
     "shell.execute_reply": "2023-11-28T11:33:18.211753Z"
    },
    "papermill": {
     "duration": 2.322972,
     "end_time": "2023-11-28T11:33:18.215931",
     "exception": false,
     "start_time": "2023-11-28T11:33:15.892959",
     "status": "completed"
    },
    "tags": []
   },
   "outputs": [],
   "source": [
    "predicted_labels = []\n",
    "\n",
    "for predictions_array in predictions:\n",
    "    predicted_labels.append(np.argmax(predictions_array))\n"
   ]
  },
  {
   "cell_type": "markdown",
   "id": "8422e311",
   "metadata": {
    "papermill": {
     "duration": 2.20921,
     "end_time": "2023-11-28T11:33:22.573978",
     "exception": false,
     "start_time": "2023-11-28T11:33:20.364768",
     "status": "completed"
    },
    "tags": []
   },
   "source": [
    "# Submission"
   ]
  },
  {
   "cell_type": "code",
   "execution_count": 21,
   "id": "0c26edbe",
   "metadata": {
    "execution": {
     "iopub.execute_input": "2023-11-28T11:33:27.077877Z",
     "iopub.status.busy": "2023-11-28T11:33:27.076804Z",
     "iopub.status.idle": "2023-11-28T11:33:27.130579Z",
     "shell.execute_reply": "2023-11-28T11:33:27.129127Z"
    },
    "papermill": {
     "duration": 2.302014,
     "end_time": "2023-11-28T11:33:27.133789",
     "exception": false,
     "start_time": "2023-11-28T11:33:24.831775",
     "status": "completed"
    },
    "tags": []
   },
   "outputs": [],
   "source": [
    "df = pd.DataFrame()\n",
    "df['Label'] = predicted_labels\n",
    "df.reset_index(inplace=True)"
   ]
  },
  {
   "cell_type": "code",
   "execution_count": 22,
   "id": "191ecfd6",
   "metadata": {
    "execution": {
     "iopub.execute_input": "2023-11-28T11:33:31.674273Z",
     "iopub.status.busy": "2023-11-28T11:33:31.673286Z",
     "iopub.status.idle": "2023-11-28T11:33:31.692923Z",
     "shell.execute_reply": "2023-11-28T11:33:31.691835Z"
    },
    "papermill": {
     "duration": 2.350356,
     "end_time": "2023-11-28T11:33:31.695642",
     "exception": false,
     "start_time": "2023-11-28T11:33:29.345286",
     "status": "completed"
    },
    "tags": []
   },
   "outputs": [
    {
     "data": {
      "text/html": [
       "<div>\n",
       "<style scoped>\n",
       "    .dataframe tbody tr th:only-of-type {\n",
       "        vertical-align: middle;\n",
       "    }\n",
       "\n",
       "    .dataframe tbody tr th {\n",
       "        vertical-align: top;\n",
       "    }\n",
       "\n",
       "    .dataframe thead th {\n",
       "        text-align: right;\n",
       "    }\n",
       "</style>\n",
       "<table border=\"1\" class=\"dataframe\">\n",
       "  <thead>\n",
       "    <tr style=\"text-align: right;\">\n",
       "      <th></th>\n",
       "      <th>index</th>\n",
       "      <th>Label</th>\n",
       "    </tr>\n",
       "  </thead>\n",
       "  <tbody>\n",
       "    <tr>\n",
       "      <th>0</th>\n",
       "      <td>0</td>\n",
       "      <td>2</td>\n",
       "    </tr>\n",
       "    <tr>\n",
       "      <th>1</th>\n",
       "      <td>1</td>\n",
       "      <td>0</td>\n",
       "    </tr>\n",
       "    <tr>\n",
       "      <th>2</th>\n",
       "      <td>2</td>\n",
       "      <td>9</td>\n",
       "    </tr>\n",
       "    <tr>\n",
       "      <th>3</th>\n",
       "      <td>3</td>\n",
       "      <td>0</td>\n",
       "    </tr>\n",
       "    <tr>\n",
       "      <th>4</th>\n",
       "      <td>4</td>\n",
       "      <td>3</td>\n",
       "    </tr>\n",
       "    <tr>\n",
       "      <th>...</th>\n",
       "      <td>...</td>\n",
       "      <td>...</td>\n",
       "    </tr>\n",
       "    <tr>\n",
       "      <th>27995</th>\n",
       "      <td>27995</td>\n",
       "      <td>9</td>\n",
       "    </tr>\n",
       "    <tr>\n",
       "      <th>27996</th>\n",
       "      <td>27996</td>\n",
       "      <td>7</td>\n",
       "    </tr>\n",
       "    <tr>\n",
       "      <th>27997</th>\n",
       "      <td>27997</td>\n",
       "      <td>3</td>\n",
       "    </tr>\n",
       "    <tr>\n",
       "      <th>27998</th>\n",
       "      <td>27998</td>\n",
       "      <td>9</td>\n",
       "    </tr>\n",
       "    <tr>\n",
       "      <th>27999</th>\n",
       "      <td>27999</td>\n",
       "      <td>2</td>\n",
       "    </tr>\n",
       "  </tbody>\n",
       "</table>\n",
       "<p>28000 rows × 2 columns</p>\n",
       "</div>"
      ],
      "text/plain": [
       "       index  Label\n",
       "0          0      2\n",
       "1          1      0\n",
       "2          2      9\n",
       "3          3      0\n",
       "4          4      3\n",
       "...      ...    ...\n",
       "27995  27995      9\n",
       "27996  27996      7\n",
       "27997  27997      3\n",
       "27998  27998      9\n",
       "27999  27999      2\n",
       "\n",
       "[28000 rows x 2 columns]"
      ]
     },
     "execution_count": 22,
     "metadata": {},
     "output_type": "execute_result"
    }
   ],
   "source": [
    "df"
   ]
  },
  {
   "cell_type": "code",
   "execution_count": 23,
   "id": "5fe2eef7",
   "metadata": {
    "execution": {
     "iopub.execute_input": "2023-11-28T11:33:36.191592Z",
     "iopub.status.busy": "2023-11-28T11:33:36.190763Z",
     "iopub.status.idle": "2023-11-28T11:33:36.223033Z",
     "shell.execute_reply": "2023-11-28T11:33:36.221207Z"
    },
    "papermill": {
     "duration": 2.275164,
     "end_time": "2023-11-28T11:33:36.225918",
     "exception": false,
     "start_time": "2023-11-28T11:33:33.950754",
     "status": "completed"
    },
    "tags": []
   },
   "outputs": [],
   "source": [
    "df.rename(columns = {'index':'ImageId'}, inplace=True)\n",
    "df['ImageId'] = df['ImageId'].apply(lambda x: x+1)"
   ]
  },
  {
   "cell_type": "code",
   "execution_count": 24,
   "id": "38c2143e",
   "metadata": {
    "execution": {
     "iopub.execute_input": "2023-11-28T11:33:40.676648Z",
     "iopub.status.busy": "2023-11-28T11:33:40.675843Z",
     "iopub.status.idle": "2023-11-28T11:33:40.738572Z",
     "shell.execute_reply": "2023-11-28T11:33:40.737010Z"
    },
    "papermill": {
     "duration": 2.292109,
     "end_time": "2023-11-28T11:33:40.741654",
     "exception": false,
     "start_time": "2023-11-28T11:33:38.449545",
     "status": "completed"
    },
    "tags": []
   },
   "outputs": [],
   "source": [
    "df.to_csv('submission.csv', index=False)"
   ]
  }
 ],
 "metadata": {
  "kaggle": {
   "accelerator": "none",
   "dataSources": [
    {
     "databundleVersionId": 861823,
     "sourceId": 3004,
     "sourceType": "competition"
    }
   ],
   "dockerImageVersionId": 30301,
   "isGpuEnabled": false,
   "isInternetEnabled": true,
   "language": "python",
   "sourceType": "notebook"
  },
  "kernelspec": {
   "display_name": "Python 3",
   "language": "python",
   "name": "python3"
  },
  "language_info": {
   "codemirror_mode": {
    "name": "ipython",
    "version": 3
   },
   "file_extension": ".py",
   "mimetype": "text/x-python",
   "name": "python",
   "nbconvert_exporter": "python",
   "pygments_lexer": "ipython3",
   "version": "3.7.12"
  },
  "papermill": {
   "default_parameters": {},
   "duration": 2033.242219,
   "end_time": "2023-11-28T11:33:45.990872",
   "environment_variables": {},
   "exception": null,
   "input_path": "__notebook__.ipynb",
   "output_path": "__notebook__.ipynb",
   "parameters": {},
   "start_time": "2023-11-28T10:59:52.748653",
   "version": "2.3.4"
  }
 },
 "nbformat": 4,
 "nbformat_minor": 5
}
