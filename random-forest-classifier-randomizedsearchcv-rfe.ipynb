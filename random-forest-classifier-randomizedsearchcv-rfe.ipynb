{
 "cells": [
  {
   "cell_type": "markdown",
   "id": "396f5865",
   "metadata": {
    "papermill": {
     "duration": 0.009613,
     "end_time": "2022-09-25T11:57:14.439395",
     "exception": false,
     "start_time": "2022-09-25T11:57:14.429782",
     "status": "completed"
    },
    "tags": []
   },
   "source": [
    "# Setup"
   ]
  },
  {
   "cell_type": "code",
   "execution_count": 1,
   "id": "7ce974bc",
   "metadata": {
    "_cell_guid": "b1076dfc-b9ad-4769-8c92-a6c4dae69d19",
    "_kg_hide-output": true,
    "_uuid": "8f2839f25d086af736a60e9eeb907d3b93b6e0e5",
    "execution": {
     "iopub.execute_input": "2022-09-25T11:57:14.459017Z",
     "iopub.status.busy": "2022-09-25T11:57:14.458242Z",
     "iopub.status.idle": "2022-09-25T11:57:15.996635Z",
     "shell.execute_reply": "2022-09-25T11:57:15.995587Z"
    },
    "papermill": {
     "duration": 1.550833,
     "end_time": "2022-09-25T11:57:15.999047",
     "exception": false,
     "start_time": "2022-09-25T11:57:14.448214",
     "status": "completed"
    },
    "tags": []
   },
   "outputs": [
    {
     "name": "stdout",
     "output_type": "stream",
     "text": [
      "/kaggle/input/spaceship-titanic/sample_submission.csv\n",
      "/kaggle/input/spaceship-titanic/train.csv\n",
      "/kaggle/input/spaceship-titanic/test.csv\n"
     ]
    }
   ],
   "source": [
    "import numpy as np # linear algebra\n",
    "import pandas as pd # data processing, CSV file I/O (e.g. pd.read_csv)\n",
    "import matplotlib.pyplot as plt\n",
    "import seaborn as sns\n",
    "\n",
    "from sklearn.compose import ColumnTransformer\n",
    "from sklearn.pipeline import Pipeline\n",
    "from sklearn.impute import SimpleImputer\n",
    "from sklearn.preprocessing import OrdinalEncoder\n",
    "from sklearn.feature_selection import mutual_info_regression\n",
    "from xgboost import XGBClassifier\n",
    "from sklearn.ensemble import RandomForestClassifier\n",
    "from sklearn.model_selection import train_test_split, cross_val_score\n",
    "from sklearn.feature_selection import RFE\n",
    "from sklearn.preprocessing import StandardScaler\n",
    "from sklearn.model_selection import RandomizedSearchCV\n",
    "\n",
    "import warnings\n",
    "import os\n",
    "for dirname, _, filenames in os.walk('/kaggle/input'):\n",
    "    for filename in filenames:\n",
    "        print(os.path.join(dirname, filename))\n",
    "\n",
    "# Matplotlib defaults\n",
    "plt.style.use(\"seaborn-whitegrid\")\n",
    "plt.rc(\"figure\", autolayout=True)\n",
    "plt.rc(\n",
    "    \"axes\",\n",
    "    labelweight=\"bold\",\n",
    "    labelsize=\"large\",\n",
    "    titleweight=\"bold\",\n",
    "    titlesize=14,\n",
    "    titlepad=10,\n",
    ")\n",
    "\n",
    "# Mute warnings\n",
    "warnings.filterwarnings('ignore')"
   ]
  },
  {
   "cell_type": "code",
   "execution_count": 2,
   "id": "d29a7732",
   "metadata": {
    "execution": {
     "iopub.execute_input": "2022-09-25T11:57:16.018168Z",
     "iopub.status.busy": "2022-09-25T11:57:16.017795Z",
     "iopub.status.idle": "2022-09-25T11:57:16.101555Z",
     "shell.execute_reply": "2022-09-25T11:57:16.100310Z"
    },
    "papermill": {
     "duration": 0.096438,
     "end_time": "2022-09-25T11:57:16.104184",
     "exception": false,
     "start_time": "2022-09-25T11:57:16.007746",
     "status": "completed"
    },
    "tags": []
   },
   "outputs": [],
   "source": [
    "df_train = pd.read_csv('../input/spaceship-titanic/train.csv', index_col='PassengerId')\n",
    "df_test = pd.read_csv('../input/spaceship-titanic/test.csv', index_col='PassengerId')"
   ]
  },
  {
   "cell_type": "code",
   "execution_count": 3,
   "id": "ad2b4893",
   "metadata": {
    "execution": {
     "iopub.execute_input": "2022-09-25T11:57:16.124221Z",
     "iopub.status.busy": "2022-09-25T11:57:16.123101Z",
     "iopub.status.idle": "2022-09-25T11:57:16.130674Z",
     "shell.execute_reply": "2022-09-25T11:57:16.129938Z"
    },
    "papermill": {
     "duration": 0.019701,
     "end_time": "2022-09-25T11:57:16.132914",
     "exception": false,
     "start_time": "2022-09-25T11:57:16.113213",
     "status": "completed"
    },
    "tags": []
   },
   "outputs": [],
   "source": [
    "def score_dataset(X, y, model=XGBClassifier()):\n",
    "    # Label encoding for categoricals\n",
    "    #\n",
    "    # Label encoding is good for XGBoost and RandomForest, but one-hot\n",
    "    # would be better for models like Lasso or Ridge. The `cat.codes`\n",
    "    # attribute holds the category levels.\n",
    "    for colname in X.select_dtypes([\"category\"]):\n",
    "        X[colname] = X[colname].cat.codes\n",
    "    # Metric for Housing competition is RMSLE (Root Mean Squared Log Error)\n",
    "    score = cross_val_score(\n",
    "        model, X, y, cv=5, scoring=\"accuracy\",\n",
    "    )\n",
    "    return score"
   ]
  },
  {
   "cell_type": "markdown",
   "id": "e70f1966",
   "metadata": {
    "papermill": {
     "duration": 0.008607,
     "end_time": "2022-09-25T11:57:16.150487",
     "exception": false,
     "start_time": "2022-09-25T11:57:16.141880",
     "status": "completed"
    },
    "tags": []
   },
   "source": [
    "# Data Cleaning"
   ]
  },
  {
   "cell_type": "code",
   "execution_count": 4,
   "id": "94376bb6",
   "metadata": {
    "execution": {
     "iopub.execute_input": "2022-09-25T11:57:16.171469Z",
     "iopub.status.busy": "2022-09-25T11:57:16.170738Z",
     "iopub.status.idle": "2022-09-25T11:57:16.201641Z",
     "shell.execute_reply": "2022-09-25T11:57:16.200432Z"
    },
    "papermill": {
     "duration": 0.043139,
     "end_time": "2022-09-25T11:57:16.203863",
     "exception": false,
     "start_time": "2022-09-25T11:57:16.160724",
     "status": "completed"
    },
    "tags": []
   },
   "outputs": [
    {
     "name": "stdout",
     "output_type": "stream",
     "text": [
      "<class 'pandas.core.frame.DataFrame'>\n",
      "Index: 12970 entries, 0001_01 to 9277_01\n",
      "Data columns (total 13 columns):\n",
      " #   Column        Non-Null Count  Dtype  \n",
      "---  ------        --------------  -----  \n",
      " 0   HomePlanet    12682 non-null  object \n",
      " 1   CryoSleep     12660 non-null  object \n",
      " 2   Cabin         12671 non-null  object \n",
      " 3   Destination   12696 non-null  object \n",
      " 4   Age           12700 non-null  float64\n",
      " 5   VIP           12674 non-null  object \n",
      " 6   RoomService   12707 non-null  float64\n",
      " 7   FoodCourt     12681 non-null  float64\n",
      " 8   ShoppingMall  12664 non-null  float64\n",
      " 9   Spa           12686 non-null  float64\n",
      " 10  VRDeck        12702 non-null  float64\n",
      " 11  Name          12676 non-null  object \n",
      " 12  Transported   8693 non-null   object \n",
      "dtypes: float64(6), object(7)\n",
      "memory usage: 1.4+ MB\n"
     ]
    }
   ],
   "source": [
    "# Merge the splits so we can process them together\n",
    "df = pd.concat([df_train, df_test])\n",
    "df.info()"
   ]
  },
  {
   "cell_type": "markdown",
   "id": "68ec7f27",
   "metadata": {
    "papermill": {
     "duration": 0.008726,
     "end_time": "2022-09-25T11:57:16.221429",
     "exception": false,
     "start_time": "2022-09-25T11:57:16.212703",
     "status": "completed"
    },
    "tags": []
   },
   "source": [
    "## Create Features"
   ]
  },
  {
   "cell_type": "code",
   "execution_count": 5,
   "id": "abcf90ae",
   "metadata": {
    "execution": {
     "iopub.execute_input": "2022-09-25T11:57:16.240262Z",
     "iopub.status.busy": "2022-09-25T11:57:16.239939Z",
     "iopub.status.idle": "2022-09-25T11:57:16.269956Z",
     "shell.execute_reply": "2022-09-25T11:57:16.269011Z"
    },
    "papermill": {
     "duration": 0.042077,
     "end_time": "2022-09-25T11:57:16.272343",
     "exception": false,
     "start_time": "2022-09-25T11:57:16.230266",
     "status": "completed"
    },
    "tags": []
   },
   "outputs": [],
   "source": [
    "df['Cabin']\n",
    "df['Deck'] = df['Cabin'].apply(lambda x: x.split('/')[0] if type(x) == str else np.nan)\n",
    "df['Num'] = df['Cabin'].apply(lambda x: x.split('/')[1] if type(x) == str else np.nan)\n",
    "df['Side'] = df['Cabin'].apply(lambda x: x.split('/')[2] if type(x) == str else np.nan)"
   ]
  },
  {
   "cell_type": "markdown",
   "id": "4d7e9032",
   "metadata": {
    "papermill": {
     "duration": 0.008275,
     "end_time": "2022-09-25T11:57:16.289466",
     "exception": false,
     "start_time": "2022-09-25T11:57:16.281191",
     "status": "completed"
    },
    "tags": []
   },
   "source": [
    "## Missing Values"
   ]
  },
  {
   "cell_type": "code",
   "execution_count": 6,
   "id": "f8abc3f3",
   "metadata": {
    "execution": {
     "iopub.execute_input": "2022-09-25T11:57:16.308181Z",
     "iopub.status.busy": "2022-09-25T11:57:16.307782Z",
     "iopub.status.idle": "2022-09-25T11:57:16.323039Z",
     "shell.execute_reply": "2022-09-25T11:57:16.322275Z"
    },
    "papermill": {
     "duration": 0.027348,
     "end_time": "2022-09-25T11:57:16.325279",
     "exception": false,
     "start_time": "2022-09-25T11:57:16.297931",
     "status": "completed"
    },
    "tags": []
   },
   "outputs": [],
   "source": [
    "# Select numerical columns\n",
    "numerical_cols = [cname for cname in df.columns if df[cname].dtype in ['int64', 'float64']]\n",
    "categorical_cols = [cname for cname in df.drop(['Transported'], axis=1) if df[cname].dtype in ['object']]"
   ]
  },
  {
   "cell_type": "code",
   "execution_count": 7,
   "id": "9bf56eef",
   "metadata": {
    "execution": {
     "iopub.execute_input": "2022-09-25T11:57:16.343275Z",
     "iopub.status.busy": "2022-09-25T11:57:16.342963Z",
     "iopub.status.idle": "2022-09-25T11:57:16.387707Z",
     "shell.execute_reply": "2022-09-25T11:57:16.386872Z"
    },
    "papermill": {
     "duration": 0.056485,
     "end_time": "2022-09-25T11:57:16.390133",
     "exception": false,
     "start_time": "2022-09-25T11:57:16.333648",
     "status": "completed"
    },
    "tags": []
   },
   "outputs": [],
   "source": [
    "from sklearn.impute import SimpleImputer\n",
    "\n",
    "my_imputer = SimpleImputer(strategy = 'median')\n",
    "imputed_df = pd.DataFrame(my_imputer.fit_transform(df[numerical_cols]))\n",
    "imputed_df.columns = numerical_cols\n",
    "imputed_df.index = df.index\n",
    "\n",
    "cat_imputer = SimpleImputer(strategy = 'most_frequent')\n",
    "imputed_df_cat = pd.DataFrame(cat_imputer.fit_transform(df[categorical_cols]))\n",
    "imputed_df_cat.columns = categorical_cols\n",
    "imputed_df_cat.index = df.index"
   ]
  },
  {
   "cell_type": "code",
   "execution_count": 8,
   "id": "a49391ea",
   "metadata": {
    "execution": {
     "iopub.execute_input": "2022-09-25T11:57:16.408865Z",
     "iopub.status.busy": "2022-09-25T11:57:16.408529Z",
     "iopub.status.idle": "2022-09-25T11:57:16.417571Z",
     "shell.execute_reply": "2022-09-25T11:57:16.416720Z"
    },
    "papermill": {
     "duration": 0.020664,
     "end_time": "2022-09-25T11:57:16.419731",
     "exception": false,
     "start_time": "2022-09-25T11:57:16.399067",
     "status": "completed"
    },
    "tags": []
   },
   "outputs": [],
   "source": [
    "df = pd.concat([imputed_df, imputed_df_cat, df['Transported']], axis=1)"
   ]
  },
  {
   "cell_type": "markdown",
   "id": "80085c48",
   "metadata": {
    "papermill": {
     "duration": 0.007971,
     "end_time": "2022-09-25T11:57:16.436088",
     "exception": false,
     "start_time": "2022-09-25T11:57:16.428117",
     "status": "completed"
    },
    "tags": []
   },
   "source": [
    "## Categorization"
   ]
  },
  {
   "cell_type": "code",
   "execution_count": 9,
   "id": "3a9e94ec",
   "metadata": {
    "execution": {
     "iopub.execute_input": "2022-09-25T11:57:16.454361Z",
     "iopub.status.busy": "2022-09-25T11:57:16.454015Z",
     "iopub.status.idle": "2022-09-25T11:57:16.604551Z",
     "shell.execute_reply": "2022-09-25T11:57:16.603649Z"
    },
    "papermill": {
     "duration": 0.162565,
     "end_time": "2022-09-25T11:57:16.607183",
     "exception": false,
     "start_time": "2022-09-25T11:57:16.444618",
     "status": "completed"
    },
    "tags": []
   },
   "outputs": [],
   "source": [
    "ordinal_encoder = OrdinalEncoder()\n",
    "df[categorical_cols] = ordinal_encoder.fit_transform(df[categorical_cols])"
   ]
  },
  {
   "cell_type": "code",
   "execution_count": 10,
   "id": "99ff936f",
   "metadata": {
    "execution": {
     "iopub.execute_input": "2022-09-25T11:57:16.626712Z",
     "iopub.status.busy": "2022-09-25T11:57:16.626100Z",
     "iopub.status.idle": "2022-09-25T11:57:16.637504Z",
     "shell.execute_reply": "2022-09-25T11:57:16.636515Z"
    },
    "papermill": {
     "duration": 0.023403,
     "end_time": "2022-09-25T11:57:16.639644",
     "exception": false,
     "start_time": "2022-09-25T11:57:16.616241",
     "status": "completed"
    },
    "tags": []
   },
   "outputs": [],
   "source": [
    "df_test = df.loc[df_test.index, :]\n",
    "df_train = df.loc[df_train.index, :]"
   ]
  },
  {
   "cell_type": "code",
   "execution_count": 11,
   "id": "0c8e6b82",
   "metadata": {
    "execution": {
     "iopub.execute_input": "2022-09-25T11:57:16.659012Z",
     "iopub.status.busy": "2022-09-25T11:57:16.658346Z",
     "iopub.status.idle": "2022-09-25T11:57:16.668508Z",
     "shell.execute_reply": "2022-09-25T11:57:16.667722Z"
    },
    "papermill": {
     "duration": 0.022022,
     "end_time": "2022-09-25T11:57:16.670635",
     "exception": false,
     "start_time": "2022-09-25T11:57:16.648613",
     "status": "completed"
    },
    "tags": []
   },
   "outputs": [],
   "source": [
    "df_train['Transported'] = df_train['Transported'].apply(lambda x: 1 if x==True else 0)\n",
    "df_test = df_test.drop('Transported', axis=1)"
   ]
  },
  {
   "cell_type": "markdown",
   "id": "bb040450",
   "metadata": {
    "papermill": {
     "duration": 0.008344,
     "end_time": "2022-09-25T11:57:16.687746",
     "exception": false,
     "start_time": "2022-09-25T11:57:16.679402",
     "status": "completed"
    },
    "tags": []
   },
   "source": [
    "# Feature Engineering"
   ]
  },
  {
   "cell_type": "markdown",
   "id": "b49178d5",
   "metadata": {
    "papermill": {
     "duration": 0.008894,
     "end_time": "2022-09-25T11:57:16.705724",
     "exception": false,
     "start_time": "2022-09-25T11:57:16.696830",
     "status": "completed"
    },
    "tags": []
   },
   "source": [
    "## Correlation Matrix"
   ]
  },
  {
   "cell_type": "code",
   "execution_count": 12,
   "id": "fc9c93bf",
   "metadata": {
    "execution": {
     "iopub.execute_input": "2022-09-25T11:57:16.725389Z",
     "iopub.status.busy": "2022-09-25T11:57:16.724440Z",
     "iopub.status.idle": "2022-09-25T11:57:17.174704Z",
     "shell.execute_reply": "2022-09-25T11:57:17.173853Z"
    },
    "papermill": {
     "duration": 0.462395,
     "end_time": "2022-09-25T11:57:17.177056",
     "exception": false,
     "start_time": "2022-09-25T11:57:16.714661",
     "status": "completed"
    },
    "tags": []
   },
   "outputs": [
    {
     "data": {
      "image/png": "[encoded data removed]",
      "text/plain": [
       "<Figure size 432x288 with 2 Axes>"
      ]
     },
     "metadata": {},
     "output_type": "display_data"
    }
   ],
   "source": [
    "corr_matrix = df_train.corr()\n",
    "sns.heatmap(corr_matrix)\n",
    "plt.show()"
   ]
  },
  {
   "cell_type": "markdown",
   "id": "ada922b3",
   "metadata": {
    "papermill": {
     "duration": 0.008765,
     "end_time": "2022-09-25T11:57:17.195206",
     "exception": false,
     "start_time": "2022-09-25T11:57:17.186441",
     "status": "completed"
    },
    "tags": []
   },
   "source": [
    "## Mutual Information"
   ]
  },
  {
   "cell_type": "code",
   "execution_count": 13,
   "id": "26d72267",
   "metadata": {
    "execution": {
     "iopub.execute_input": "2022-09-25T11:57:17.215294Z",
     "iopub.status.busy": "2022-09-25T11:57:17.214930Z",
     "iopub.status.idle": "2022-09-25T11:57:17.224426Z",
     "shell.execute_reply": "2022-09-25T11:57:17.223327Z"
    },
    "papermill": {
     "duration": 0.021856,
     "end_time": "2022-09-25T11:57:17.226411",
     "exception": false,
     "start_time": "2022-09-25T11:57:17.204555",
     "status": "completed"
    },
    "tags": []
   },
   "outputs": [],
   "source": [
    "def make_mi_scores(X, y):\n",
    "    X = X.copy()\n",
    "    for colname in X.select_dtypes([\"object\", \"category\"]):\n",
    "        X[colname], _ = X[colname].factorize()\n",
    "    # All discrete features should now have integer dtypes\n",
    "    discrete_features = [pd.api.types.is_integer_dtype(t) for t in X.dtypes]\n",
    "    mi_scores = mutual_info_regression(X, y, discrete_features=discrete_features, random_state=0)\n",
    "    mi_scores = pd.Series(mi_scores, name=\"MI Scores\", index=X.columns)\n",
    "    mi_scores = mi_scores.sort_values(ascending=False)\n",
    "    return mi_scores\n",
    "\n",
    "def plot_mi_scores(scores):\n",
    "    scores = scores.sort_values(ascending=True)\n",
    "    width = np.arange(len(scores))\n",
    "    ticks = list(scores.index)\n",
    "    plt.barh(width, scores)\n",
    "    plt.yticks(width, ticks)\n",
    "    plt.title(\"Mutual Information Scores\")\n",
    "    \n",
    "def drop_uninformative(df, mi_scores):\n",
    "    return df.loc[:, mi_scores > 0.0]"
   ]
  },
  {
   "cell_type": "code",
   "execution_count": 14,
   "id": "95e46542",
   "metadata": {
    "execution": {
     "iopub.execute_input": "2022-09-25T11:57:17.246525Z",
     "iopub.status.busy": "2022-09-25T11:57:17.246142Z",
     "iopub.status.idle": "2022-09-25T11:57:18.032015Z",
     "shell.execute_reply": "2022-09-25T11:57:18.030997Z"
    },
    "papermill": {
     "duration": 0.798791,
     "end_time": "2022-09-25T11:57:18.034405",
     "exception": false,
     "start_time": "2022-09-25T11:57:17.235614",
     "status": "completed"
    },
    "tags": []
   },
   "outputs": [
    {
     "data": {
      "text/plain": [
       "CryoSleep       0.107595\n",
       "VRDeck          0.073361\n",
       "Spa             0.071174\n",
       "RoomService     0.067938\n",
       "FoodCourt       0.065444\n",
       "ShoppingMall    0.042219\n",
       "Name            0.028554\n",
       "Deck            0.027519\n",
       "Cabin           0.025983\n",
       "Num             0.013913\n",
       "Destination     0.013295\n",
       "HomePlanet      0.009901\n",
       "Age             0.004749\n",
       "VIP             0.000000\n",
       "Side            0.000000\n",
       "Name: MI Scores, dtype: float64"
      ]
     },
     "execution_count": 14,
     "metadata": {},
     "output_type": "execute_result"
    }
   ],
   "source": [
    "X = df_train.copy()\n",
    "y = X.pop(\"Transported\")\n",
    "\n",
    "mi_scores = make_mi_scores(X, y)\n",
    "mi_scores"
   ]
  },
  {
   "cell_type": "code",
   "execution_count": 15,
   "id": "7f84af8e",
   "metadata": {
    "execution": {
     "iopub.execute_input": "2022-09-25T11:57:18.055202Z",
     "iopub.status.busy": "2022-09-25T11:57:18.054258Z",
     "iopub.status.idle": "2022-09-25T11:57:18.290656Z",
     "shell.execute_reply": "2022-09-25T11:57:18.289526Z"
    },
    "papermill": {
     "duration": 0.249051,
     "end_time": "2022-09-25T11:57:18.292943",
     "exception": false,
     "start_time": "2022-09-25T11:57:18.043892",
     "status": "completed"
    },
    "tags": []
   },
   "outputs": [
    {
     "data": {
      "image/png": "[encoded data removed]",
      "text/plain": [
       "<Figure size 432x288 with 1 Axes>"
      ]
     },
     "metadata": {},
     "output_type": "display_data"
    }
   ],
   "source": [
    "plot_mi_scores(mi_scores)"
   ]
  },
  {
   "cell_type": "code",
   "execution_count": 16,
   "id": "eb50fd43",
   "metadata": {
    "execution": {
     "iopub.execute_input": "2022-09-25T11:57:18.315351Z",
     "iopub.status.busy": "2022-09-25T11:57:18.314433Z",
     "iopub.status.idle": "2022-09-25T11:57:18.322795Z",
     "shell.execute_reply": "2022-09-25T11:57:18.321760Z"
    },
    "papermill": {
     "duration": 0.021559,
     "end_time": "2022-09-25T11:57:18.324767",
     "exception": false,
     "start_time": "2022-09-25T11:57:18.303208",
     "status": "completed"
    },
    "tags": []
   },
   "outputs": [],
   "source": [
    "X = drop_uninformative(X, mi_scores)"
   ]
  },
  {
   "cell_type": "code",
   "execution_count": 17,
   "id": "8110bacb",
   "metadata": {
    "execution": {
     "iopub.execute_input": "2022-09-25T11:57:18.345867Z",
     "iopub.status.busy": "2022-09-25T11:57:18.345564Z",
     "iopub.status.idle": "2022-09-25T11:57:22.261735Z",
     "shell.execute_reply": "2022-09-25T11:57:22.260788Z"
    },
    "papermill": {
     "duration": 3.929653,
     "end_time": "2022-09-25T11:57:22.264332",
     "exception": false,
     "start_time": "2022-09-25T11:57:18.334679",
     "status": "completed"
    },
    "tags": []
   },
   "outputs": [
    {
     "data": {
      "text/plain": [
       "array([0.74640598, 0.72685451, 0.75100633, 0.76237054, 0.77848101])"
      ]
     },
     "execution_count": 17,
     "metadata": {},
     "output_type": "execute_result"
    }
   ],
   "source": [
    "score_dataset(X,y)"
   ]
  },
  {
   "cell_type": "code",
   "execution_count": 18,
   "id": "475ab018",
   "metadata": {
    "execution": {
     "iopub.execute_input": "2022-09-25T11:57:22.287403Z",
     "iopub.status.busy": "2022-09-25T11:57:22.287045Z",
     "iopub.status.idle": "2022-09-25T11:57:26.045400Z",
     "shell.execute_reply": "2022-09-25T11:57:26.044510Z"
    },
    "papermill": {
     "duration": 3.772218,
     "end_time": "2022-09-25T11:57:26.047926",
     "exception": false,
     "start_time": "2022-09-25T11:57:22.275708",
     "status": "completed"
    },
    "tags": []
   },
   "outputs": [
    {
     "data": {
      "text/plain": [
       "array([0.74525589, 0.74295572, 0.74123059, 0.78365938, 0.79171461])"
      ]
     },
     "execution_count": 18,
     "metadata": {},
     "output_type": "execute_result"
    }
   ],
   "source": [
    "X = X.drop('Cabin', axis=1)\n",
    "score_dataset(X,y)"
   ]
  },
  {
   "cell_type": "markdown",
   "id": "4081866c",
   "metadata": {
    "papermill": {
     "duration": 0.009887,
     "end_time": "2022-09-25T11:57:26.069421",
     "exception": false,
     "start_time": "2022-09-25T11:57:26.059534",
     "status": "completed"
    },
    "tags": []
   },
   "source": [
    "# Model and Hyperparameter Tuning"
   ]
  },
  {
   "cell_type": "code",
   "execution_count": 19,
   "id": "7c5f7966",
   "metadata": {
    "execution": {
     "iopub.execute_input": "2022-09-25T11:57:26.091604Z",
     "iopub.status.busy": "2022-09-25T11:57:26.090874Z",
     "iopub.status.idle": "2022-09-25T11:57:26.099085Z",
     "shell.execute_reply": "2022-09-25T11:57:26.098185Z"
    },
    "papermill": {
     "duration": 0.021893,
     "end_time": "2022-09-25T11:57:26.101199",
     "exception": false,
     "start_time": "2022-09-25T11:57:26.079306",
     "status": "completed"
    },
    "tags": []
   },
   "outputs": [],
   "source": [
    "X_train, X_valid, y_train, y_valid= train_test_split(X, y, train_size=0.8, test_size=0.2, random_state=0)"
   ]
  },
  {
   "cell_type": "code",
   "execution_count": 20,
   "id": "03c6f450",
   "metadata": {
    "execution": {
     "iopub.execute_input": "2022-09-25T11:57:26.122963Z",
     "iopub.status.busy": "2022-09-25T11:57:26.122606Z",
     "iopub.status.idle": "2022-09-25T11:57:26.132049Z",
     "shell.execute_reply": "2022-09-25T11:57:26.131288Z"
    },
    "papermill": {
     "duration": 0.022804,
     "end_time": "2022-09-25T11:57:26.134078",
     "exception": false,
     "start_time": "2022-09-25T11:57:26.111274",
     "status": "completed"
    },
    "tags": []
   },
   "outputs": [],
   "source": [
    "feature_list = list(X.columns)\n",
    "X = StandardScaler().fit_transform(X)"
   ]
  },
  {
   "cell_type": "markdown",
   "id": "dc318a29",
   "metadata": {
    "papermill": {
     "duration": 0.009629,
     "end_time": "2022-09-25T11:57:26.153695",
     "exception": false,
     "start_time": "2022-09-25T11:57:26.144066",
     "status": "completed"
    },
    "tags": []
   },
   "source": [
    "## RandomizedSearchCV"
   ]
  },
  {
   "cell_type": "code",
   "execution_count": 21,
   "id": "3c51f258",
   "metadata": {
    "execution": {
     "iopub.execute_input": "2022-09-25T11:57:26.175518Z",
     "iopub.status.busy": "2022-09-25T11:57:26.174450Z",
     "iopub.status.idle": "2022-09-25T11:57:26.179563Z",
     "shell.execute_reply": "2022-09-25T11:57:26.178802Z"
    },
    "papermill": {
     "duration": 0.018098,
     "end_time": "2022-09-25T11:57:26.181566",
     "exception": false,
     "start_time": "2022-09-25T11:57:26.163468",
     "status": "completed"
    },
    "tags": []
   },
   "outputs": [],
   "source": [
    "clf = RandomForestClassifier(random_state=1)"
   ]
  },
  {
   "cell_type": "code",
   "execution_count": 22,
   "id": "6c3e8222",
   "metadata": {
    "execution": {
     "iopub.execute_input": "2022-09-25T11:57:26.203086Z",
     "iopub.status.busy": "2022-09-25T11:57:26.202717Z",
     "iopub.status.idle": "2022-09-25T11:57:26.211444Z",
     "shell.execute_reply": "2022-09-25T11:57:26.210302Z"
    },
    "papermill": {
     "duration": 0.022211,
     "end_time": "2022-09-25T11:57:26.213572",
     "exception": false,
     "start_time": "2022-09-25T11:57:26.191361",
     "status": "completed"
    },
    "tags": []
   },
   "outputs": [],
   "source": [
    "# Number of trees in random forest\n",
    "n_estimators = [int(x) for x in np.linspace(start = 200, stop = 2000, num = 10)]\n",
    "# Number of features to consider at every split\n",
    "max_features = ['auto', 'sqrt']\n",
    "# Maximum number of levels in tree\n",
    "max_depth = [int(x) for x in np.linspace(10, 110, num = 11)]\n",
    "max_depth.append(None)\n",
    "# Minimum number of samples required to split a node\n",
    "min_samples_split = [2, 5, 10]\n",
    "# Minimum number of samples required at each leaf node\n",
    "min_samples_leaf = [1, 2, 4]\n",
    "# Method of selecting samples for training each tree\n",
    "bootstrap = [True, False]\n",
    "\n",
    "# Create the random grid\n",
    "random_grid = {'n_estimators': n_estimators,\n",
    "               'max_features': max_features,\n",
    "               'max_depth': max_depth,\n",
    "               'min_samples_split': min_samples_split,\n",
    "               'min_samples_leaf': min_samples_leaf,\n",
    "               'bootstrap': bootstrap}\n",
    "\n",
    "rf_random = RandomizedSearchCV(estimator = clf, param_distributions = random_grid, n_iter = 100, cv = 3, verbose=2, random_state=42, n_jobs = -1)"
   ]
  },
  {
   "cell_type": "code",
   "execution_count": 23,
   "id": "5433cd31",
   "metadata": {
    "_kg_hide-output": true,
    "execution": {
     "iopub.execute_input": "2022-09-25T11:57:26.235433Z",
     "iopub.status.busy": "2022-09-25T11:57:26.235005Z",
     "iopub.status.idle": "2022-09-25T12:14:05.071246Z",
     "shell.execute_reply": "2022-09-25T12:14:05.070029Z"
    },
    "papermill": {
     "duration": 998.858424,
     "end_time": "2022-09-25T12:14:05.082203",
     "exception": false,
     "start_time": "2022-09-25T11:57:26.223779",
     "status": "completed"
    },
    "tags": []
   },
   "outputs": [
    {
     "name": "stdout",
     "output_type": "stream",
     "text": [
      "Fitting 3 folds for each of 100 candidates, totalling 300 fits\n",
      "[CV] END bootstrap=True, max_depth=30, max_features=sqrt, min_samples_leaf=1, min_samples_split=5, n_estimators=400; total time=   4.2s\n",
      "[CV] END bootstrap=False, max_depth=10, max_features=sqrt, min_samples_leaf=2, min_samples_split=5, n_estimators=1200; total time=  13.8s\n",
      "[CV] END bootstrap=False, max_depth=10, max_features=sqrt, min_samples_leaf=2, min_samples_split=5, n_estimators=1200; total time=  13.0s\n",
      "[CV] END bootstrap=True, max_depth=10, max_features=sqrt, min_samples_leaf=4, min_samples_split=2, n_estimators=1600; total time=  13.9s\n",
      "[CV] END bootstrap=True, max_depth=10, max_features=sqrt, min_samples_leaf=4, min_samples_split=2, n_estimators=1600; total time=  13.2s\n",
      "[CV] END bootstrap=False, max_depth=30, max_features=sqrt, min_samples_leaf=4, min_samples_split=5, n_estimators=800; total time=  10.3s\n",
      "[CV] END bootstrap=False, max_depth=60, max_features=sqrt, min_samples_leaf=1, min_samples_split=5, n_estimators=600; total time=   9.2s\n",
      "[CV] END bootstrap=False, max_depth=50, max_features=auto, min_samples_leaf=1, min_samples_split=2, n_estimators=1000; total time=  15.0s\n",
      "[CV] END bootstrap=False, max_depth=10, max_features=auto, min_samples_leaf=4, min_samples_split=5, n_estimators=1800; total time=  19.7s\n",
      "[CV] END bootstrap=False, max_depth=90, max_features=sqrt, min_samples_leaf=1, min_samples_split=5, n_estimators=800; total time=  11.5s\n",
      "[CV] END bootstrap=False, max_depth=10, max_features=sqrt, min_samples_leaf=2, min_samples_split=5, n_estimators=1600; total time=  17.7s\n",
      "[CV] END bootstrap=False, max_depth=30, max_features=sqrt, min_samples_leaf=2, min_samples_split=10, n_estimators=800; total time=  10.8s\n",
      "[CV] END bootstrap=False, max_depth=50, max_features=auto, min_samples_leaf=4, min_samples_split=2, n_estimators=1800; total time=  24.0s\n",
      "[CV] END bootstrap=False, max_depth=70, max_features=auto, min_samples_leaf=2, min_samples_split=5, n_estimators=600; total time=   8.4s\n",
      "[CV] END bootstrap=False, max_depth=110, max_features=auto, min_samples_leaf=2, min_samples_split=10, n_estimators=1800; total time=  24.5s\n",
      "[CV] END bootstrap=False, max_depth=30, max_features=sqrt, min_samples_leaf=1, min_samples_split=10, n_estimators=1800; total time=  25.2s\n",
      "[CV] END bootstrap=False, max_depth=70, max_features=sqrt, min_samples_leaf=1, min_samples_split=5, n_estimators=1600; total time=  23.3s\n",
      "[CV] END bootstrap=True, max_depth=None, max_features=auto, min_samples_leaf=2, min_samples_split=2, n_estimators=1800; total time=  18.4s\n",
      "[CV] END bootstrap=False, max_depth=None, max_features=sqrt, min_samples_leaf=1, min_samples_split=2, n_estimators=400; total time=   5.9s\n",
      "[CV] END bootstrap=False, max_depth=None, max_features=sqrt, min_samples_leaf=1, min_samples_split=2, n_estimators=400; total time=   5.7s\n",
      "[CV] END bootstrap=False, max_depth=40, max_features=auto, min_samples_leaf=1, min_samples_split=2, n_estimators=1400; total time=  21.3s\n",
      "[CV] END bootstrap=True, max_depth=20, max_features=sqrt, min_samples_leaf=2, min_samples_split=5, n_estimators=1000; total time=   9.9s\n",
      "[CV] END bootstrap=True, max_depth=20, max_features=sqrt, min_samples_leaf=2, min_samples_split=2, n_estimators=1200; total time=  12.2s\n",
      "[CV] END bootstrap=True, max_depth=20, max_features=sqrt, min_samples_leaf=2, min_samples_split=2, n_estimators=1200; total time=  11.9s\n",
      "[CV] END bootstrap=False, max_depth=20, max_features=sqrt, min_samples_leaf=4, min_samples_split=10, n_estimators=1200; total time=  15.3s\n",
      "[CV] END bootstrap=False, max_depth=100, max_features=sqrt, min_samples_leaf=1, min_samples_split=5, n_estimators=800; total time=  12.2s\n",
      "[CV] END bootstrap=True, max_depth=50, max_features=sqrt, min_samples_leaf=4, min_samples_split=10, n_estimators=800; total time=   7.5s\n",
      "[CV] END bootstrap=True, max_depth=90, max_features=sqrt, min_samples_leaf=4, min_samples_split=2, n_estimators=1800; total time=  17.5s\n",
      "[CV] END bootstrap=True, max_depth=20, max_features=sqrt, min_samples_leaf=2, min_samples_split=5, n_estimators=1200; total time=  11.9s\n",
      "[CV] END bootstrap=True, max_depth=100, max_features=auto, min_samples_leaf=1, min_samples_split=2, n_estimators=800; total time=   8.3s\n",
      "[CV] END bootstrap=True, max_depth=60, max_features=sqrt, min_samples_leaf=2, min_samples_split=2, n_estimators=1000; total time=  10.5s\n",
      "[CV] END bootstrap=True, max_depth=10, max_features=auto, min_samples_leaf=4, min_samples_split=5, n_estimators=200; total time=   1.7s\n",
      "[CV] END bootstrap=True, max_depth=60, max_features=sqrt, min_samples_leaf=2, min_samples_split=10, n_estimators=600; total time=   5.9s\n",
      "[CV] END bootstrap=True, max_depth=90, max_features=sqrt, min_samples_leaf=4, min_samples_split=2, n_estimators=800; total time=   7.7s\n",
      "[CV] END bootstrap=False, max_depth=90, max_features=auto, min_samples_leaf=2, min_samples_split=5, n_estimators=200; total time=   2.8s\n",
      "[CV] END bootstrap=True, max_depth=110, max_features=sqrt, min_samples_leaf=1, min_samples_split=2, n_estimators=1000; total time=  10.4s\n",
      "[CV] END bootstrap=True, max_depth=90, max_features=auto, min_samples_leaf=2, min_samples_split=2, n_estimators=2000; total time=  20.4s\n",
      "[CV] END bootstrap=False, max_depth=110, max_features=sqrt, min_samples_leaf=2, min_samples_split=2, n_estimators=600; total time=   8.4s\n",
      "[CV] END bootstrap=False, max_depth=110, max_features=sqrt, min_samples_leaf=2, min_samples_split=2, n_estimators=600; total time=   8.8s\n",
      "[CV] END bootstrap=False, max_depth=50, max_features=auto, min_samples_leaf=2, min_samples_split=10, n_estimators=2000; total time=  26.5s\n",
      "[CV] END bootstrap=False, max_depth=50, max_features=auto, min_samples_leaf=4, min_samples_split=10, n_estimators=1000; total time=  12.9s\n",
      "[CV] END bootstrap=False, max_depth=30, max_features=auto, min_samples_leaf=4, min_samples_split=5, n_estimators=1000; total time=  13.1s\n",
      "[CV] END bootstrap=False, max_depth=None, max_features=sqrt, min_samples_leaf=2, min_samples_split=5, n_estimators=1400; total time=  19.8s\n",
      "[CV] END bootstrap=False, max_depth=60, max_features=sqrt, min_samples_leaf=4, min_samples_split=2, n_estimators=600; total time=   7.8s\n",
      "[CV] END bootstrap=True, max_depth=80, max_features=auto, min_samples_leaf=2, min_samples_split=2, n_estimators=1800; total time=  18.9s\n",
      "[CV] END bootstrap=True, max_depth=100, max_features=auto, min_samples_leaf=1, min_samples_split=2, n_estimators=1400; total time=  14.9s\n",
      "[CV] END bootstrap=True, max_depth=80, max_features=sqrt, min_samples_leaf=2, min_samples_split=10, n_estimators=1400; total time=  14.1s\n",
      "[CV] END bootstrap=False, max_depth=80, max_features=auto, min_samples_leaf=4, min_samples_split=10, n_estimators=1000; total time=  12.9s\n",
      "[CV] END bootstrap=False, max_depth=None, max_features=auto, min_samples_leaf=2, min_samples_split=10, n_estimators=1200; total time=  17.0s\n",
      "[CV] END bootstrap=True, max_depth=None, max_features=auto, min_samples_leaf=2, min_samples_split=10, n_estimators=1600; total time=  15.4s\n",
      "[CV] END bootstrap=False, max_depth=10, max_features=auto, min_samples_leaf=4, min_samples_split=2, n_estimators=1800; total time=  19.6s\n",
      "[CV] END bootstrap=False, max_depth=80, max_features=sqrt, min_samples_leaf=1, min_samples_split=10, n_estimators=1000; total time=  13.9s\n",
      "[CV] END bootstrap=False, max_depth=60, max_features=auto, min_samples_leaf=2, min_samples_split=10, n_estimators=2000; total time=  27.2s\n",
      "[CV] END bootstrap=False, max_depth=20, max_features=sqrt, min_samples_leaf=4, min_samples_split=2, n_estimators=800; total time=  10.3s\n",
      "[CV] END bootstrap=False, max_depth=20, max_features=sqrt, min_samples_leaf=4, min_samples_split=2, n_estimators=800; total time=  10.6s\n",
      "[CV] END bootstrap=False, max_depth=90, max_features=auto, min_samples_leaf=1, min_samples_split=5, n_estimators=400; total time=   5.7s\n",
      "[CV] END bootstrap=False, max_depth=90, max_features=auto, min_samples_leaf=1, min_samples_split=5, n_estimators=400; total time=   5.7s\n",
      "[CV] END bootstrap=False, max_depth=90, max_features=auto, min_samples_leaf=1, min_samples_split=5, n_estimators=400; total time=   5.9s\n",
      "[CV] END bootstrap=False, max_depth=90, max_features=sqrt, min_samples_leaf=2, min_samples_split=10, n_estimators=400; total time=   5.5s\n",
      "[CV] END bootstrap=False, max_depth=90, max_features=sqrt, min_samples_leaf=2, min_samples_split=10, n_estimators=400; total time=   5.7s[CV] END bootstrap=True, max_depth=10, max_features=sqrt, min_samples_leaf=1, min_samples_split=5, n_estimators=2000; total time=  17.8s\n",
      "[CV] END bootstrap=False, max_depth=10, max_features=sqrt, min_samples_leaf=2, min_samples_split=5, n_estimators=1200; total time=  13.1s\n",
      "[CV] END bootstrap=False, max_depth=30, max_features=auto, min_samples_leaf=4, min_samples_split=2, n_estimators=2000; total time=  26.6s\n",
      "[CV] END bootstrap=False, max_depth=30, max_features=sqrt, min_samples_leaf=4, min_samples_split=5, n_estimators=800; total time=  10.3s\n",
      "[CV] END bootstrap=False, max_depth=100, max_features=sqrt, min_samples_leaf=2, min_samples_split=5, n_estimators=1000; total time=  14.5s\n",
      "[CV] END bootstrap=False, max_depth=50, max_features=auto, min_samples_leaf=1, min_samples_split=2, n_estimators=1000; total time=  14.8s\n",
      "[CV] END bootstrap=True, max_depth=70, max_features=auto, min_samples_leaf=4, min_samples_split=10, n_estimators=400; total time=   3.7s\n",
      "[CV] END bootstrap=True, max_depth=70, max_features=auto, min_samples_leaf=4, min_samples_split=10, n_estimators=400; total time=   3.7s\n",
      "[CV] END bootstrap=False, max_depth=90, max_features=sqrt, min_samples_leaf=1, min_samples_split=5, n_estimators=800; total time=  11.8s\n",
      "[CV] END bootstrap=False, max_depth=10, max_features=sqrt, min_samples_leaf=1, min_samples_split=10, n_estimators=2000; total time=  21.8s\n",
      "[CV] END bootstrap=False, max_depth=10, max_features=sqrt, min_samples_leaf=2, min_samples_split=5, n_estimators=1600; total time=  17.3s\n",
      "[CV] END bootstrap=False, max_depth=50, max_features=auto, min_samples_leaf=4, min_samples_split=2, n_estimators=1800; total time=  23.7s\n",
      "[CV] END bootstrap=True, max_depth=20, max_features=sqrt, min_samples_leaf=1, min_samples_split=2, n_estimators=1000; total time=  10.6s\n",
      "[CV] END bootstrap=False, max_depth=110, max_features=auto, min_samples_leaf=2, min_samples_split=10, n_estimators=1800; total time=  24.5s\n",
      "[CV] END bootstrap=False, max_depth=30, max_features=sqrt, min_samples_leaf=1, min_samples_split=10, n_estimators=1800; total time=  25.4s\n",
      "[CV] END bootstrap=True, max_depth=80, max_features=sqrt, min_samples_leaf=4, min_samples_split=5, n_estimators=1400; total time=  13.0s\n",
      "[CV] END bootstrap=True, max_depth=None, max_features=auto, min_samples_leaf=2, min_samples_split=2, n_estimators=1800; total time=  18.4s\n",
      "[CV] END bootstrap=False, max_depth=80, max_features=sqrt, min_samples_leaf=1, min_samples_split=5, n_estimators=1400; total time=  19.9s\n",
      "[CV] END bootstrap=False, max_depth=40, max_features=auto, min_samples_leaf=1, min_samples_split=2, n_estimators=1400; total time=  21.2s\n",
      "[CV] END bootstrap=False, max_depth=100, max_features=auto, min_samples_leaf=4, min_samples_split=10, n_estimators=2000; total time=  26.4s\n",
      "[CV] END bootstrap=False, max_depth=20, max_features=sqrt, min_samples_leaf=4, min_samples_split=10, n_estimators=1200; total time=  15.3s\n",
      "[CV] END bootstrap=False, max_depth=50, max_features=sqrt, min_samples_leaf=2, min_samples_split=2, n_estimators=800; total time=  11.6s\n",
      "[CV] END bootstrap=False, max_depth=100, max_features=sqrt, min_samples_leaf=1, min_samples_split=5, n_estimators=800; total time=  11.9s\n",
      "[CV] END bootstrap=True, max_depth=90, max_features=sqrt, min_samples_leaf=4, min_samples_split=2, n_estimators=1800; total time=  17.3s\n",
      "[CV] END bootstrap=True, max_depth=20, max_features=sqrt, min_samples_leaf=2, min_samples_split=5, n_estimators=1200; total time=  11.9s\n",
      "[CV] END bootstrap=True, max_depth=100, max_features=auto, min_samples_leaf=1, min_samples_split=2, n_estimators=800; total time=   8.4s\n",
      "[CV] END bootstrap=True, max_depth=None, max_features=auto, min_samples_leaf=2, min_samples_split=5, n_estimators=800; total time=   8.0s\n",
      "[CV] END bootstrap=True, max_depth=10, max_features=auto, min_samples_leaf=4, min_samples_split=5, n_estimators=200; total time=   1.8s\n",
      "[CV] END bootstrap=True, max_depth=10, max_features=auto, min_samples_leaf=4, min_samples_split=5, n_estimators=200; total time=   1.7s\n",
      "[CV] END bootstrap=True, max_depth=60, max_features=sqrt, min_samples_leaf=2, min_samples_split=10, n_estimators=600; total time=   5.9s\n",
      "[CV] END bootstrap=True, max_depth=90, max_features=sqrt, min_samples_leaf=4, min_samples_split=2, n_estimators=800; total time=   7.7s\n",
      "[CV] END bootstrap=True, max_depth=90, max_features=sqrt, min_samples_leaf=4, min_samples_split=10, n_estimators=400; total time=   3.7s\n",
      "[CV] END bootstrap=False, max_depth=90, max_features=auto, min_samples_leaf=2, min_samples_split=5, n_estimators=200; total time=   2.8s\n",
      "[CV] END bootstrap=True, max_depth=90, max_features=auto, min_samples_leaf=2, min_samples_split=2, n_estimators=2000; total time=  20.3s\n",
      "[CV] END bootstrap=False, max_depth=70, max_features=sqrt, min_samples_leaf=4, min_samples_split=2, n_estimators=1200; total time=  15.8s\n",
      "[CV] END bootstrap=False, max_depth=110, max_features=sqrt, min_samples_leaf=2, min_samples_split=2, n_estimators=600; total time=   8.7s\n",
      "[CV] END bootstrap=False, max_depth=20, max_features=auto, min_samples_leaf=1, min_samples_split=2, n_estimators=1800; total time=  25.7s\n",
      "[CV] END bootstrap=False, max_depth=50, max_features=auto, min_samples_leaf=4, min_samples_split=10, n_estimators=1000; total time=  13.1s\n",
      "[CV] END bootstrap=False, max_depth=50, max_features=auto, min_samples_leaf=4, min_samples_split=10, n_estimators=1000; total time=  13.0s\n",
      "[CV] END bootstrap=False, max_depth=30, max_features=auto, min_samples_leaf=4, min_samples_split=5, n_estimators=1000; total time=  13.7s\n",
      "[CV] END bootstrap=False, max_depth=60, max_features=sqrt, min_samples_leaf=4, min_samples_split=2, n_estimators=600; total time=   8.1s\n",
      "[CV] END bootstrap=True, max_depth=10, max_features=auto, min_samples_leaf=1, min_samples_split=5, n_estimators=1600; total time=  13.6s\n",
      "[CV] END bootstrap=True, max_depth=80, max_features=auto, min_samples_leaf=2, min_samples_split=2, n_estimators=1800; total time=  18.2s\n",
      "[CV] END bootstrap=True, max_depth=100, max_features=auto, min_samples_leaf=1, min_samples_split=2, n_estimators=1400; total time=  15.0s\n",
      "[CV] END bootstrap=True, max_depth=50, max_features=sqrt, min_samples_leaf=1, min_samples_split=2, n_estimators=200; total time=   2.1s\n",
      "[CV] END bootstrap=True, max_depth=50, max_features=sqrt, min_samples_leaf=1, min_samples_split=2, n_estimators=200; total time=   2.4s\n",
      "[CV] END bootstrap=True, max_depth=10, max_features=sqrt, min_samples_leaf=4, min_samples_split=2, n_estimators=400; total time=   3.5s\n",
      "[CV] END bootstrap=False, max_depth=80, max_features=auto, min_samples_leaf=4, min_samples_split=10, n_estimators=1000; total time=  13.0s\n",
      "[CV] END bootstrap=False, max_depth=None, max_features=auto, min_samples_leaf=2, min_samples_split=10, n_estimators=1200; total time=  16.4s\n",
      "[CV] END bootstrap=True, max_depth=20, max_features=sqrt, min_samples_leaf=1, min_samples_split=10, n_estimators=1600; total time=  15.8s\n",
      "[CV] END bootstrap=False, max_depth=10, max_features=auto, min_samples_leaf=4, min_samples_split=2, n_estimators=1800; total time=  19.4s\n",
      "[CV] END bootstrap=True, max_depth=70, max_features=auto, min_samples_leaf=2, min_samples_split=2, n_estimators=1400; total time=  14.0s\n",
      "[CV] END bootstrap=False, max_depth=80, max_features=sqrt, min_samples_leaf=1, min_samples_split=10, n_estimators=1000; total time=  14.0s\n",
      "[CV] END bootstrap=False, max_depth=80, max_features=sqrt, min_samples_leaf=4, min_samples_split=2, n_estimators=1400; total time=  18.1s\n",
      "[CV] END bootstrap=False, max_depth=20, max_features=sqrt, min_samples_leaf=4, min_samples_split=2, n_estimators=800; total time=  10.2s\n",
      "[CV] END bootstrap=True, max_depth=60, max_features=sqrt, min_samples_leaf=2, min_samples_split=5, n_estimators=1800; total time=  18.1s\n",
      "[CV] END bootstrap=True, max_depth=90, max_features=auto, min_samples_leaf=1, min_samples_split=5, n_estimators=1600; total time=  17.2s\n",
      "[CV] END bootstrap=True, max_depth=None, max_features=sqrt, min_samples_leaf=1, min_samples_split=10, n_estimators=1600; total time=  15.7s\n",
      "[CV] END bootstrap=True, max_depth=100, max_features=sqrt, min_samples_leaf=1, min_samples_split=5, n_estimators=2000; total time=  20.8s\n",
      "[CV] END bootstrap=True, max_depth=80, max_features=auto, min_samples_leaf=4, min_samples_split=5, n_estimators=200; total time=   1.9s[CV] END bootstrap=True, max_depth=30, max_features=sqrt, min_samples_leaf=1, min_samples_split=5, n_estimators=400; total time=   4.3s\n",
      "[CV] END bootstrap=True, max_depth=10, max_features=sqrt, min_samples_leaf=1, min_samples_split=5, n_estimators=2000; total time=  17.3s\n",
      "[CV] END bootstrap=False, max_depth=30, max_features=auto, min_samples_leaf=4, min_samples_split=2, n_estimators=2000; total time=  26.4s\n",
      "[CV] END bootstrap=True, max_depth=10, max_features=sqrt, min_samples_leaf=4, min_samples_split=2, n_estimators=1600; total time=  13.1s\n",
      "[CV] END bootstrap=False, max_depth=100, max_features=sqrt, min_samples_leaf=2, min_samples_split=5, n_estimators=1000; total time=  13.8s\n",
      "[CV] END bootstrap=False, max_depth=60, max_features=sqrt, min_samples_leaf=1, min_samples_split=5, n_estimators=600; total time=   8.9s\n",
      "[CV] END bootstrap=False, max_depth=10, max_features=auto, min_samples_leaf=4, min_samples_split=5, n_estimators=1800; total time=  19.2s\n",
      "[CV] END bootstrap=True, max_depth=70, max_features=auto, min_samples_leaf=4, min_samples_split=10, n_estimators=400; total time=   4.4s\n",
      "[CV] END bootstrap=False, max_depth=90, max_features=sqrt, min_samples_leaf=1, min_samples_split=5, n_estimators=800; total time=  11.5s\n",
      "[CV] END bootstrap=False, max_depth=10, max_features=sqrt, min_samples_leaf=1, min_samples_split=10, n_estimators=2000; total time=  22.0s\n",
      "[CV] END bootstrap=False, max_depth=30, max_features=sqrt, min_samples_leaf=2, min_samples_split=10, n_estimators=800; total time=  10.8s\n",
      "[CV] END bootstrap=False, max_depth=30, max_features=sqrt, min_samples_leaf=2, min_samples_split=10, n_estimators=800; total time=  10.8s\n",
      "[CV] END bootstrap=False, max_depth=70, max_features=auto, min_samples_leaf=2, min_samples_split=5, n_estimators=600; total time=   8.9s\n",
      "[CV] END bootstrap=False, max_depth=70, max_features=auto, min_samples_leaf=2, min_samples_split=5, n_estimators=600; total time=   8.3s\n",
      "[CV] END bootstrap=True, max_depth=20, max_features=sqrt, min_samples_leaf=1, min_samples_split=2, n_estimators=1000; total time=  10.4s\n",
      "[CV] END bootstrap=False, max_depth=110, max_features=auto, min_samples_leaf=2, min_samples_split=10, n_estimators=1800; total time=  24.8s\n",
      "[CV] END bootstrap=False, max_depth=70, max_features=sqrt, min_samples_leaf=1, min_samples_split=5, n_estimators=1600; total time=  23.2s\n",
      "[CV] END bootstrap=True, max_depth=80, max_features=sqrt, min_samples_leaf=4, min_samples_split=5, n_estimators=1400; total time=  13.0s\n",
      "[CV] END bootstrap=True, max_depth=80, max_features=sqrt, min_samples_leaf=4, min_samples_split=5, n_estimators=1400; total time=  13.0s\n",
      "[CV] END bootstrap=False, max_depth=80, max_features=sqrt, min_samples_leaf=1, min_samples_split=5, n_estimators=1400; total time=  20.6s\n",
      "[CV] END bootstrap=False, max_depth=None, max_features=sqrt, min_samples_leaf=1, min_samples_split=2, n_estimators=400; total time=   5.9s\n",
      "[CV] END bootstrap=False, max_depth=40, max_features=auto, min_samples_leaf=1, min_samples_split=2, n_estimators=1400; total time=  21.3s\n",
      "[CV] END bootstrap=False, max_depth=100, max_features=auto, min_samples_leaf=4, min_samples_split=10, n_estimators=2000; total time=  26.5s\n",
      "[CV] END bootstrap=True, max_depth=20, max_features=sqrt, min_samples_leaf=2, min_samples_split=2, n_estimators=1200; total time=  11.9s\n",
      "[CV] END bootstrap=False, max_depth=50, max_features=sqrt, min_samples_leaf=2, min_samples_split=2, n_estimators=800; total time=  11.7s\n",
      "[CV] END bootstrap=False, max_depth=100, max_features=sqrt, min_samples_leaf=1, min_samples_split=5, n_estimators=800; total time=  11.4s\n",
      "[CV] END bootstrap=True, max_depth=50, max_features=sqrt, min_samples_leaf=4, min_samples_split=10, n_estimators=800; total time=   7.5s\n",
      "[CV] END bootstrap=False, max_depth=20, max_features=sqrt, min_samples_leaf=2, min_samples_split=10, n_estimators=800; total time=  10.8s\n",
      "[CV] END bootstrap=False, max_depth=20, max_features=sqrt, min_samples_leaf=2, min_samples_split=10, n_estimators=800; total time=  11.0s\n",
      "[CV] END bootstrap=True, max_depth=20, max_features=sqrt, min_samples_leaf=2, min_samples_split=5, n_estimators=1200; total time=  11.8s\n",
      "[CV] END bootstrap=True, max_depth=None, max_features=auto, min_samples_leaf=2, min_samples_split=5, n_estimators=800; total time=   8.0s\n",
      "[CV] END bootstrap=True, max_depth=60, max_features=sqrt, min_samples_leaf=2, min_samples_split=2, n_estimators=1000; total time=  10.6s\n",
      "[CV] END bootstrap=True, max_depth=90, max_features=sqrt, min_samples_leaf=4, min_samples_split=2, n_estimators=800; total time=   7.6s\n",
      "[CV] END bootstrap=True, max_depth=90, max_features=sqrt, min_samples_leaf=4, min_samples_split=10, n_estimators=400; total time=   3.7s\n",
      "[CV] END bootstrap=True, max_depth=110, max_features=sqrt, min_samples_leaf=1, min_samples_split=2, n_estimators=1000; total time=  10.5s\n",
      "[CV] END bootstrap=False, max_depth=80, max_features=sqrt, min_samples_leaf=4, min_samples_split=10, n_estimators=400; total time=   5.2s\n",
      "[CV] END bootstrap=False, max_depth=80, max_features=sqrt, min_samples_leaf=4, min_samples_split=10, n_estimators=400; total time=   5.0s\n",
      "[CV] END bootstrap=False, max_depth=80, max_features=sqrt, min_samples_leaf=4, min_samples_split=10, n_estimators=400; total time=   5.1s\n",
      "[CV] END bootstrap=False, max_depth=70, max_features=sqrt, min_samples_leaf=4, min_samples_split=2, n_estimators=1200; total time=  15.5s\n",
      "[CV] END bootstrap=False, max_depth=20, max_features=auto, min_samples_leaf=1, min_samples_split=2, n_estimators=1800; total time=  26.0s\n",
      "[CV] END bootstrap=False, max_depth=50, max_features=auto, min_samples_leaf=2, min_samples_split=10, n_estimators=2000; total time=  27.3s\n",
      "[CV] END bootstrap=False, max_depth=30, max_features=auto, min_samples_leaf=4, min_samples_split=5, n_estimators=1000; total time=  13.1s\n",
      "[CV] END bootstrap=False, max_depth=None, max_features=sqrt, min_samples_leaf=2, min_samples_split=5, n_estimators=1400; total time=  19.7s\n",
      "[CV] END bootstrap=True, max_depth=10, max_features=auto, min_samples_leaf=1, min_samples_split=5, n_estimators=1600; total time=  14.1s\n",
      "[CV] END bootstrap=True, max_depth=80, max_features=auto, min_samples_leaf=2, min_samples_split=2, n_estimators=1800; total time=  18.3s\n",
      "[CV] END bootstrap=True, max_depth=80, max_features=sqrt, min_samples_leaf=2, min_samples_split=10, n_estimators=1400; total time=  14.3s\n",
      "[CV] END bootstrap=True, max_depth=10, max_features=sqrt, min_samples_leaf=4, min_samples_split=2, n_estimators=400; total time=   3.3s\n",
      "[CV] END bootstrap=False, max_depth=None, max_features=auto, min_samples_leaf=2, min_samples_split=10, n_estimators=1200; total time=  16.2s\n",
      "[CV] END bootstrap=True, max_depth=20, max_features=sqrt, min_samples_leaf=1, min_samples_split=10, n_estimators=1600; total time=  16.4s\n",
      "[CV] END bootstrap=True, max_depth=None, max_features=auto, min_samples_leaf=2, min_samples_split=10, n_estimators=1600; total time=  15.4s\n",
      "[CV] END bootstrap=True, max_depth=70, max_features=auto, min_samples_leaf=2, min_samples_split=2, n_estimators=1400; total time=  14.9s\n",
      "[CV] END bootstrap=False, max_depth=80, max_features=sqrt, min_samples_leaf=1, min_samples_split=10, n_estimators=1000; total time=  14.0s\n",
      "[CV] END bootstrap=False, max_depth=60, max_features=auto, min_samples_leaf=2, min_samples_split=10, n_estimators=2000; total time=  27.1s\n",
      "[CV] END bootstrap=False, max_depth=80, max_features=sqrt, min_samples_leaf=4, min_samples_split=2, n_estimators=1400; total time=  18.2s\n",
      "[CV] END bootstrap=True, max_depth=60, max_features=sqrt, min_samples_leaf=2, min_samples_split=5, n_estimators=1800; total time=  17.8s\n",
      "[CV] END bootstrap=True, max_depth=90, max_features=auto, min_samples_leaf=1, min_samples_split=5, n_estimators=1600; total time=  16.7s\n",
      "[CV] END bootstrap=True, max_depth=None, max_features=sqrt, min_samples_leaf=1, min_samples_split=10, n_estimators=1600; total time=  15.6s\n",
      "[CV] END bootstrap=True, max_depth=100, max_features=sqrt, min_samples_leaf=1, min_samples_split=5, n_estimators=2000; total time=  21.2s\n",
      "[CV] END bootstrap=True, max_depth=100, max_features=auto, min_samples_leaf=2, min_samples_split=10, n_estimators=600; total time=   5.8s\n",
      "[CV] END bootstrap=True, max_depth=100, max_features=auto, min_samples_leaf=2, min_samples_split=10, n_estimators=600; total time=   5.6s[CV] END bootstrap=True, max_depth=30, max_features=sqrt, min_samples_leaf=1, min_samples_split=5, n_estimators=400; total time=   4.3s\n",
      "[CV] END bootstrap=True, max_depth=10, max_features=sqrt, min_samples_leaf=1, min_samples_split=5, n_estimators=2000; total time=  18.1s\n",
      "[CV] END bootstrap=False, max_depth=30, max_features=auto, min_samples_leaf=4, min_samples_split=2, n_estimators=2000; total time=  26.4s\n",
      "[CV] END bootstrap=False, max_depth=30, max_features=sqrt, min_samples_leaf=4, min_samples_split=5, n_estimators=800; total time=  10.4s\n",
      "[CV] END bootstrap=False, max_depth=100, max_features=sqrt, min_samples_leaf=2, min_samples_split=5, n_estimators=1000; total time=  13.8s\n",
      "[CV] END bootstrap=False, max_depth=60, max_features=sqrt, min_samples_leaf=1, min_samples_split=5, n_estimators=600; total time=   9.2s\n",
      "[CV] END bootstrap=False, max_depth=50, max_features=auto, min_samples_leaf=1, min_samples_split=2, n_estimators=1000; total time=  14.6s\n",
      "[CV] END bootstrap=False, max_depth=10, max_features=auto, min_samples_leaf=4, min_samples_split=5, n_estimators=1800; total time=  19.9s\n",
      "[CV] END bootstrap=False, max_depth=10, max_features=sqrt, min_samples_leaf=1, min_samples_split=10, n_estimators=2000; total time=  22.1s\n",
      "[CV] END bootstrap=False, max_depth=10, max_features=sqrt, min_samples_leaf=2, min_samples_split=5, n_estimators=1600; total time=  17.8s\n",
      "[CV] END bootstrap=False, max_depth=50, max_features=auto, min_samples_leaf=4, min_samples_split=2, n_estimators=1800; total time=  23.4s\n",
      "[CV] END bootstrap=True, max_depth=20, max_features=sqrt, min_samples_leaf=1, min_samples_split=2, n_estimators=1000; total time=  10.5s\n",
      "[CV] END bootstrap=True, max_depth=80, max_features=auto, min_samples_leaf=1, min_samples_split=5, n_estimators=600; total time=   6.1s\n",
      "[CV] END bootstrap=True, max_depth=80, max_features=auto, min_samples_leaf=1, min_samples_split=5, n_estimators=600; total time=   6.3s\n",
      "[CV] END bootstrap=True, max_depth=80, max_features=auto, min_samples_leaf=1, min_samples_split=5, n_estimators=600; total time=   6.1s\n",
      "[CV] END bootstrap=False, max_depth=30, max_features=sqrt, min_samples_leaf=1, min_samples_split=10, n_estimators=1800; total time=  25.1s\n",
      "[CV] END bootstrap=False, max_depth=70, max_features=sqrt, min_samples_leaf=1, min_samples_split=5, n_estimators=1600; total time=  23.3s\n",
      "[CV] END bootstrap=True, max_depth=None, max_features=auto, min_samples_leaf=2, min_samples_split=2, n_estimators=1800; total time=  18.2s\n",
      "[CV] END bootstrap=False, max_depth=80, max_features=sqrt, min_samples_leaf=1, min_samples_split=5, n_estimators=1400; total time=  20.1s\n",
      "[CV] END bootstrap=True, max_depth=20, max_features=sqrt, min_samples_leaf=2, min_samples_split=5, n_estimators=1000; total time=  10.1s\n",
      "[CV] END bootstrap=True, max_depth=20, max_features=sqrt, min_samples_leaf=2, min_samples_split=5, n_estimators=1000; total time=  10.0s\n",
      "[CV] END bootstrap=False, max_depth=100, max_features=auto, min_samples_leaf=4, min_samples_split=10, n_estimators=2000; total time=  26.5s\n",
      "[CV] END bootstrap=False, max_depth=20, max_features=sqrt, min_samples_leaf=4, min_samples_split=10, n_estimators=1200; total time=  15.3s\n",
      "[CV] END bootstrap=False, max_depth=50, max_features=sqrt, min_samples_leaf=2, min_samples_split=2, n_estimators=800; total time=  11.2s\n",
      "[CV] END bootstrap=True, max_depth=50, max_features=sqrt, min_samples_leaf=4, min_samples_split=10, n_estimators=800; total time=   7.5s\n",
      "[CV] END bootstrap=True, max_depth=90, max_features=sqrt, min_samples_leaf=4, min_samples_split=2, n_estimators=1800; total time=  17.6s\n",
      "[CV] END bootstrap=False, max_depth=20, max_features=sqrt, min_samples_leaf=2, min_samples_split=10, n_estimators=800; total time=  11.0s\n",
      "[CV] END bootstrap=True, max_depth=100, max_features=auto, min_samples_leaf=1, min_samples_split=2, n_estimators=800; total time=   8.4s\n",
      "[CV] END bootstrap=True, max_depth=None, max_features=auto, min_samples_leaf=2, min_samples_split=5, n_estimators=800; total time=   8.0s\n",
      "[CV] END bootstrap=True, max_depth=60, max_features=sqrt, min_samples_leaf=2, min_samples_split=2, n_estimators=1000; total time=  10.3s\n",
      "[CV] END bootstrap=True, max_depth=60, max_features=sqrt, min_samples_leaf=2, min_samples_split=10, n_estimators=600; total time=   6.1s\n",
      "[CV] END bootstrap=True, max_depth=90, max_features=sqrt, min_samples_leaf=4, min_samples_split=10, n_estimators=400; total time=   3.8s\n",
      "[CV] END bootstrap=False, max_depth=90, max_features=auto, min_samples_leaf=2, min_samples_split=5, n_estimators=200; total time=   2.8s\n",
      "[CV] END bootstrap=True, max_depth=110, max_features=sqrt, min_samples_leaf=1, min_samples_split=2, n_estimators=1000; total time=  10.5s\n",
      "[CV] END bootstrap=True, max_depth=90, max_features=auto, min_samples_leaf=2, min_samples_split=2, n_estimators=2000; total time=  20.5s\n",
      "[CV] END bootstrap=False, max_depth=70, max_features=sqrt, min_samples_leaf=4, min_samples_split=2, n_estimators=1200; total time=  16.1s\n",
      "[CV] END bootstrap=False, max_depth=20, max_features=auto, min_samples_leaf=1, min_samples_split=2, n_estimators=1800; total time=  25.4s\n",
      "[CV] END bootstrap=False, max_depth=50, max_features=auto, min_samples_leaf=2, min_samples_split=10, n_estimators=2000; total time=  27.6s\n",
      "[CV] END bootstrap=False, max_depth=None, max_features=sqrt, min_samples_leaf=2, min_samples_split=5, n_estimators=1400; total time=  19.9s\n",
      "[CV] END bootstrap=False, max_depth=60, max_features=sqrt, min_samples_leaf=4, min_samples_split=2, n_estimators=600; total time=   7.8s\n",
      "[CV] END bootstrap=True, max_depth=10, max_features=auto, min_samples_leaf=1, min_samples_split=5, n_estimators=1600; total time=  14.5s\n",
      "[CV] END bootstrap=True, max_depth=100, max_features=auto, min_samples_leaf=1, min_samples_split=2, n_estimators=1400; total time=  14.9s\n",
      "[CV] END bootstrap=True, max_depth=80, max_features=sqrt, min_samples_leaf=2, min_samples_split=10, n_estimators=1400; total time=  13.8s\n",
      "[CV] END bootstrap=True, max_depth=50, max_features=sqrt, min_samples_leaf=1, min_samples_split=2, n_estimators=200; total time=   2.3s\n",
      "[CV] END bootstrap=True, max_depth=10, max_features=sqrt, min_samples_leaf=4, min_samples_split=2, n_estimators=400; total time=   3.4s\n",
      "[CV] END bootstrap=False, max_depth=80, max_features=auto, min_samples_leaf=4, min_samples_split=10, n_estimators=1000; total time=  13.0s\n",
      "[CV] END bootstrap=True, max_depth=20, max_features=sqrt, min_samples_leaf=1, min_samples_split=10, n_estimators=1600; total time=  15.8s\n",
      "[CV] END bootstrap=True, max_depth=None, max_features=auto, min_samples_leaf=2, min_samples_split=10, n_estimators=1600; total time=  15.6s\n",
      "[CV] END bootstrap=False, max_depth=10, max_features=auto, min_samples_leaf=4, min_samples_split=2, n_estimators=1800; total time=  19.4s\n",
      "[CV] END bootstrap=True, max_depth=70, max_features=auto, min_samples_leaf=2, min_samples_split=2, n_estimators=1400; total time=  14.0s\n",
      "[CV] END bootstrap=False, max_depth=60, max_features=auto, min_samples_leaf=2, min_samples_split=10, n_estimators=2000; total time=  27.6s\n",
      "[CV] END bootstrap=False, max_depth=80, max_features=sqrt, min_samples_leaf=4, min_samples_split=2, n_estimators=1400; total time=  18.7s\n",
      "[CV] END bootstrap=True, max_depth=60, max_features=sqrt, min_samples_leaf=2, min_samples_split=5, n_estimators=1800; total time=  17.7s\n",
      "[CV] END bootstrap=True, max_depth=90, max_features=auto, min_samples_leaf=1, min_samples_split=5, n_estimators=1600; total time=  17.2s\n",
      "[CV] END bootstrap=True, max_depth=None, max_features=sqrt, min_samples_leaf=1, min_samples_split=10, n_estimators=1600; total time=  15.8s\n",
      "[CV] END bootstrap=True, max_depth=10, max_features=sqrt, min_samples_leaf=2, min_samples_split=5, n_estimators=1000; total time=   8.4s\n",
      "[CV] END bootstrap=True, max_depth=10, max_features=sqrt, min_samples_leaf=2, min_samples_split=5, n_estimators=1000; total time=   8.9s\n",
      "[CV] END bootstrap=False, max_depth=60, max_features=auto, min_samples_leaf=4, min_samples_split=2, n_estimators=2000; total time=  26.5s\n",
      "[CV] END bootstrap=True, max_depth=100, max_features=auto, min_samples_leaf=4, min_samples_split=5, n_estimators=1000; total time=   9.3s\n",
      "[CV] END bootstrap=False, max_depth=None, max_features=auto, min_samples_leaf=2, min_samples_split=10, n_estimators=800; total time=  10.6s"
     ]
    },
    {
     "data": {
      "text/plain": [
       "RandomizedSearchCV(cv=3, estimator=RandomForestClassifier(random_state=1),\n",
       "                   n_iter=100, n_jobs=-1,\n",
       "                   param_distributions={'bootstrap': [True, False],\n",
       "                                        'max_depth': [10, 20, 30, 40, 50, 60,\n",
       "                                                      70, 80, 90, 100, 110,\n",
       "                                                      None],\n",
       "                                        'max_features': ['auto', 'sqrt'],\n",
       "                                        'min_samples_leaf': [1, 2, 4],\n",
       "                                        'min_samples_split': [2, 5, 10],\n",
       "                                        'n_estimators': [200, 400, 600, 800,\n",
       "                                                         1000, 1200, 1400, 1600,\n",
       "                                                         1800, 2000]},\n",
       "                   random_state=42, verbose=2)"
      ]
     },
     "execution_count": 23,
     "metadata": {},
     "output_type": "execute_result"
    }
   ],
   "source": [
    "rf_random.fit(X_train, y_train)"
   ]
  },
  {
   "cell_type": "code",
   "execution_count": 24,
   "id": "5099f6c4",
   "metadata": {
    "execution": {
     "iopub.execute_input": "2022-09-25T12:14:05.104553Z",
     "iopub.status.busy": "2022-09-25T12:14:05.104158Z",
     "iopub.status.idle": "2022-09-25T12:14:05.111069Z",
     "shell.execute_reply": "2022-09-25T12:14:05.110065Z"
    },
    "papermill": {
     "duration": 0.020471,
     "end_time": "2022-09-25T12:14:05.113044",
     "exception": false,
     "start_time": "2022-09-25T12:14:05.092573",
     "status": "completed"
    },
    "tags": []
   },
   "outputs": [
    {
     "data": {
      "text/plain": [
       "{'n_estimators': 1600,\n",
       " 'min_samples_split': 5,\n",
       " 'min_samples_leaf': 1,\n",
       " 'max_features': 'auto',\n",
       " 'max_depth': 10,\n",
       " 'bootstrap': True}"
      ]
     },
     "execution_count": 24,
     "metadata": {},
     "output_type": "execute_result"
    }
   ],
   "source": [
    "rf_random.best_params_"
   ]
  },
  {
   "cell_type": "code",
   "execution_count": 25,
   "id": "e57f5875",
   "metadata": {
    "execution": {
     "iopub.execute_input": "2022-09-25T12:14:05.135745Z",
     "iopub.status.busy": "2022-09-25T12:14:05.135378Z",
     "iopub.status.idle": "2022-09-25T12:14:05.142028Z",
     "shell.execute_reply": "2022-09-25T12:14:05.141117Z"
    },
    "papermill": {
     "duration": 0.020662,
     "end_time": "2022-09-25T12:14:05.144200",
     "exception": false,
     "start_time": "2022-09-25T12:14:05.123538",
     "status": "completed"
    },
    "tags": []
   },
   "outputs": [
    {
     "data": {
      "text/plain": [
       "RandomForestClassifier(max_depth=10, min_samples_split=5, n_estimators=1600,\n",
       "                       random_state=1)"
      ]
     },
     "execution_count": 25,
     "metadata": {},
     "output_type": "execute_result"
    }
   ],
   "source": [
    "rf_random.best_estimator_"
   ]
  },
  {
   "cell_type": "markdown",
   "id": "73e0920e",
   "metadata": {
    "papermill": {
     "duration": 0.010513,
     "end_time": "2022-09-25T12:14:05.165621",
     "exception": false,
     "start_time": "2022-09-25T12:14:05.155108",
     "status": "completed"
    },
    "tags": []
   },
   "source": [
    "## Model"
   ]
  },
  {
   "cell_type": "code",
   "execution_count": 26,
   "id": "408594f8",
   "metadata": {
    "execution": {
     "iopub.execute_input": "2022-09-25T12:14:05.188580Z",
     "iopub.status.busy": "2022-09-25T12:14:05.188216Z",
     "iopub.status.idle": "2022-09-25T12:14:05.192672Z",
     "shell.execute_reply": "2022-09-25T12:14:05.191612Z"
    },
    "papermill": {
     "duration": 0.01827,
     "end_time": "2022-09-25T12:14:05.194668",
     "exception": false,
     "start_time": "2022-09-25T12:14:05.176398",
     "status": "completed"
    },
    "tags": []
   },
   "outputs": [],
   "source": [
    "rf = RandomForestClassifier(max_depth=10, min_samples_split=5, n_estimators=1600,\n",
    "                       random_state=1)"
   ]
  },
  {
   "cell_type": "code",
   "execution_count": 27,
   "id": "5b5e92ef",
   "metadata": {
    "execution": {
     "iopub.execute_input": "2022-09-25T12:14:05.217306Z",
     "iopub.status.busy": "2022-09-25T12:14:05.216953Z",
     "iopub.status.idle": "2022-09-25T12:14:47.120256Z",
     "shell.execute_reply": "2022-09-25T12:14:47.119237Z"
    },
    "papermill": {
     "duration": 41.928089,
     "end_time": "2022-09-25T12:14:47.133538",
     "exception": false,
     "start_time": "2022-09-25T12:14:05.205449",
     "status": "completed"
    },
    "tags": []
   },
   "outputs": [
    {
     "name": "stdout",
     "output_type": "stream",
     "text": [
      "0.79700977573318\n"
     ]
    }
   ],
   "source": [
    "rfe = RFE(estimator=rf, n_features_to_select=10)\n",
    "rfe.fit(X_train, y_train)\n",
    "print(rfe.score(X_valid, y_valid))"
   ]
  },
  {
   "cell_type": "code",
   "execution_count": 28,
   "id": "16893022",
   "metadata": {
    "execution": {
     "iopub.execute_input": "2022-09-25T12:14:47.157292Z",
     "iopub.status.busy": "2022-09-25T12:14:47.156654Z",
     "iopub.status.idle": "2022-09-25T12:14:47.162091Z",
     "shell.execute_reply": "2022-09-25T12:14:47.161088Z"
    },
    "papermill": {
     "duration": 0.019901,
     "end_time": "2022-09-25T12:14:47.164363",
     "exception": false,
     "start_time": "2022-09-25T12:14:47.144462",
     "status": "completed"
    },
    "tags": []
   },
   "outputs": [
    {
     "name": "stdout",
     "output_type": "stream",
     "text": [
      "['Age', 'RoomService', 'FoodCourt', 'ShoppingMall', 'Spa', 'VRDeck', 'CryoSleep', 'Name', 'Deck', 'Num']\n"
     ]
    }
   ],
   "source": [
    "rfe_features = [f for (f, support) in zip(X_train.columns, rfe.support_) if support]\n",
    "print(rfe_features)"
   ]
  },
  {
   "cell_type": "code",
   "execution_count": 29,
   "id": "7385e385",
   "metadata": {
    "execution": {
     "iopub.execute_input": "2022-09-25T12:14:47.188296Z",
     "iopub.status.busy": "2022-09-25T12:14:47.187974Z",
     "iopub.status.idle": "2022-09-25T12:15:02.481403Z",
     "shell.execute_reply": "2022-09-25T12:15:02.480455Z"
    },
    "papermill": {
     "duration": 15.308388,
     "end_time": "2022-09-25T12:15:02.483956",
     "exception": false,
     "start_time": "2022-09-25T12:14:47.175568",
     "status": "completed"
    },
    "tags": []
   },
   "outputs": [],
   "source": [
    "rf.fit(X_train[rfe_features], y_train)\n",
    "predictions = rf.predict(df_test[rfe_features])"
   ]
  },
  {
   "cell_type": "code",
   "execution_count": 30,
   "id": "48329535",
   "metadata": {
    "execution": {
     "iopub.execute_input": "2022-09-25T12:15:02.509147Z",
     "iopub.status.busy": "2022-09-25T12:15:02.508461Z",
     "iopub.status.idle": "2022-09-25T12:15:03.295579Z",
     "shell.execute_reply": "2022-09-25T12:15:03.294867Z"
    },
    "papermill": {
     "duration": 0.801852,
     "end_time": "2022-09-25T12:15:03.297627",
     "exception": false,
     "start_time": "2022-09-25T12:15:02.495775",
     "status": "completed"
    },
    "tags": []
   },
   "outputs": [
    {
     "data": {
      "text/plain": [
       "0.79700977573318"
      ]
     },
     "execution_count": 30,
     "metadata": {},
     "output_type": "execute_result"
    }
   ],
   "source": [
    "rf.score(X_valid[rfe_features], y_valid)"
   ]
  },
  {
   "cell_type": "markdown",
   "id": "d7dec771",
   "metadata": {
    "papermill": {
     "duration": 0.011062,
     "end_time": "2022-09-25T12:15:03.320566",
     "exception": false,
     "start_time": "2022-09-25T12:15:03.309504",
     "status": "completed"
    },
    "tags": []
   },
   "source": [
    "# Create Submission"
   ]
  },
  {
   "cell_type": "code",
   "execution_count": 31,
   "id": "ed1a224d",
   "metadata": {
    "execution": {
     "iopub.execute_input": "2022-09-25T12:15:03.345279Z",
     "iopub.status.busy": "2022-09-25T12:15:03.344649Z",
     "iopub.status.idle": "2022-09-25T12:15:03.350345Z",
     "shell.execute_reply": "2022-09-25T12:15:03.349697Z"
    },
    "papermill": {
     "duration": 0.020328,
     "end_time": "2022-09-25T12:15:03.352241",
     "exception": false,
     "start_time": "2022-09-25T12:15:03.331913",
     "status": "completed"
    },
    "tags": []
   },
   "outputs": [],
   "source": [
    "preds = []\n",
    "for pred in predictions:\n",
    "    if pred == 1:\n",
    "        preds.append(True)\n",
    "    else:\n",
    "        preds.append(False)"
   ]
  },
  {
   "cell_type": "code",
   "execution_count": 32,
   "id": "43167ffe",
   "metadata": {
    "execution": {
     "iopub.execute_input": "2022-09-25T12:15:03.376376Z",
     "iopub.status.busy": "2022-09-25T12:15:03.376070Z",
     "iopub.status.idle": "2022-09-25T12:15:03.389230Z",
     "shell.execute_reply": "2022-09-25T12:15:03.388313Z"
    },
    "papermill": {
     "duration": 0.027822,
     "end_time": "2022-09-25T12:15:03.391407",
     "exception": false,
     "start_time": "2022-09-25T12:15:03.363585",
     "status": "completed"
    },
    "tags": []
   },
   "outputs": [],
   "source": [
    "output = pd.DataFrame({'PassengerId': df_test.index, 'Transported': preds})\n",
    "output.to_csv('my_submission.csv', index=False)"
   ]
  }
 ],
 "metadata": {
  "kernelspec": {
   "display_name": "Python 3",
   "language": "python",
   "name": "python3"
  },
  "language_info": {
   "codemirror_mode": {
    "name": "ipython",
    "version": 3
   },
   "file_extension": ".py",
   "mimetype": "text/x-python",
   "name": "python",
   "nbconvert_exporter": "python",
   "pygments_lexer": "ipython3",
   "version": "3.7.12"
  },
  "papermill": {
   "default_parameters": {},
   "duration": 1080.072908,
   "end_time": "2022-09-25T12:15:06.024341",
   "environment_variables": {},
   "exception": null,
   "input_path": "__notebook__.ipynb",
   "output_path": "__notebook__.ipynb",
   "parameters": {},
   "start_time": "2022-09-25T11:57:05.951433",
   "version": "2.3.4"
  }
 },
 "nbformat": 4,
 "nbformat_minor": 5
}
