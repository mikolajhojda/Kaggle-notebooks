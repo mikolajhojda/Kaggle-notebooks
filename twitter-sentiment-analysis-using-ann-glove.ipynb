{
 "cells": [
  {
   "cell_type": "markdown",
   "id": "123c708e",
   "metadata": {
    "papermill": {
     "duration": 0.006602,
     "end_time": "2023-12-23T00:19:54.221060",
     "exception": false,
     "start_time": "2023-12-23T00:19:54.214458",
     "status": "completed"
    },
    "tags": []
   },
   "source": [
    "# Introduction\n",
    "This notebook classifies tweets based on their sentiment.\n",
    "\n",
    "# Setup"
   ]
  },
  {
   "cell_type": "code",
   "execution_count": 1,
   "id": "246ce995",
   "metadata": {
    "_cell_guid": "b1076dfc-b9ad-4769-8c92-a6c4dae69d19",
    "_uuid": "8f2839f25d086af736a60e9eeb907d3b93b6e0e5",
    "execution": {
     "iopub.execute_input": "2023-12-23T00:19:54.234411Z",
     "iopub.status.busy": "2023-12-23T00:19:54.234046Z",
     "iopub.status.idle": "2023-12-23T00:20:16.049713Z",
     "shell.execute_reply": "2023-12-23T00:20:16.048676Z"
    },
    "papermill": {
     "duration": 21.825249,
     "end_time": "2023-12-23T00:20:16.052524",
     "exception": false,
     "start_time": "2023-12-23T00:19:54.227275",
     "status": "completed"
    },
    "tags": []
   },
   "outputs": [
    {
     "name": "stdout",
     "output_type": "stream",
     "text": [
      "/kaggle/input/twitter-entity-sentiment-analysis/twitter_validation.csv\n",
      "/kaggle/input/twitter-entity-sentiment-analysis/twitter_training.csv\n"
     ]
    }
   ],
   "source": [
    "# This Python 3 environment comes with many helpful analytics libraries installed\n",
    "# It is defined by the kaggle/python Docker image: https://github.com/kaggle/docker-python\n",
    "# For example, here's several helpful packages to load\n",
    "\n",
    "import numpy as np # linear algebra\n",
    "import pandas as pd # data processing, CSV file I/O (e.g. pd.read_csv)\n",
    "import matplotlib.pyplot as plt\n",
    "import tensorflow as tf\n",
    "import spacy\n",
    "import re\n",
    "import string\n",
    "\n",
    "from tensorflow import keras\n",
    "from tensorflow.keras.preprocessing.text import Tokenizer\n",
    "from tensorflow.keras.preprocessing.sequence import pad_sequences\n",
    "\n",
    "from tensorflow.keras import optimizers, layers\n",
    "from tensorflow.keras.models import Sequential\n",
    "from tensorflow.keras.layers import Dense, Embedding, Dropout, Flatten\n",
    "\n",
    "from sklearn.model_selection import train_test_split\n",
    "from sklearn.feature_extraction.text import CountVectorizer\n",
    "from sklearn.metrics import confusion_matrix, classification_report, accuracy_score, precision_score, recall_score, f1_score\n",
    "from sklearn.preprocessing import LabelEncoder\n",
    "from sklearn.feature_extraction.text import TfidfVectorizer\n",
    "\n",
    "# Input data files are available in the read-only \"../input/\" directory\n",
    "# For example, running this (by clicking run or pressing Shift+Enter) will list all files under the input directory\n",
    "\n",
    "import os\n",
    "for dirname, _, filenames in os.walk('/kaggle/input'):\n",
    "    for filename in filenames:\n",
    "        print(os.path.join(dirname, filename))\n",
    "        \n",
    "nlp = spacy.load('en_core_web_sm')\n",
    "\n",
    "# You can write up to 20GB to the current directory (/kaggle/working/) that gets preserved as output when you create a version using \"Save & Run All\" \n",
    "# You can also write temporary files to /kaggle/temp/, but they won't be saved outside of the current session"
   ]
  },
  {
   "cell_type": "code",
   "execution_count": 2,
   "id": "bee60460",
   "metadata": {
    "execution": {
     "iopub.execute_input": "2023-12-23T00:20:16.067677Z",
     "iopub.status.busy": "2023-12-23T00:20:16.065627Z",
     "iopub.status.idle": "2023-12-23T00:23:14.211259Z",
     "shell.execute_reply": "2023-12-23T00:23:14.209807Z"
    },
    "papermill": {
     "duration": 178.155323,
     "end_time": "2023-12-23T00:23:14.213744",
     "exception": false,
     "start_time": "2023-12-23T00:20:16.058421",
     "status": "completed"
    },
    "tags": []
   },
   "outputs": [
    {
     "name": "stdout",
     "output_type": "stream",
     "text": [
      "--2023-12-23 00:20:16--  https://downloads.cs.stanford.edu/nlp/data/glove.6B.zip\r\n",
      "Resolving downloads.cs.stanford.edu (downloads.cs.stanford.edu)... 171.64.64.22\r\n",
      "Connecting to downloads.cs.stanford.edu (downloads.cs.stanford.edu)|171.64.64.22|:443... connected.\r\n",
      "HTTP request sent, awaiting response... 200 OK\r\n",
      "Length: 862182613 (822M) [application/zip]\r\n",
      "Saving to: 'glove.6B.zip'\r\n",
      "\r\n",
      "glove.6B.zip        100%[===================>] 822.24M  5.01MB/s    in 2m 39s  \r\n",
      "\r\n",
      "2023-12-23 00:22:55 (5.17 MB/s) - 'glove.6B.zip' saved [862182613/862182613]\r\n",
      "\r\n"
     ]
    }
   ],
   "source": [
    "!wget https://downloads.cs.stanford.edu/nlp/data/glove.6B.zip\n",
    "!unzip -q glove.6B.zip"
   ]
  },
  {
   "cell_type": "code",
   "execution_count": 3,
   "id": "a3393d4b",
   "metadata": {
    "execution": {
     "iopub.execute_input": "2023-12-23T00:23:14.373766Z",
     "iopub.status.busy": "2023-12-23T00:23:14.373391Z",
     "iopub.status.idle": "2023-12-23T00:23:19.513988Z",
     "shell.execute_reply": "2023-12-23T00:23:19.512485Z"
    },
    "papermill": {
     "duration": 5.194262,
     "end_time": "2023-12-23T00:23:19.516825",
     "exception": false,
     "start_time": "2023-12-23T00:23:14.322563",
     "status": "completed"
    },
    "tags": []
   },
   "outputs": [
    {
     "name": "stdout",
     "output_type": "stream",
     "text": [
      "Found 400000 word vectors.\n"
     ]
    }
   ],
   "source": [
    "path_to_glove_file = \"glove.6B.100d.txt\"\n",
    "\n",
    "embeddings_index = {}\n",
    "with open(path_to_glove_file) as f:\n",
    "    for line in f:\n",
    "        word, coefs = line.split(maxsplit=1)\n",
    "        coefs = np.fromstring(coefs, \"f\", sep=\" \")\n",
    "        embeddings_index[word] = coefs\n",
    "\n",
    "print(\"Found %s word vectors.\" % len(embeddings_index))"
   ]
  },
  {
   "cell_type": "code",
   "execution_count": 4,
   "id": "fd926efb",
   "metadata": {
    "execution": {
     "iopub.execute_input": "2023-12-23T00:23:19.619322Z",
     "iopub.status.busy": "2023-12-23T00:23:19.618865Z",
     "iopub.status.idle": "2023-12-23T00:23:19.955198Z",
     "shell.execute_reply": "2023-12-23T00:23:19.954371Z"
    },
    "papermill": {
     "duration": 0.390168,
     "end_time": "2023-12-23T00:23:19.957588",
     "exception": false,
     "start_time": "2023-12-23T00:23:19.567420",
     "status": "completed"
    },
    "tags": []
   },
   "outputs": [],
   "source": [
    "train = pd.read_csv('/kaggle/input/twitter-entity-sentiment-analysis/twitter_training.csv', index_col=0, header=None, names=['entity', 'label', 'text'])\n",
    "test = pd.read_csv('/kaggle/input/twitter-entity-sentiment-analysis/twitter_validation.csv', index_col=0, header=None, names=['entity', 'label', 'text'])"
   ]
  },
  {
   "cell_type": "markdown",
   "id": "1d373e4d",
   "metadata": {
    "papermill": {
     "duration": 0.050329,
     "end_time": "2023-12-23T00:23:20.059170",
     "exception": false,
     "start_time": "2023-12-23T00:23:20.008841",
     "status": "completed"
    },
    "tags": []
   },
   "source": [
    "# Data preprocessing"
   ]
  },
  {
   "cell_type": "code",
   "execution_count": 5,
   "id": "503c01f0",
   "metadata": {
    "execution": {
     "iopub.execute_input": "2023-12-23T00:23:20.162760Z",
     "iopub.status.busy": "2023-12-23T00:23:20.162205Z",
     "iopub.status.idle": "2023-12-23T00:23:20.171421Z",
     "shell.execute_reply": "2023-12-23T00:23:20.170753Z"
    },
    "papermill": {
     "duration": 0.063348,
     "end_time": "2023-12-23T00:23:20.173488",
     "exception": false,
     "start_time": "2023-12-23T00:23:20.110140",
     "status": "completed"
    },
    "tags": []
   },
   "outputs": [],
   "source": [
    "def lowercase(data):\n",
    "    return data['text'].str.lower()\n",
    "\n",
    "def change_punctuation(data):\n",
    "    return data['text'].str.replace('`', \"'\")\n",
    "\n",
    "def remove_numbers(data):\n",
    "    return data['text'].replace('[^a-zA-z.,!?/:;\\\"\\'\\s]', '', regex=True)\n",
    "\n",
    "def remove_special_characters(data):\n",
    "    return data['text'].replace('[^a-zA-Z0-9 ]', '', regex=True)\n",
    "\n",
    "def custom(data):\n",
    "    return data['text'].replace('im', 'i am')\n",
    "    \n",
    "def lemmatize(data):\n",
    "    lemmatized_array = []\n",
    "    \n",
    "    for text in data['text']:\n",
    "        lemmatized_text = []\n",
    "        doc = nlp(text)\n",
    "        for token in doc:\n",
    "            lemmatized_text.append(token.lemma_)\n",
    "        lemmatized_array.append(' '.join(lemmatized_text))\n",
    "    return lemmatized_array\n",
    "\n",
    "def stop_words(data):\n",
    "    stop_words_array = []\n",
    "    for text in data['text']:\n",
    "        doc = nlp(text)\n",
    "        filtered_tokens = [token.text for token in doc if not token.is_stop]\n",
    "        stop_words_array.append(' '.join(filtered_tokens))\n",
    "    return stop_words_array\n",
    "\n",
    "def delete_links(data):\n",
    "    return data['text'].replace(r'http\\S+', '', regex=True)\n",
    "\n",
    "def preprocessing(data):\n",
    "    df = data.copy()\n",
    "    df['text'] = lowercase(df)\n",
    "    df['text'] = custom(df)\n",
    "    df['text'] = change_punctuation(df)\n",
    "    df['text'] = lemmatize(df)\n",
    "    df['text'] = remove_numbers(df)\n",
    "    df['text'] = delete_links(df)\n",
    "    df['text'] = remove_special_characters(df)\n",
    "    return df"
   ]
  },
  {
   "cell_type": "code",
   "execution_count": 6,
   "id": "989d88c8",
   "metadata": {
    "execution": {
     "iopub.execute_input": "2023-12-23T00:23:20.282821Z",
     "iopub.status.busy": "2023-12-23T00:23:20.282242Z",
     "iopub.status.idle": "2023-12-23T00:23:20.326260Z",
     "shell.execute_reply": "2023-12-23T00:23:20.324698Z"
    },
    "papermill": {
     "duration": 0.101541,
     "end_time": "2023-12-23T00:23:20.328587",
     "exception": false,
     "start_time": "2023-12-23T00:23:20.227046",
     "status": "completed"
    },
    "tags": []
   },
   "outputs": [],
   "source": [
    "train.drop_duplicates(subset=['text'], inplace=True)\n",
    "train.reset_index(inplace=True)\n",
    "train['text'] = train['text'].astype('str')\n",
    "test['text'] = test['text'].astype('str')"
   ]
  },
  {
   "cell_type": "code",
   "execution_count": 7,
   "id": "089d6b8d",
   "metadata": {
    "execution": {
     "iopub.execute_input": "2023-12-23T00:23:20.436152Z",
     "iopub.status.busy": "2023-12-23T00:23:20.435663Z",
     "iopub.status.idle": "2023-12-23T00:32:26.656848Z",
     "shell.execute_reply": "2023-12-23T00:32:26.655364Z"
    },
    "papermill": {
     "duration": 546.27894,
     "end_time": "2023-12-23T00:32:26.659517",
     "exception": false,
     "start_time": "2023-12-23T00:23:20.380577",
     "status": "completed"
    },
    "tags": []
   },
   "outputs": [],
   "source": [
    "train = preprocessing(train)\n",
    "test = preprocessing(test)"
   ]
  },
  {
   "cell_type": "code",
   "execution_count": 8,
   "id": "9e7bbeba",
   "metadata": {
    "execution": {
     "iopub.execute_input": "2023-12-23T00:32:26.763486Z",
     "iopub.status.busy": "2023-12-23T00:32:26.761940Z",
     "iopub.status.idle": "2023-12-23T00:32:26.782537Z",
     "shell.execute_reply": "2023-12-23T00:32:26.781179Z"
    },
    "papermill": {
     "duration": 0.075493,
     "end_time": "2023-12-23T00:32:26.785403",
     "exception": false,
     "start_time": "2023-12-23T00:32:26.709910",
     "status": "completed"
    },
    "tags": []
   },
   "outputs": [],
   "source": [
    "le = LabelEncoder()\n",
    "train['label'] = le.fit_transform(train['label'])\n",
    "test['label'] = le.transform(test['label'])\n",
    "\n",
    "X = train['text']\n",
    "y = train['label']"
   ]
  },
  {
   "cell_type": "markdown",
   "id": "83ec8673",
   "metadata": {
    "papermill": {
     "duration": 0.050925,
     "end_time": "2023-12-23T00:32:26.887791",
     "exception": false,
     "start_time": "2023-12-23T00:32:26.836866",
     "status": "completed"
    },
    "tags": []
   },
   "source": [
    "# Data splitting"
   ]
  },
  {
   "cell_type": "code",
   "execution_count": 9,
   "id": "d8c3abca",
   "metadata": {
    "execution": {
     "iopub.execute_input": "2023-12-23T00:32:26.992818Z",
     "iopub.status.busy": "2023-12-23T00:32:26.992454Z",
     "iopub.status.idle": "2023-12-23T00:32:27.118987Z",
     "shell.execute_reply": "2023-12-23T00:32:27.117350Z"
    },
    "papermill": {
     "duration": 0.180724,
     "end_time": "2023-12-23T00:32:27.121774",
     "exception": false,
     "start_time": "2023-12-23T00:32:26.941050",
     "status": "completed"
    },
    "tags": []
   },
   "outputs": [],
   "source": [
    "max_words = 10000\n",
    "maxlen = 200\n",
    "emb_dim = 50\n",
    "training_samples = int(len(X)*0.8)\n",
    "\n",
    "text_dataset = tf.data.Dataset.from_tensor_slices(X)\n",
    "\n",
    "X_train, X_valid, y_train, y_valid = train_test_split(X, y, test_size=0.2, random_state=42)"
   ]
  },
  {
   "cell_type": "markdown",
   "id": "a71e5850",
   "metadata": {
    "papermill": {
     "duration": 0.049422,
     "end_time": "2023-12-23T00:32:27.221790",
     "exception": false,
     "start_time": "2023-12-23T00:32:27.172368",
     "status": "completed"
    },
    "tags": []
   },
   "source": [
    "# Text Vectorization"
   ]
  },
  {
   "cell_type": "code",
   "execution_count": 10,
   "id": "0a72aa15",
   "metadata": {
    "execution": {
     "iopub.execute_input": "2023-12-23T00:32:27.326676Z",
     "iopub.status.busy": "2023-12-23T00:32:27.326287Z",
     "iopub.status.idle": "2023-12-23T00:32:30.107133Z",
     "shell.execute_reply": "2023-12-23T00:32:30.105293Z"
    },
    "papermill": {
     "duration": 2.836946,
     "end_time": "2023-12-23T00:32:30.110342",
     "exception": false,
     "start_time": "2023-12-23T00:32:27.273396",
     "status": "completed"
    },
    "tags": []
   },
   "outputs": [],
   "source": [
    "max_features = 20000\n",
    "embedding_dim = 128\n",
    "\n",
    "vectorize_layer = tf.keras.layers.TextVectorization(\n",
    "        max_tokens=max_words,\n",
    "        output_mode='int',\n",
    "        output_sequence_length=maxlen\n",
    "        )\n",
    "\n",
    "vectorize_layer.adapt(text_dataset.batch(64))  "
   ]
  },
  {
   "cell_type": "code",
   "execution_count": 11,
   "id": "d388454a",
   "metadata": {
    "execution": {
     "iopub.execute_input": "2023-12-23T00:32:30.215028Z",
     "iopub.status.busy": "2023-12-23T00:32:30.214675Z",
     "iopub.status.idle": "2023-12-23T00:32:30.239512Z",
     "shell.execute_reply": "2023-12-23T00:32:30.238155Z"
    },
    "papermill": {
     "duration": 0.079868,
     "end_time": "2023-12-23T00:32:30.242072",
     "exception": false,
     "start_time": "2023-12-23T00:32:30.162204",
     "status": "completed"
    },
    "tags": []
   },
   "outputs": [],
   "source": [
    "voc = vectorize_layer.get_vocabulary()\n",
    "word_index = dict(zip(voc, range(len(voc))))"
   ]
  },
  {
   "cell_type": "markdown",
   "id": "90387ef8",
   "metadata": {
    "papermill": {
     "duration": 0.052196,
     "end_time": "2023-12-23T00:32:30.346300",
     "exception": false,
     "start_time": "2023-12-23T00:32:30.294104",
     "status": "completed"
    },
    "tags": []
   },
   "source": [
    "# Embedding"
   ]
  },
  {
   "cell_type": "code",
   "execution_count": 12,
   "id": "aabda605",
   "metadata": {
    "execution": {
     "iopub.execute_input": "2023-12-23T00:32:30.451796Z",
     "iopub.status.busy": "2023-12-23T00:32:30.451437Z",
     "iopub.status.idle": "2023-12-23T00:32:30.483339Z",
     "shell.execute_reply": "2023-12-23T00:32:30.481930Z"
    },
    "papermill": {
     "duration": 0.088379,
     "end_time": "2023-12-23T00:32:30.486198",
     "exception": false,
     "start_time": "2023-12-23T00:32:30.397819",
     "status": "completed"
    },
    "tags": []
   },
   "outputs": [
    {
     "name": "stdout",
     "output_type": "stream",
     "text": [
      "Converted 8305 words (1695 misses)\n"
     ]
    }
   ],
   "source": [
    "num_tokens = len(voc) + 2\n",
    "embedding_dim = 100\n",
    "hits = 0\n",
    "misses = 0\n",
    "\n",
    "embedding_matrix = np.zeros((num_tokens, embedding_dim))\n",
    "for word, i in word_index.items():\n",
    "    embedding_vector = embeddings_index.get(word)\n",
    "    if embedding_vector is not None:\n",
    "        embedding_matrix[i] = embedding_vector\n",
    "        hits += 1\n",
    "    else:\n",
    "        misses += 1\n",
    "print(\"Converted %d words (%d misses)\" % (hits, misses))"
   ]
  },
  {
   "cell_type": "code",
   "execution_count": 13,
   "id": "ca9efab2",
   "metadata": {
    "execution": {
     "iopub.execute_input": "2023-12-23T00:32:30.601820Z",
     "iopub.status.busy": "2023-12-23T00:32:30.601418Z",
     "iopub.status.idle": "2023-12-23T00:32:30.638764Z",
     "shell.execute_reply": "2023-12-23T00:32:30.638036Z"
    },
    "papermill": {
     "duration": 0.104157,
     "end_time": "2023-12-23T00:32:30.640985",
     "exception": false,
     "start_time": "2023-12-23T00:32:30.536828",
     "status": "completed"
    },
    "tags": []
   },
   "outputs": [],
   "source": [
    "embedding_layer = Embedding(\n",
    "    num_tokens,\n",
    "    embedding_dim,\n",
    "    trainable=False,\n",
    ")\n",
    "embedding_layer.build((1,))\n",
    "embedding_layer.set_weights([embedding_matrix])"
   ]
  },
  {
   "cell_type": "markdown",
   "id": "5546aea7",
   "metadata": {
    "papermill": {
     "duration": 0.050797,
     "end_time": "2023-12-23T00:32:30.743313",
     "exception": false,
     "start_time": "2023-12-23T00:32:30.692516",
     "status": "completed"
    },
    "tags": []
   },
   "source": [
    "# Model"
   ]
  },
  {
   "cell_type": "code",
   "execution_count": 14,
   "id": "9c351b3e",
   "metadata": {
    "execution": {
     "iopub.execute_input": "2023-12-23T00:32:30.849408Z",
     "iopub.status.busy": "2023-12-23T00:32:30.848026Z",
     "iopub.status.idle": "2023-12-23T00:32:31.049235Z",
     "shell.execute_reply": "2023-12-23T00:32:31.048082Z"
    },
    "papermill": {
     "duration": 0.25678,
     "end_time": "2023-12-23T00:32:31.051710",
     "exception": false,
     "start_time": "2023-12-23T00:32:30.794930",
     "status": "completed"
    },
    "tags": []
   },
   "outputs": [],
   "source": [
    "model = keras.Sequential([\n",
    "    layers.Input(shape=(1,), dtype=tf.string),\n",
    "    vectorize_layer,\n",
    "    embedding_layer,\n",
    "    Flatten(),\n",
    "    Dense(256, activation='relu'),\n",
    "    Dropout(0.5),\n",
    "    Dense(128, activation='relu'),\n",
    "    Dense(64, activation='relu'),\n",
    "    Dense(32, activation='relu'),\n",
    "    Dropout(0.5),\n",
    "    Dense(4, activation='softmax'),\n",
    "])\n",
    "model.compile(loss='sparse_categorical_crossentropy', optimizer='adam', metrics=['accuracy'])"
   ]
  },
  {
   "cell_type": "code",
   "execution_count": 15,
   "id": "307c9f2c",
   "metadata": {
    "execution": {
     "iopub.execute_input": "2023-12-23T00:32:31.153646Z",
     "iopub.status.busy": "2023-12-23T00:32:31.153285Z",
     "iopub.status.idle": "2023-12-23T01:02:12.768062Z",
     "shell.execute_reply": "2023-12-23T01:02:12.766295Z"
    },
    "papermill": {
     "duration": 1781.669011,
     "end_time": "2023-12-23T01:02:12.770817",
     "exception": false,
     "start_time": "2023-12-23T00:32:31.101806",
     "status": "completed"
    },
    "tags": []
   },
   "outputs": [
    {
     "name": "stdout",
     "output_type": "stream",
     "text": [
      "Epoch 1/50\n",
      "869/869 [==============================] - 36s 40ms/step - loss: 1.3207 - accuracy: 0.3786 - val_loss: 1.2132 - val_accuracy: 0.4820\n",
      "Epoch 2/50\n",
      "869/869 [==============================] - 35s 40ms/step - loss: 1.2095 - accuracy: 0.4759 - val_loss: 1.1236 - val_accuracy: 0.5251\n",
      "Epoch 3/50\n",
      "869/869 [==============================] - 35s 40ms/step - loss: 1.1365 - accuracy: 0.5197 - val_loss: 1.0936 - val_accuracy: 0.5470\n",
      "Epoch 4/50\n",
      "869/869 [==============================] - 34s 39ms/step - loss: 1.0837 - accuracy: 0.5483 - val_loss: 1.0412 - val_accuracy: 0.5644\n",
      "Epoch 5/50\n",
      "869/869 [==============================] - 35s 40ms/step - loss: 1.0230 - accuracy: 0.5790 - val_loss: 0.9979 - val_accuracy: 0.5864\n",
      "Epoch 6/50\n",
      "869/869 [==============================] - 35s 40ms/step - loss: 0.9598 - accuracy: 0.6072 - val_loss: 0.9737 - val_accuracy: 0.5995\n",
      "Epoch 7/50\n",
      "869/869 [==============================] - 34s 39ms/step - loss: 0.9092 - accuracy: 0.6319 - val_loss: 0.9554 - val_accuracy: 0.6115\n",
      "Epoch 8/50\n",
      "869/869 [==============================] - 34s 39ms/step - loss: 0.8561 - accuracy: 0.6554 - val_loss: 0.9350 - val_accuracy: 0.6320\n",
      "Epoch 9/50\n",
      "869/869 [==============================] - 35s 40ms/step - loss: 0.8122 - accuracy: 0.6741 - val_loss: 0.9141 - val_accuracy: 0.6447\n",
      "Epoch 10/50\n",
      "869/869 [==============================] - 35s 40ms/step - loss: 0.7818 - accuracy: 0.6892 - val_loss: 0.9066 - val_accuracy: 0.6453\n",
      "Epoch 11/50\n",
      "869/869 [==============================] - 35s 40ms/step - loss: 0.7485 - accuracy: 0.7050 - val_loss: 0.8829 - val_accuracy: 0.6572\n",
      "Epoch 12/50\n",
      "869/869 [==============================] - 36s 41ms/step - loss: 0.7136 - accuracy: 0.7195 - val_loss: 0.8816 - val_accuracy: 0.6662\n",
      "Epoch 13/50\n",
      "869/869 [==============================] - 36s 42ms/step - loss: 0.6894 - accuracy: 0.7270 - val_loss: 0.8845 - val_accuracy: 0.6669\n",
      "Epoch 14/50\n",
      "869/869 [==============================] - 38s 44ms/step - loss: 0.6646 - accuracy: 0.7403 - val_loss: 0.8809 - val_accuracy: 0.6718\n",
      "Epoch 15/50\n",
      "869/869 [==============================] - 49s 57ms/step - loss: 0.6456 - accuracy: 0.7470 - val_loss: 0.8744 - val_accuracy: 0.6740\n",
      "Epoch 16/50\n",
      "869/869 [==============================] - 37s 43ms/step - loss: 0.6186 - accuracy: 0.7570 - val_loss: 0.8616 - val_accuracy: 0.6804\n",
      "Epoch 17/50\n",
      "869/869 [==============================] - 37s 42ms/step - loss: 0.6084 - accuracy: 0.7620 - val_loss: 0.8850 - val_accuracy: 0.6807\n",
      "Epoch 18/50\n",
      "869/869 [==============================] - 37s 43ms/step - loss: 0.5924 - accuracy: 0.7700 - val_loss: 0.8725 - val_accuracy: 0.6871\n",
      "Epoch 19/50\n",
      "869/869 [==============================] - 37s 43ms/step - loss: 0.5751 - accuracy: 0.7766 - val_loss: 0.8806 - val_accuracy: 0.6840\n",
      "Epoch 20/50\n",
      "869/869 [==============================] - 37s 42ms/step - loss: 0.5610 - accuracy: 0.7847 - val_loss: 0.8573 - val_accuracy: 0.6948\n",
      "Epoch 21/50\n",
      "869/869 [==============================] - 36s 42ms/step - loss: 0.5483 - accuracy: 0.7885 - val_loss: 0.8576 - val_accuracy: 0.6980\n",
      "Epoch 22/50\n",
      "869/869 [==============================] - 40s 46ms/step - loss: 0.5379 - accuracy: 0.7929 - val_loss: 0.8740 - val_accuracy: 0.6979\n",
      "Epoch 23/50\n",
      "869/869 [==============================] - 38s 44ms/step - loss: 0.5247 - accuracy: 0.7986 - val_loss: 0.8449 - val_accuracy: 0.7030\n",
      "Epoch 24/50\n",
      "869/869 [==============================] - 36s 42ms/step - loss: 0.5194 - accuracy: 0.8012 - val_loss: 0.8742 - val_accuracy: 0.7060\n",
      "Epoch 25/50\n",
      "869/869 [==============================] - 39s 45ms/step - loss: 0.5034 - accuracy: 0.8087 - val_loss: 0.8584 - val_accuracy: 0.6949\n",
      "Epoch 26/50\n",
      "869/869 [==============================] - 36s 41ms/step - loss: 0.4996 - accuracy: 0.8100 - val_loss: 0.8704 - val_accuracy: 0.7058\n",
      "Epoch 27/50\n",
      "869/869 [==============================] - 34s 39ms/step - loss: 0.4834 - accuracy: 0.8161 - val_loss: 0.8804 - val_accuracy: 0.7051\n",
      "Epoch 28/50\n",
      "869/869 [==============================] - 35s 40ms/step - loss: 0.4803 - accuracy: 0.8177 - val_loss: 0.8857 - val_accuracy: 0.7048\n",
      "Epoch 29/50\n",
      "869/869 [==============================] - 35s 41ms/step - loss: 0.4669 - accuracy: 0.8233 - val_loss: 0.9027 - val_accuracy: 0.7017\n",
      "Epoch 30/50\n",
      "869/869 [==============================] - 36s 42ms/step - loss: 0.4662 - accuracy: 0.8237 - val_loss: 0.8983 - val_accuracy: 0.7077\n",
      "Epoch 31/50\n",
      "869/869 [==============================] - 37s 43ms/step - loss: 0.4644 - accuracy: 0.8263 - val_loss: 0.8907 - val_accuracy: 0.7111\n",
      "Epoch 32/50\n",
      "869/869 [==============================] - 36s 42ms/step - loss: 0.4520 - accuracy: 0.8281 - val_loss: 0.8943 - val_accuracy: 0.7096\n",
      "Epoch 33/50\n",
      "869/869 [==============================] - 36s 42ms/step - loss: 0.4431 - accuracy: 0.8304 - val_loss: 0.9019 - val_accuracy: 0.7090\n",
      "Epoch 34/50\n",
      "869/869 [==============================] - 35s 40ms/step - loss: 0.4339 - accuracy: 0.8342 - val_loss: 0.9141 - val_accuracy: 0.7117\n",
      "Epoch 35/50\n",
      "869/869 [==============================] - 34s 39ms/step - loss: 0.4304 - accuracy: 0.8381 - val_loss: 0.8929 - val_accuracy: 0.7149\n",
      "Epoch 36/50\n",
      "869/869 [==============================] - 36s 42ms/step - loss: 0.4253 - accuracy: 0.8388 - val_loss: 0.9190 - val_accuracy: 0.7098\n",
      "Epoch 37/50\n",
      "869/869 [==============================] - 36s 42ms/step - loss: 0.4173 - accuracy: 0.8417 - val_loss: 0.9042 - val_accuracy: 0.7160\n",
      "Epoch 38/50\n",
      "869/869 [==============================] - 35s 40ms/step - loss: 0.4165 - accuracy: 0.8421 - val_loss: 0.9052 - val_accuracy: 0.7165\n",
      "Epoch 39/50\n",
      "869/869 [==============================] - 34s 39ms/step - loss: 0.4119 - accuracy: 0.8455 - val_loss: 0.9403 - val_accuracy: 0.7146\n",
      "Epoch 40/50\n",
      "869/869 [==============================] - 34s 39ms/step - loss: 0.4038 - accuracy: 0.8462 - val_loss: 0.9375 - val_accuracy: 0.7177\n",
      "Epoch 41/50\n",
      "869/869 [==============================] - 34s 40ms/step - loss: 0.3982 - accuracy: 0.8480 - val_loss: 0.9243 - val_accuracy: 0.7106\n",
      "Epoch 42/50\n",
      "869/869 [==============================] - 34s 39ms/step - loss: 0.3945 - accuracy: 0.8500 - val_loss: 0.9126 - val_accuracy: 0.7175\n",
      "Epoch 43/50\n",
      "869/869 [==============================] - 34s 39ms/step - loss: 0.3889 - accuracy: 0.8541 - val_loss: 0.9485 - val_accuracy: 0.7228\n",
      "Epoch 44/50\n",
      "869/869 [==============================] - 33s 38ms/step - loss: 0.3894 - accuracy: 0.8543 - val_loss: 0.9508 - val_accuracy: 0.7183\n",
      "Epoch 45/50\n",
      "869/869 [==============================] - 33s 38ms/step - loss: 0.3760 - accuracy: 0.8585 - val_loss: 0.9680 - val_accuracy: 0.7193\n",
      "Epoch 46/50\n",
      "869/869 [==============================] - 33s 38ms/step - loss: 0.3744 - accuracy: 0.8604 - val_loss: 0.9576 - val_accuracy: 0.7186\n",
      "Epoch 47/50\n",
      "869/869 [==============================] - 34s 39ms/step - loss: 0.3754 - accuracy: 0.8580 - val_loss: 0.9410 - val_accuracy: 0.7124\n",
      "Epoch 48/50\n",
      "869/869 [==============================] - 33s 38ms/step - loss: 0.3725 - accuracy: 0.8611 - val_loss: 0.9578 - val_accuracy: 0.7113\n",
      "Epoch 49/50\n",
      "869/869 [==============================] - 34s 39ms/step - loss: 0.3644 - accuracy: 0.8627 - val_loss: 0.9578 - val_accuracy: 0.7184\n",
      "Epoch 50/50\n",
      "869/869 [==============================] - 33s 38ms/step - loss: 0.3635 - accuracy: 0.8632 - val_loss: 0.9334 - val_accuracy: 0.7142\n"
     ]
    }
   ],
   "source": [
    "cl = [tf.keras.callbacks.EarlyStopping(\n",
    "                  monitor='val_accuracy',\n",
    "                  restore_best_weights=True,\n",
    "                  patience=10)] \n",
    "\n",
    "history = model.fit(X_train, y_train, validation_data=(X_valid, y_valid), epochs=50, batch_size=64, callbacks = cl)"
   ]
  },
  {
   "cell_type": "markdown",
   "id": "eeccf03e",
   "metadata": {
    "papermill": {
     "duration": 1.451811,
     "end_time": "2023-12-23T01:02:15.675091",
     "exception": false,
     "start_time": "2023-12-23T01:02:14.223280",
     "status": "completed"
    },
    "tags": []
   },
   "source": [
    "# Evaluation"
   ]
  },
  {
   "cell_type": "code",
   "execution_count": 16,
   "id": "fb030298",
   "metadata": {
    "execution": {
     "iopub.execute_input": "2023-12-23T01:02:18.572548Z",
     "iopub.status.busy": "2023-12-23T01:02:18.571991Z",
     "iopub.status.idle": "2023-12-23T01:02:19.077800Z",
     "shell.execute_reply": "2023-12-23T01:02:19.076361Z"
    },
    "papermill": {
     "duration": 1.954145,
     "end_time": "2023-12-23T01:02:19.080451",
     "exception": false,
     "start_time": "2023-12-23T01:02:17.126306",
     "status": "completed"
    },
    "tags": []
   },
   "outputs": [
    {
     "data": {
      "text/plain": [
       "<Axes: >"
      ]
     },
     "execution_count": 16,
     "metadata": {},
     "output_type": "execute_result"
    },
    {
     "data": {
      "image/png": "[encoded data removed]",
      "text/plain": [
       "<Figure size 640x480 with 1 Axes>"
      ]
     },
     "metadata": {},
     "output_type": "display_data"
    },
    {
     "data": {
      "image/png": "[encoded data removed]",
      "text/plain": [
       "<Figure size 640x480 with 1 Axes>"
      ]
     },
     "metadata": {},
     "output_type": "display_data"
    }
   ],
   "source": [
    "history_frame = pd.DataFrame(history.history)\n",
    "history_frame.loc[:, ['loss', 'val_loss']].plot()\n",
    "history_frame.loc[:, ['accuracy', 'val_accuracy']].plot()"
   ]
  },
  {
   "cell_type": "code",
   "execution_count": 17,
   "id": "c1a3045c",
   "metadata": {
    "execution": {
     "iopub.execute_input": "2023-12-23T01:02:22.002049Z",
     "iopub.status.busy": "2023-12-23T01:02:22.001366Z",
     "iopub.status.idle": "2023-12-23T01:02:22.503413Z",
     "shell.execute_reply": "2023-12-23T01:02:22.502304Z"
    },
    "papermill": {
     "duration": 1.963406,
     "end_time": "2023-12-23T01:02:22.505726",
     "exception": false,
     "start_time": "2023-12-23T01:02:20.542320",
     "status": "completed"
    },
    "tags": []
   },
   "outputs": [
    {
     "name": "stdout",
     "output_type": "stream",
     "text": [
      "32/32 [==============================] - 0s 7ms/step\n"
     ]
    }
   ],
   "source": [
    "predictions = model.predict(test['text'])"
   ]
  },
  {
   "cell_type": "code",
   "execution_count": 18,
   "id": "7f28fa56",
   "metadata": {
    "execution": {
     "iopub.execute_input": "2023-12-23T01:02:25.369963Z",
     "iopub.status.busy": "2023-12-23T01:02:25.369346Z",
     "iopub.status.idle": "2023-12-23T01:02:25.374742Z",
     "shell.execute_reply": "2023-12-23T01:02:25.374015Z"
    },
    "papermill": {
     "duration": 1.498546,
     "end_time": "2023-12-23T01:02:25.376630",
     "exception": false,
     "start_time": "2023-12-23T01:02:23.878084",
     "status": "completed"
    },
    "tags": []
   },
   "outputs": [],
   "source": [
    "test['label'] = le.fit_transform(test['label'])"
   ]
  },
  {
   "cell_type": "code",
   "execution_count": 19,
   "id": "e257fcb3",
   "metadata": {
    "execution": {
     "iopub.execute_input": "2023-12-23T01:02:28.251819Z",
     "iopub.status.busy": "2023-12-23T01:02:28.251181Z",
     "iopub.status.idle": "2023-12-23T01:02:28.258823Z",
     "shell.execute_reply": "2023-12-23T01:02:28.257360Z"
    },
    "papermill": {
     "duration": 1.448488,
     "end_time": "2023-12-23T01:02:28.261532",
     "exception": false,
     "start_time": "2023-12-23T01:02:26.813044",
     "status": "completed"
    },
    "tags": []
   },
   "outputs": [],
   "source": [
    "predicted_labels = []\n",
    "\n",
    "for predictions_array in predictions:\n",
    "    predicted_labels.append(np.argmax(predictions_array))"
   ]
  },
  {
   "cell_type": "code",
   "execution_count": 20,
   "id": "8d569145",
   "metadata": {
    "execution": {
     "iopub.execute_input": "2023-12-23T01:02:31.188700Z",
     "iopub.status.busy": "2023-12-23T01:02:31.187959Z",
     "iopub.status.idle": "2023-12-23T01:02:31.197264Z",
     "shell.execute_reply": "2023-12-23T01:02:31.196393Z"
    },
    "papermill": {
     "duration": 1.490373,
     "end_time": "2023-12-23T01:02:31.199022",
     "exception": false,
     "start_time": "2023-12-23T01:02:29.708649",
     "status": "completed"
    },
    "tags": []
   },
   "outputs": [
    {
     "data": {
      "text/plain": [
       "0.905"
      ]
     },
     "execution_count": 20,
     "metadata": {},
     "output_type": "execute_result"
    }
   ],
   "source": [
    "from sklearn.metrics import accuracy_score\n",
    "\n",
    "accuracy_score(predicted_labels, test['label'])"
   ]
  }
 ],
 "metadata": {
  "kaggle": {
   "accelerator": "none",
   "dataSources": [
    {
     "datasetId": 1520310,
     "sourceId": 2510329,
     "sourceType": "datasetVersion"
    }
   ],
   "dockerImageVersionId": 30626,
   "isGpuEnabled": false,
   "isInternetEnabled": true,
   "language": "python",
   "sourceType": "notebook"
  },
  "kernelspec": {
   "display_name": "Python 3",
   "language": "python",
   "name": "python3"
  },
  "language_info": {
   "codemirror_mode": {
    "name": "ipython",
    "version": 3
   },
   "file_extension": ".py",
   "mimetype": "text/x-python",
   "name": "python",
   "nbconvert_exporter": "python",
   "pygments_lexer": "ipython3",
   "version": "3.10.12"
  },
  "papermill": {
   "default_parameters": {},
   "duration": 2564.666768,
   "end_time": "2023-12-23T01:02:36.186514",
   "environment_variables": {},
   "exception": null,
   "input_path": "__notebook__.ipynb",
   "output_path": "__notebook__.ipynb",
   "parameters": {},
   "start_time": "2023-12-23T00:19:51.519746",
   "version": "2.4.0"
  }
 },
 "nbformat": 4,
 "nbformat_minor": 5
}
